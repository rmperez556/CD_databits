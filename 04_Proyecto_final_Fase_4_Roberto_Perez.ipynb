{
  "cells": [
    {
      "cell_type": "markdown",
      "metadata": {
        "id": "view-in-github",
        "colab_type": "text"
      },
      "source": [
        "<a href=\"https://colab.research.google.com/github/rmperez556/CD_databits/blob/main/04_Proyecto_final_Fase_4_Roberto_Perez.ipynb\" target=\"_parent\"><img src=\"https://colab.research.google.com/assets/colab-badge.svg\" alt=\"Open In Colab\"/></a>"
      ]
    },
    {
      "cell_type": "markdown",
      "source": [
        "\n",
        "<div style=\"text-align: center; line-height: 0; padding-top: 9px;\">\n",
        "  <img src=\"https://storage.googleapis.com/datasets-academy/public-img/notebooks/headers/databits-header-notebook.png\" alt=\"Databricks Learning\" style=\"width: 100%;\">\n",
        "</div>"
      ],
      "metadata": {
        "application/vnd.databricks.v1+cell": {
          "title": "",
          "showTitle": false,
          "inputWidgets": {},
          "nuid": "ee6a5c99-5d71-43b3-b72a-0f15ac832334"
        },
        "id": "GXRklvPx1Dfa"
      }
    },
    {
      "cell_type": "markdown",
      "source": [
        "\n",
        "\n",
        "# <center>  Proyecto Final - Fase 4  </center>\n",
        "\n",
        "## Descripción\n",
        "- En esta sección construiremos 3 redes neuronales profundas para un problema de clasificación.\n",
        "- Trabajeremos con las librerías Tensorflow y Keras.\n",
        "  \n",
        "<img alt=\"Caution\" title=\"Caution\" style=\"vertical-align: text-bottom; position: relative; height:1.3em; top:0.0em\" src=\"https://storage.googleapis.com/datasets-academy/public-img/notebooks/icons/danger.png\"/> **Disclaimer:** Este material ha sido preparado por el equipo de **handytec Academy®**. Se prohibe la publicación o reproducción de este material sin previa autorización de **handytec Academy®** - 2022 Todos los derechos reservados."
      ],
      "metadata": {
        "application/vnd.databricks.v1+cell": {
          "title": "",
          "showTitle": false,
          "inputWidgets": {},
          "nuid": "1fdc9d5c-4504-4078-a75f-098e443eb2ff"
        },
        "id": "ncR3s-ag1Dff"
      }
    },
    {
      "cell_type": "markdown",
      "source": [
        "## Problema de negocio"
      ],
      "metadata": {
        "application/vnd.databricks.v1+cell": {
          "title": "",
          "showTitle": false,
          "inputWidgets": {},
          "nuid": "04a14081-59ce-4add-acb6-9ab66ece8b2e"
        },
        "id": "AfCa2Y2c1Dfh"
      }
    },
    {
      "cell_type": "markdown",
      "source": [
        "Un problema imperante en el entorno bancario a nivel global se enfoca en el riesgo crediticio o riesgo de impago. \n",
        "  \n",
        "Este aspecto hace refencia a las pérdidas que incurren los bancos dado que los prestamistas son incapaces de devolver los créditos otorgados. \n",
        "\n",
        "Lo cual conlleva la siguiente pregunta: **¿Cómo poder reducir el número de personas que caen en mora crediticia?** \n",
        "  \n",
        "Aspecto que se aborda a continuación."
      ],
      "metadata": {
        "application/vnd.databricks.v1+cell": {
          "title": "",
          "showTitle": false,
          "inputWidgets": {},
          "nuid": "f9e2027e-348b-4f84-9a48-a35c03242d3b"
        },
        "id": "zZYNpRT91Dfh"
      }
    },
    {
      "cell_type": "markdown",
      "source": [
        "## Objetivos del proyecto"
      ],
      "metadata": {
        "application/vnd.databricks.v1+cell": {
          "title": "",
          "showTitle": false,
          "inputWidgets": {},
          "nuid": "9da42ca7-353e-483e-9f3c-8b8b2cec9967"
        },
        "id": "n4SeZJHQ1Dfi"
      }
    },
    {
      "cell_type": "markdown",
      "source": [
        "El objetivo de este proyecto es construir un modelo que los prestatarios puedan usar para ayudar a tomar las mejores decisiones financieras.\n",
        "\n",
        "Mediante el uso de diferentes algoritmos se obtendrá la probabilidad de impago en cada individuo. El principal indicador que se va usar para ver la bonanza de los distintos modelos va a ser el AUC (Area Under the Curve) generado por las curvas ROC."
      ],
      "metadata": {
        "application/vnd.databricks.v1+cell": {
          "title": "",
          "showTitle": false,
          "inputWidgets": {},
          "nuid": "32ce9f43-46ef-4a66-970b-13aaf2ff18ca"
        },
        "id": "8AnCCOCQ1Dfi"
      }
    },
    {
      "cell_type": "markdown",
      "source": [
        "## Importar librerías y verificar versiones"
      ],
      "metadata": {
        "application/vnd.databricks.v1+cell": {
          "title": "",
          "showTitle": false,
          "inputWidgets": {},
          "nuid": "226018b0-7d38-4bdc-8eae-7e63b7e9a90c"
        },
        "id": "1iRad6C-1Dfj"
      }
    },
    {
      "cell_type": "code",
      "source": [
        "import sys\n",
        "import numpy as np\n",
        "import pandas as pd\n",
        "import sklearn as sk\n",
        "import tensorflow as tf\n",
        "from tensorflow import keras\n",
        "# Librerías para visualización\n",
        "import seaborn as sns\n",
        "import matplotlib\n",
        "import matplotlib.pyplot as plt"
      ],
      "metadata": {
        "application/vnd.databricks.v1+cell": {
          "title": "",
          "showTitle": false,
          "inputWidgets": {},
          "nuid": "36d0f29c-b8df-49a1-92cd-6e37430e0adb"
        },
        "id": "G5F5frcd1Dfk"
      },
      "outputs": [],
      "execution_count": null
    },
    {
      "cell_type": "code",
      "source": [
        "print('** Versiones Actuales                     | Requeridas **')\n",
        "print('Python:\\nVersion Actual:', sys.version, ' | Requerida >= 3.6')\n",
        "print('NumPy:\\nVersion Actual: {:10}             | Requerida >= 1.16.2'.format(np.__version__))\n",
        "print('Pandas:\\nVersion Actual: {:10}            | Requerida >= 0.24.2'.format(pd.__version__))\n",
        "print('Scikit-learn:\\nVersion Actual: {:10}      | Requerida >= 1.2.1'.format(sk.__version__))\n",
        "print('Matplotlib:\\nVersion Actual: {:10}        | Requerida >= 3.0.3'.format(matplotlib.__version__))\n",
        "print('Seaborn:\\nVersion Actual: {:10}           |Requerida >= 0.9.0 '.format(sns.__version__))"
      ],
      "metadata": {
        "application/vnd.databricks.v1+cell": {
          "title": "",
          "showTitle": false,
          "inputWidgets": {},
          "nuid": "9e0ac715-2adb-4520-baf9-4652a3572540"
        },
        "colab": {
          "base_uri": "https://localhost:8080/"
        },
        "id": "P7nvroJe1Dfm",
        "outputId": "8c37160d-03b5-4658-ffa9-525f05579cc6"
      },
      "outputs": [
        {
          "output_type": "stream",
          "name": "stdout",
          "text": [
            "** Versiones Actuales                     | Requeridas **\n",
            "Python:\n",
            "Version Actual: 3.8.16 (default, Dec  7 2022, 01:12:13) \n",
            "[GCC 7.5.0]  | Requerida >= 3.6\n",
            "NumPy:\n",
            "Version Actual: 1.21.6                 | Requerida >= 1.16.2\n",
            "Pandas:\n",
            "Version Actual: 1.3.5                 | Requerida >= 0.24.2\n",
            "Scikit-learn:\n",
            "Version Actual: 1.0.2           | Requerida >= 1.2.1\n",
            "Matplotlib:\n",
            "Version Actual: 3.2.2             | Requerida >= 3.0.3\n",
            "Seaborn:\n",
            "Version Actual: 0.11.2               |Requerida >= 0.9.0 \n"
          ]
        }
      ],
      "execution_count": null
    },
    {
      "cell_type": "code",
      "source": [
        "from sklearn.pipeline import Pipeline\n",
        "from sklearn.compose import ColumnTransformer\n",
        "from sklearn.impute import SimpleImputer\n",
        "from sklearn.preprocessing import MinMaxScaler\n",
        "from sklearn.model_selection import train_test_split, GridSearchCV\n",
        "from sklearn.linear_model import LogisticRegression\n",
        "from sklearn import metrics\n",
        "import matplotlib.pyplot as plt"
      ],
      "metadata": {
        "application/vnd.databricks.v1+cell": {
          "title": "",
          "showTitle": false,
          "inputWidgets": {},
          "nuid": "619dcd78-1f04-4a17-8459-e4ed0a02c3e2"
        },
        "id": "6EK-SUEJ1Dfn"
      },
      "outputs": [],
      "execution_count": null
    },
    {
      "cell_type": "markdown",
      "source": [
        "## Descripción de las variables contenidas en el _dataset_"
      ],
      "metadata": {
        "application/vnd.databricks.v1+cell": {
          "title": "",
          "showTitle": false,
          "inputWidgets": {},
          "nuid": "9569ffd7-93d3-4439-ad6a-2a6eee416d6b"
        },
        "id": "Nwa2gdTj1Dfo"
      }
    },
    {
      "cell_type": "markdown",
      "source": [
        "El _dataset_ usado proviene de la plataforma **Kaggle**, y se encuentra separado en dos partes. \n",
        "\n",
        "La primera parte contiene los datos que serán usados para el entrenamiento del modelo, que serán nombrados como *datos_training*. La segunda parte son los datos que se usarán para el test del modelo *datos_test*. Estas muestras contienen 150.000 y 101.503 registros, respectivamente (aunque existen algunos campos que tienen distintos valores ausentes). \n",
        "\n",
        "Accesso a la Competencia **Give Me Some Credit:** [Link de acceso](https://www.kaggle.com/c/GiveMeSomeCredit/overview)\n",
        "\n",
        "Link de descarga correspondiente a cada dataset: \n",
        "* [training data](https://storage.googleapis.com/datasets-academy/Track%20Data%20Science/Proyecto%20Final/cs-training.csv)\n",
        "* [test data](https://storage.googleapis.com/datasets-academy/Track%20Data%20Science/Proyecto%20Final/cs-test.csv)"
      ],
      "metadata": {
        "application/vnd.databricks.v1+cell": {
          "title": "",
          "showTitle": false,
          "inputWidgets": {},
          "nuid": "e5c53952-5d72-451e-a424-bcd47e7a3b19"
        },
        "id": "YSN3RufZ1Dfp"
      }
    },
    {
      "cell_type": "markdown",
      "source": [
        "* **SeriousDlqin2yrs:** Persona que tiene 90 días de morosidad vencida o peor (Si = 1 y  No = 0)\n",
        "* **RevolvingUtilizationOfUnsecuredLines:** El saldo total en tarjetas de crédito y líneas de crédito personales (excepto bienes inmuebles y sin deuda a plazos) sobre la suma de los límites de crédito\n",
        "* **Age:** Edad prestamista en años \n",
        "* **NumberOfTime30-59DaysPastDueNotWorse:** Número de veces que el prestatario ha caido en mora entre 30 y 59 días, pero no ha empeorado en los últimos 2 años \n",
        "* **DebtRatio:** Pagos mensuales de deuda sobre el ingreso bruto mensual \n",
        "* **MonthlyIncome:** Ingreso mensual \n",
        "* **NumberOfOpenCreditLinesAndLoans:** Número de préstamos abiertos (cuotas como préstamos para automóviles o hipotecas) y líneas de crédito \n",
        "* **NumberOfTimes90DaysLate:** Número de veces que el prestatario ha caido en mora entre 90 días o más \n",
        "* **NumberRealEstateLoansOrLines:** Número de préstamos hipotecarios e inmobiliarios, incluidas las líneas de crédito hipotecario \n",
        "* **NumberOfTime60-89DaysPastDueNotWorse:** Número de veces que el prestatario ha caido en mora entre 60 y 89 días, pero no ha empeorado en los últimos 2 años \n",
        "* **NumberOfDependents:** Número de dependientes en la familia excluyendose a si mismos (ej: cónyuge, hijos, etc.)"
      ],
      "metadata": {
        "application/vnd.databricks.v1+cell": {
          "title": "Diccionario de datos",
          "showTitle": true,
          "inputWidgets": {},
          "nuid": "b2dab89b-0622-404c-9793-982f02aa3585"
        },
        "id": "SIQmbp3v1Dfq"
      }
    },
    {
      "cell_type": "markdown",
      "source": [
        "## Carga de los datos"
      ],
      "metadata": {
        "application/vnd.databricks.v1+cell": {
          "title": "",
          "showTitle": false,
          "inputWidgets": {},
          "nuid": "4fdf0406-dd54-45f4-ace0-914c3ace0922"
        },
        "id": "rKoRl6kK1Dfq"
      }
    },
    {
      "cell_type": "code",
      "source": [
        "# Colocar la ruta del directorio correspondiente a cada dataset\n",
        "ruta_training = 'https://storage.googleapis.com/datasets-academy/Track%20Data%20Science/Proyecto%20Final/cs-training.csv'\n",
        "ruta_test     = 'https://storage.googleapis.com/datasets-academy/Track%20Data%20Science/Proyecto%20Final/cs-test.csv'"
      ],
      "metadata": {
        "application/vnd.databricks.v1+cell": {
          "title": "",
          "showTitle": false,
          "inputWidgets": {},
          "nuid": "d5a59d8f-6067-4e90-96ff-df554f48ad0c"
        },
        "id": "q--LNutU1Dfr"
      },
      "outputs": [],
      "execution_count": null
    },
    {
      "cell_type": "code",
      "source": [
        "# Lectura de los datos usando pandas (creación de DataFrames)\n",
        "datos_training = pd.read_csv(ruta_training, sep = ',', decimal = '.', index_col = 0)\n",
        "datos_test     = pd.read_csv(ruta_test,     sep = ',', decimal = '.', index_col = 0)"
      ],
      "metadata": {
        "application/vnd.databricks.v1+cell": {
          "title": "",
          "showTitle": false,
          "inputWidgets": {},
          "nuid": "e50fd214-ed19-4ceb-a350-950bb34587d3"
        },
        "id": "iw6bLhPa1Dfs"
      },
      "outputs": [],
      "execution_count": null
    },
    {
      "cell_type": "code",
      "source": [
        "# Imprimir el número de filas y columnas de ambos datasets\n",
        "print('Filas y columnas - datos de entrenamiento', datos_training.shape)\n",
        "print('Filas y columnas - datos de test', datos_test.shape)"
      ],
      "metadata": {
        "application/vnd.databricks.v1+cell": {
          "title": "",
          "showTitle": false,
          "inputWidgets": {},
          "nuid": "1e47c7f9-26c2-4a60-a9bb-0477e0fc5b1a"
        },
        "colab": {
          "base_uri": "https://localhost:8080/"
        },
        "id": "5EZuTM6K1Dfs",
        "outputId": "2c569ccc-4867-4b8a-d852-66ca50d90639"
      },
      "outputs": [
        {
          "output_type": "stream",
          "name": "stdout",
          "text": [
            "Filas y columnas - datos de entrenamiento (150000, 11)\n",
            "Filas y columnas - datos de test (101503, 11)\n"
          ]
        }
      ],
      "execution_count": null
    },
    {
      "cell_type": "code",
      "source": [
        "# Imprimir los tipos de datos de cada columna en el dataset de entrenamiento\n",
        "print(datos_training.dtypes)"
      ],
      "metadata": {
        "application/vnd.databricks.v1+cell": {
          "title": "",
          "showTitle": false,
          "inputWidgets": {},
          "nuid": "a3568b9e-a4ad-4044-bb58-670acd173f5e"
        },
        "colab": {
          "base_uri": "https://localhost:8080/"
        },
        "id": "u1gr-0Jz1Dft",
        "outputId": "e3d45ed0-4d7b-42f9-9e88-4519057bf90e"
      },
      "outputs": [
        {
          "output_type": "stream",
          "name": "stdout",
          "text": [
            "SeriousDlqin2yrs                          int64\n",
            "RevolvingUtilizationOfUnsecuredLines    float64\n",
            "age                                       int64\n",
            "NumberOfTime30-59DaysPastDueNotWorse      int64\n",
            "DebtRatio                               float64\n",
            "MonthlyIncome                           float64\n",
            "NumberOfOpenCreditLinesAndLoans           int64\n",
            "NumberOfTimes90DaysLate                   int64\n",
            "NumberRealEstateLoansOrLines              int64\n",
            "NumberOfTime60-89DaysPastDueNotWorse      int64\n",
            "NumberOfDependents                      float64\n",
            "dtype: object\n"
          ]
        }
      ],
      "execution_count": null
    },
    {
      "cell_type": "markdown",
      "source": [
        "## Ingeniería de variables"
      ],
      "metadata": {
        "application/vnd.databricks.v1+cell": {
          "title": "",
          "showTitle": false,
          "inputWidgets": {},
          "nuid": "635ffb26-ad95-48f0-bad8-f536cf170788"
        },
        "id": "b1erZv_E1Dft"
      }
    },
    {
      "cell_type": "markdown",
      "source": [
        "### Selección de variable objetivo y predictores del DataFrame `datos_training`"
      ],
      "metadata": {
        "application/vnd.databricks.v1+cell": {
          "title": "",
          "showTitle": false,
          "inputWidgets": {},
          "nuid": "33ef6172-9476-4ae3-b706-0403291db95e"
        },
        "id": "WDnb64DE1Dfu"
      }
    },
    {
      "cell_type": "code",
      "source": [
        "# En la variable y colocar la variable objetivo. En la variable X los predictores\n",
        "y = datos_training.loc[:,'SeriousDlqin2yrs']\n",
        "X = datos_training.loc[:, [i for i in datos_training.columns if i != 'SeriousDlqin2yrs']]"
      ],
      "metadata": {
        "application/vnd.databricks.v1+cell": {
          "title": "",
          "showTitle": false,
          "inputWidgets": {},
          "nuid": "432d8cbb-c116-48e7-8b07-c3ae8b359d77"
        },
        "id": "gQ41sMG11Dfu"
      },
      "outputs": [],
      "execution_count": null
    },
    {
      "cell_type": "markdown",
      "source": [
        "### División en datos de training y test"
      ],
      "metadata": {
        "application/vnd.databricks.v1+cell": {
          "title": "",
          "showTitle": false,
          "inputWidgets": {},
          "nuid": "98a21860-5edf-4f13-a365-5346c6997fab"
        },
        "id": "_mUs4Jqs1Dfv"
      }
    },
    {
      "cell_type": "markdown",
      "source": [
        "Para dividir la muestra de entrenamiento en dos submuestras de _training_ y _test_, se decide guardar una proporción de 80% _training_ 20% _test_. \n",
        "\n",
        "En los argumentos de `train_test_split` emplear el muestreo estratificado `stratify=y` y  `random_state=0`"
      ],
      "metadata": {
        "application/vnd.databricks.v1+cell": {
          "title": "",
          "showTitle": false,
          "inputWidgets": {},
          "nuid": "274ab111-7ac3-4b13-a99d-9de3591d57e2"
        },
        "id": "j7d9-HCq1Dfv"
      }
    },
    {
      "cell_type": "code",
      "source": [
        "X_train, X_test, y_train, y_test = train_test_split(X, y, test_size=0.2, stratify=y, random_state=0)"
      ],
      "metadata": {
        "application/vnd.databricks.v1+cell": {
          "title": "",
          "showTitle": false,
          "inputWidgets": {},
          "nuid": "1c338a08-89a9-4ff2-aad7-8028dd05a160"
        },
        "id": "X6y_1bfC1Dfv"
      },
      "outputs": [],
      "execution_count": null
    },
    {
      "cell_type": "code",
      "source": [
        "# Imprimir las filas y columnas de los datos de training y test: para los predictores y para la variables objetivo\n",
        "print(X_train.shape, X_test.shape, y_train.shape, y_test.shape)"
      ],
      "metadata": {
        "application/vnd.databricks.v1+cell": {
          "title": "",
          "showTitle": false,
          "inputWidgets": {},
          "nuid": "4cfc864b-2df1-43e2-87ad-a5a4b9e366c4"
        },
        "colab": {
          "base_uri": "https://localhost:8080/"
        },
        "id": "BGGvlwO31Dfw",
        "outputId": "88d43854-f4e4-4154-98a6-eff0453a8481"
      },
      "outputs": [
        {
          "output_type": "stream",
          "name": "stdout",
          "text": [
            "(120000, 10) (30000, 10) (120000,) (30000,)\n"
          ]
        }
      ],
      "execution_count": null
    },
    {
      "cell_type": "markdown",
      "source": [
        "### Escalamiento (variables numéricas)"
      ],
      "metadata": {
        "application/vnd.databricks.v1+cell": {
          "title": "",
          "showTitle": false,
          "inputWidgets": {},
          "nuid": "5073be7a-f5c6-41d7-a27c-dec690fe564e"
        },
        "id": "Rh_mzxN71Dfw"
      }
    },
    {
      "cell_type": "code",
      "source": [
        "# Selección de las etiquetas de las variables numéricas\n",
        "X_num = X.select_dtypes(include=np.number).columns\n",
        "print(X_num)"
      ],
      "metadata": {
        "application/vnd.databricks.v1+cell": {
          "title": "",
          "showTitle": false,
          "inputWidgets": {},
          "nuid": "38c99228-b84a-4286-910b-ba23867d0b63"
        },
        "colab": {
          "base_uri": "https://localhost:8080/"
        },
        "id": "RgqgZBjK1Dfw",
        "outputId": "879efbcb-138f-419c-96a9-adf070a61a3b"
      },
      "outputs": [
        {
          "output_type": "stream",
          "name": "stdout",
          "text": [
            "Index(['RevolvingUtilizationOfUnsecuredLines', 'age',\n",
            "       'NumberOfTime30-59DaysPastDueNotWorse', 'DebtRatio', 'MonthlyIncome',\n",
            "       'NumberOfOpenCreditLinesAndLoans', 'NumberOfTimes90DaysLate',\n",
            "       'NumberRealEstateLoansOrLines', 'NumberOfTime60-89DaysPastDueNotWorse',\n",
            "       'NumberOfDependents'],\n",
            "      dtype='object')\n"
          ]
        }
      ],
      "execution_count": null
    },
    {
      "cell_type": "markdown",
      "source": [
        "### Pipeline - Ingeniería de variable\n",
        "A diferencia de los ejercicios anteriores, ejecutaremos directamente el segmento de ingeniería de variables en los datos de entrenamiento y test."
      ],
      "metadata": {
        "application/vnd.databricks.v1+cell": {
          "title": "",
          "showTitle": false,
          "inputWidgets": {},
          "nuid": "dee6b679-fbc8-479e-9b1d-292052e457ab"
        },
        "id": "wqIYwT-u1Dfw"
      }
    },
    {
      "cell_type": "code",
      "source": [
        "# Creación de un Pipeline para el preprocesamiento de las variables numéricas\n",
        "numeric_transformer = Pipeline(steps=[\n",
        "    ('imputer', SimpleImputer(strategy='median')),\n",
        "    ('scaler',  MinMaxScaler(feature_range=(0, 1)))])"
      ],
      "metadata": {
        "application/vnd.databricks.v1+cell": {
          "title": "",
          "showTitle": false,
          "inputWidgets": {},
          "nuid": "c3aa7473-dd7a-4e50-ad4a-b2df51eda8bd"
        },
        "id": "ExlTGq-k1Dfw"
      },
      "outputs": [],
      "execution_count": null
    },
    {
      "cell_type": "code",
      "source": [
        "# Delimitar el preprocesamiento de variables\n",
        "preprocessor = ColumnTransformer(\n",
        "    transformers=[\n",
        "        ('num', numeric_transformer, X_num)])"
      ],
      "metadata": {
        "application/vnd.databricks.v1+cell": {
          "title": "",
          "showTitle": false,
          "inputWidgets": {},
          "nuid": "889563a7-709a-483a-bb0b-ce86e20d804b"
        },
        "id": "75QmW4Wp1Dfx"
      },
      "outputs": [],
      "execution_count": null
    },
    {
      "cell_type": "code",
      "source": [
        "#Transformación \n",
        "t = numeric_transformer.fit(X_train[X_num])\n",
        "\n",
        "X_train = numeric_transformer.transform(X_train[X_num])\n",
        "X_test  = numeric_transformer.transform(X_test[X_num])\n",
        "\n",
        "print(type(X_train))\n",
        "print(type(X_test))"
      ],
      "metadata": {
        "application/vnd.databricks.v1+cell": {
          "title": "",
          "showTitle": false,
          "inputWidgets": {},
          "nuid": "ee80d165-9c51-42ca-a592-dd84f8a6af7e"
        },
        "colab": {
          "base_uri": "https://localhost:8080/"
        },
        "id": "q6J3OZWH1Dfx",
        "outputId": "9689ac17-0a70-4836-8231-57183a3f2eed"
      },
      "outputs": [
        {
          "output_type": "stream",
          "name": "stdout",
          "text": [
            "<class 'numpy.ndarray'>\n",
            "<class 'numpy.ndarray'>\n"
          ]
        }
      ],
      "execution_count": null
    },
    {
      "cell_type": "code",
      "source": [
        "type(X_train)"
      ],
      "metadata": {
        "application/vnd.databricks.v1+cell": {
          "title": "",
          "showTitle": false,
          "inputWidgets": {},
          "nuid": "b7b1906c-fbf9-44f4-86d7-f9589cf129fe"
        },
        "colab": {
          "base_uri": "https://localhost:8080/"
        },
        "id": "efQx7psX1Dfx",
        "outputId": "4f68ab82-32fa-4fb6-8233-82b56bbd6479"
      },
      "outputs": [
        {
          "output_type": "execute_result",
          "data": {
            "text/plain": [
              "numpy.ndarray"
            ]
          },
          "metadata": {},
          "execution_count": 15
        }
      ],
      "execution_count": null
    },
    {
      "cell_type": "markdown",
      "source": [
        "## Deep Neural Networks\n",
        "\n",
        "**Ejercicios**\n",
        "1. Construya, por medio de `tensorflow`, una regresión logística que trabaje con la métrica [AUC (Área bajo la curva ROC)](https://keras.io/api/metrics/classification_metrics/#auc-class).\n",
        "2. Construya, por medio de `tensorflow`, una red neuronal profunda que trabaje con la [AUC (Área bajo la curva ROC)](https://keras.io/api/metrics/classification_metrics/#auc-class).\n",
        "3. Construya una red neuronal profunda con al menos 5 capas ocultas y gran número de neuronas en cada capa. Para evitar overfitting, utilice [regularización](https://faroit.com/keras-docs/1.2.2/regularizers/) en las capas ocultas (``l1`` o ``l2``) y Dropout. Juegue con distintas tasas de regularización y comente los efectos sobre la [métrica AUC ](https://keras.io/api/metrics/classification_metrics/#auc-class).\n",
        "4. Para el modelo del punto 3, cálcule la métrica AUC a partir del Test Set. ¿Qué podemos decir acerca del grado de overfitting?\n",
        "\n",
        "**Nota:**\n",
        "\n",
        "\n",
        "Queda enteramente a su criterio el definir los hiperparámetros del modelo. Utilice el enfoque del **set de validación** para garantizar que los modelos no tengan **overfitting**.\n",
        "\n",
        "\n",
        "**Conclusión:**\n",
        "\n",
        "\n",
        "En base a los resultados obtenidos, ¿cuál de los algoritmos propuestos para el proyecto final tiene mejor performance?"
      ],
      "metadata": {
        "application/vnd.databricks.v1+cell": {
          "title": "",
          "showTitle": false,
          "inputWidgets": {},
          "nuid": "53af6956-dc4e-4974-a49a-0895af9f88dc"
        },
        "id": "bvBB4k-71Dfx"
      }
    },
    {
      "cell_type": "markdown",
      "source": [
        "## 1. Construya, por medio de tensorflow, una regresión logística que trabaje con la métrica AUC (Área bajo la curva ROC).\n"
      ],
      "metadata": {
        "id": "skVkuoKD_PRR"
      }
    },
    {
      "cell_type": "code",
      "source": [
        "import sys\n",
        "import numpy as np\n",
        "import pandas as pd\n",
        "import sklearn as sk\n",
        "import matplotlib\n",
        "import seaborn as sns\n",
        "from sklearn.model_selection import train_test_split\n",
        "from sklearn.linear_model import LogisticRegression\n",
        "from sklearn import metrics\n",
        "import matplotlib.pyplot as plt"
      ],
      "metadata": {
        "id": "9N5opgIw_O1F"
      },
      "execution_count": null,
      "outputs": []
    },
    {
      "cell_type": "code",
      "source": [
        "reg_logistica = LogisticRegression(C=1,\n",
        "                                   multi_class = 'auto',\n",
        "                                   class_weight='balanced', \n",
        "                                   random_state=0, \n",
        "                                   n_jobs=-1) \n",
        "\n",
        "reg_logistica"
      ],
      "metadata": {
        "application/vnd.databricks.v1+cell": {
          "title": "",
          "showTitle": false,
          "inputWidgets": {},
          "nuid": "f78c705a-fa19-446c-aae9-d7f9e5038b85"
        },
        "id": "WSfE13Wr1Dfy",
        "colab": {
          "base_uri": "https://localhost:8080/"
        },
        "outputId": "25f69c0b-7dd9-44c6-b68d-94d376bfc0d8"
      },
      "outputs": [
        {
          "output_type": "execute_result",
          "data": {
            "text/plain": [
              "LogisticRegression(C=1, class_weight='balanced', n_jobs=-1, random_state=0)"
            ]
          },
          "metadata": {},
          "execution_count": 17
        }
      ],
      "execution_count": null
    },
    {
      "cell_type": "code",
      "source": [
        "reg_logistica.fit(X_train, y_train)"
      ],
      "metadata": {
        "colab": {
          "base_uri": "https://localhost:8080/"
        },
        "id": "nYE9WeS1S2fb",
        "outputId": "0fd5d33f-c22a-4fc0-9136-6630ff89952b"
      },
      "execution_count": null,
      "outputs": [
        {
          "output_type": "execute_result",
          "data": {
            "text/plain": [
              "LogisticRegression(C=1, class_weight='balanced', n_jobs=-1, random_state=0)"
            ]
          },
          "metadata": {},
          "execution_count": 18
        }
      ]
    },
    {
      "cell_type": "code",
      "source": [
        "print('Intercepto', reg_logistica.intercept_)\n",
        "print('Pendientes', reg_logistica.coef_.round(4))"
      ],
      "metadata": {
        "colab": {
          "base_uri": "https://localhost:8080/"
        },
        "id": "oiIuWyj8TwjO",
        "outputId": "f3a25ed9-2be0-4b13-f70e-cd98d71d7ace"
      },
      "execution_count": null,
      "outputs": [
        {
          "output_type": "stream",
          "name": "stdout",
          "text": [
            "Intercepto [1.11881639]\n",
            "Pendientes [[-0.851  -3.33   36.6093 -1.8925 -4.5961 -0.1717 29.2056  2.1923  7.6777\n",
            "   1.2573]]\n"
          ]
        }
      ]
    },
    {
      "cell_type": "code",
      "source": [
        "yHat_train = reg_logistica.predict(X_train)\n",
        "yHat_train"
      ],
      "metadata": {
        "colab": {
          "base_uri": "https://localhost:8080/"
        },
        "id": "AI7pR8ORUPFi",
        "outputId": "e19a5197-9483-46fc-9502-ec5526bb5fb2"
      },
      "execution_count": null,
      "outputs": [
        {
          "output_type": "execute_result",
          "data": {
            "text/plain": [
              "array([0, 0, 1, ..., 0, 0, 1])"
            ]
          },
          "metadata": {},
          "execution_count": 20
        }
      ]
    },
    {
      "cell_type": "code",
      "source": [
        "yHat_test = reg_logistica.predict(X_test)\n",
        "yHat_test"
      ],
      "metadata": {
        "colab": {
          "base_uri": "https://localhost:8080/"
        },
        "id": "5dPK3F84VS_h",
        "outputId": "38fa119c-d703-48fd-ff82-17283243dc9a"
      },
      "execution_count": null,
      "outputs": [
        {
          "output_type": "execute_result",
          "data": {
            "text/plain": [
              "array([0, 0, 1, ..., 0, 0, 0])"
            ]
          },
          "metadata": {},
          "execution_count": 21
        }
      ]
    },
    {
      "cell_type": "code",
      "source": [
        "# Cálculo de FPR, Recall(TPR) y puntos de corte:\n",
        "scores = reg_logistica.predict_proba(X_test)[:,1]\n",
        "fpr, tpr, threshold = metrics.roc_curve(y_test, scores)\n",
        "\n",
        "# Calculo métrica ROC-AUC\n",
        "aucROC = metrics.auc(fpr, tpr)\n",
        "print(aucROC)"
      ],
      "metadata": {
        "colab": {
          "base_uri": "https://localhost:8080/"
        },
        "id": "OIMEgy65XGY9",
        "outputId": "0940bae2-a641-40d4-a1fe-f88ce654f374"
      },
      "execution_count": null,
      "outputs": [
        {
          "output_type": "stream",
          "name": "stdout",
          "text": [
            "0.7844492002713345\n"
          ]
        }
      ]
    },
    {
      "cell_type": "code",
      "source": [
        "# Graficar la curva ROC\n",
        "curva_roc = metrics.RocCurveDisplay.from_estimator(reg_logistica, X_test, y_test)\n",
        "plt.title('Curva ROC', fontsize=16)"
      ],
      "metadata": {
        "colab": {
          "base_uri": "https://localhost:8080/",
          "height": 314
        },
        "id": "r-yKCWiOXQWP",
        "outputId": "ab005d3b-12c5-4801-f2df-027433d9919b"
      },
      "execution_count": null,
      "outputs": [
        {
          "output_type": "execute_result",
          "data": {
            "text/plain": [
              "Text(0.5, 1.0, 'Curva ROC')"
            ]
          },
          "metadata": {},
          "execution_count": 23
        },
        {
          "output_type": "display_data",
          "data": {
            "text/plain": [
              "<Figure size 432x288 with 1 Axes>"
            ],
            "image/png": "[encoded data removed]"
          },
          "metadata": {
            "needs_background": "light"
          }
        }
      ]
    },
    {
      "cell_type": "markdown",
      "source": [
        "## 2. Construya, por medio de tensorflow, una red neuronal profunda que trabaje con la AUC (Área bajo la curva ROC)."
      ],
      "metadata": {
        "id": "GM-dEzOaZI91"
      }
    },
    {
      "cell_type": "code",
      "source": [
        "model = Sequential()\n",
        "model.add(Dense(40, input_shape=(10,), activation='relu'))\n",
        "model.add(Dense(60, activation='relu'))\n",
        "model.add(Dense(40, activation='relu'))\n",
        "model.add(Dense(1, activation='sigmoid'))"
      ],
      "metadata": {
        "id": "BL832CMOT-IQ"
      },
      "execution_count": null,
      "outputs": []
    },
    {
      "cell_type": "code",
      "source": [
        "#compilar la red\n",
        "model.compile(loss='binary_crossentropy', optimizer='adam', metrics=['AUC'])"
      ],
      "metadata": {
        "id": "COmk-HArnoLq"
      },
      "execution_count": null,
      "outputs": []
    },
    {
      "cell_type": "code",
      "source": [
        "model.fit(X_train, y_train, epochs=100, batch_size=50)"
      ],
      "metadata": {
        "colab": {
          "base_uri": "https://localhost:8080/"
        },
        "id": "vkysFR69nqYh",
        "outputId": "b5412507-5efe-4f8d-8958-1101feb32bbc"
      },
      "execution_count": null,
      "outputs": [
        {
          "output_type": "stream",
          "name": "stdout",
          "text": [
            "Epoch 1/100\n",
            "2400/2400 [==============================] - 6s 2ms/step - loss: 0.2166 - auc: 0.7508\n",
            "Epoch 2/100\n",
            "2400/2400 [==============================] - 5s 2ms/step - loss: 0.1920 - auc: 0.8150\n",
            "Epoch 3/100\n",
            "2400/2400 [==============================] - 5s 2ms/step - loss: 0.1906 - auc: 0.8193\n",
            "Epoch 4/100\n",
            "2400/2400 [==============================] - 5s 2ms/step - loss: 0.1902 - auc: 0.8209\n",
            "Epoch 5/100\n",
            "2400/2400 [==============================] - 5s 2ms/step - loss: 0.1896 - auc: 0.8238\n",
            "Epoch 6/100\n",
            "2400/2400 [==============================] - 5s 2ms/step - loss: 0.1896 - auc: 0.8230\n",
            "Epoch 7/100\n",
            "2400/2400 [==============================] - 5s 2ms/step - loss: 0.1893 - auc: 0.8247\n",
            "Epoch 8/100\n",
            "2400/2400 [==============================] - 5s 2ms/step - loss: 0.1892 - auc: 0.8252\n",
            "Epoch 9/100\n",
            "2400/2400 [==============================] - 5s 2ms/step - loss: 0.1888 - auc: 0.8265\n",
            "Epoch 10/100\n",
            "2400/2400 [==============================] - 5s 2ms/step - loss: 0.1887 - auc: 0.8263\n",
            "Epoch 11/100\n",
            "2400/2400 [==============================] - 7s 3ms/step - loss: 0.1886 - auc: 0.8267\n",
            "Epoch 12/100\n",
            "2400/2400 [==============================] - 5s 2ms/step - loss: 0.1886 - auc: 0.8264\n",
            "Epoch 13/100\n",
            "2400/2400 [==============================] - 5s 2ms/step - loss: 0.1884 - auc: 0.8268\n",
            "Epoch 14/100\n",
            "2400/2400 [==============================] - 5s 2ms/step - loss: 0.1883 - auc: 0.8271\n",
            "Epoch 15/100\n",
            "2400/2400 [==============================] - 5s 2ms/step - loss: 0.1883 - auc: 0.8285\n",
            "Epoch 16/100\n",
            "2400/2400 [==============================] - 5s 2ms/step - loss: 0.1882 - auc: 0.8281\n",
            "Epoch 17/100\n",
            "2400/2400 [==============================] - 5s 2ms/step - loss: 0.1881 - auc: 0.8288\n",
            "Epoch 18/100\n",
            "2400/2400 [==============================] - 5s 2ms/step - loss: 0.1879 - auc: 0.8289\n",
            "Epoch 19/100\n",
            "2400/2400 [==============================] - 5s 2ms/step - loss: 0.1880 - auc: 0.8284\n",
            "Epoch 20/100\n",
            "2400/2400 [==============================] - 5s 2ms/step - loss: 0.1879 - auc: 0.8287\n",
            "Epoch 21/100\n",
            "2400/2400 [==============================] - 5s 2ms/step - loss: 0.1879 - auc: 0.8290\n",
            "Epoch 22/100\n",
            "2400/2400 [==============================] - 5s 2ms/step - loss: 0.1878 - auc: 0.8283\n",
            "Epoch 23/100\n",
            "2400/2400 [==============================] - 5s 2ms/step - loss: 0.1877 - auc: 0.8288\n",
            "Epoch 24/100\n",
            "2400/2400 [==============================] - 6s 3ms/step - loss: 0.1877 - auc: 0.8288\n",
            "Epoch 25/100\n",
            "2400/2400 [==============================] - 5s 2ms/step - loss: 0.1876 - auc: 0.8298\n",
            "Epoch 26/100\n",
            "2400/2400 [==============================] - 5s 2ms/step - loss: 0.1876 - auc: 0.8298\n",
            "Epoch 27/100\n",
            "2400/2400 [==============================] - 5s 2ms/step - loss: 0.1875 - auc: 0.8294\n",
            "Epoch 28/100\n",
            "2400/2400 [==============================] - 5s 2ms/step - loss: 0.1873 - auc: 0.8303\n",
            "Epoch 29/100\n",
            "2400/2400 [==============================] - 5s 2ms/step - loss: 0.1871 - auc: 0.8308\n",
            "Epoch 30/100\n",
            "2400/2400 [==============================] - 5s 2ms/step - loss: 0.1872 - auc: 0.8302\n",
            "Epoch 31/100\n",
            "2400/2400 [==============================] - 5s 2ms/step - loss: 0.1872 - auc: 0.8306\n",
            "Epoch 32/100\n",
            "2400/2400 [==============================] - 5s 2ms/step - loss: 0.1871 - auc: 0.8308\n",
            "Epoch 33/100\n",
            "2400/2400 [==============================] - 5s 2ms/step - loss: 0.1871 - auc: 0.8310\n",
            "Epoch 34/100\n",
            "2400/2400 [==============================] - 5s 2ms/step - loss: 0.1870 - auc: 0.8316\n",
            "Epoch 35/100\n",
            "2400/2400 [==============================] - 5s 2ms/step - loss: 0.1870 - auc: 0.8309\n",
            "Epoch 36/100\n",
            "2400/2400 [==============================] - 5s 2ms/step - loss: 0.1871 - auc: 0.8309\n",
            "Epoch 37/100\n",
            "2400/2400 [==============================] - 5s 2ms/step - loss: 0.1870 - auc: 0.8315\n",
            "Epoch 38/100\n",
            "2400/2400 [==============================] - 5s 2ms/step - loss: 0.1869 - auc: 0.8315\n",
            "Epoch 39/100\n",
            "2400/2400 [==============================] - 5s 2ms/step - loss: 0.1866 - auc: 0.8324\n",
            "Epoch 40/100\n",
            "2400/2400 [==============================] - 5s 2ms/step - loss: 0.1869 - auc: 0.8313\n",
            "Epoch 41/100\n",
            "2400/2400 [==============================] - 5s 2ms/step - loss: 0.1867 - auc: 0.8317\n",
            "Epoch 42/100\n",
            "2400/2400 [==============================] - 5s 2ms/step - loss: 0.1868 - auc: 0.8316\n",
            "Epoch 43/100\n",
            "2400/2400 [==============================] - 5s 2ms/step - loss: 0.1869 - auc: 0.8317\n",
            "Epoch 44/100\n",
            "2400/2400 [==============================] - 5s 2ms/step - loss: 0.1867 - auc: 0.8322\n",
            "Epoch 45/100\n",
            "2400/2400 [==============================] - 5s 2ms/step - loss: 0.1867 - auc: 0.8309\n",
            "Epoch 46/100\n",
            "2400/2400 [==============================] - 5s 2ms/step - loss: 0.1866 - auc: 0.8323\n",
            "Epoch 47/100\n",
            "2400/2400 [==============================] - 5s 2ms/step - loss: 0.1865 - auc: 0.8324\n",
            "Epoch 48/100\n",
            "2400/2400 [==============================] - 5s 2ms/step - loss: 0.1864 - auc: 0.8332\n",
            "Epoch 49/100\n",
            "2400/2400 [==============================] - 5s 2ms/step - loss: 0.1864 - auc: 0.8329\n",
            "Epoch 50/100\n",
            "2400/2400 [==============================] - 5s 2ms/step - loss: 0.1865 - auc: 0.8332\n",
            "Epoch 51/100\n",
            "2400/2400 [==============================] - 5s 2ms/step - loss: 0.1865 - auc: 0.8330\n",
            "Epoch 52/100\n",
            "2400/2400 [==============================] - 5s 2ms/step - loss: 0.1866 - auc: 0.8316\n",
            "Epoch 53/100\n",
            "2400/2400 [==============================] - 5s 2ms/step - loss: 0.1865 - auc: 0.8329\n",
            "Epoch 54/100\n",
            "2400/2400 [==============================] - 5s 2ms/step - loss: 0.1864 - auc: 0.8327\n",
            "Epoch 55/100\n",
            "2400/2400 [==============================] - 5s 2ms/step - loss: 0.1863 - auc: 0.8327\n",
            "Epoch 56/100\n",
            "2400/2400 [==============================] - 5s 2ms/step - loss: 0.1863 - auc: 0.8335\n",
            "Epoch 57/100\n",
            "2400/2400 [==============================] - 5s 2ms/step - loss: 0.1862 - auc: 0.8342\n",
            "Epoch 58/100\n",
            "2400/2400 [==============================] - 5s 2ms/step - loss: 0.1861 - auc: 0.8343\n",
            "Epoch 59/100\n",
            "2400/2400 [==============================] - 5s 2ms/step - loss: 0.1861 - auc: 0.8341\n",
            "Epoch 60/100\n",
            "2400/2400 [==============================] - 5s 2ms/step - loss: 0.1860 - auc: 0.8345\n",
            "Epoch 61/100\n",
            "2400/2400 [==============================] - 5s 2ms/step - loss: 0.1861 - auc: 0.8342\n",
            "Epoch 62/100\n",
            "2400/2400 [==============================] - 5s 2ms/step - loss: 0.1861 - auc: 0.8339\n",
            "Epoch 63/100\n",
            "2400/2400 [==============================] - 5s 2ms/step - loss: 0.1860 - auc: 0.8342\n",
            "Epoch 64/100\n",
            "2400/2400 [==============================] - 5s 2ms/step - loss: 0.1859 - auc: 0.8341\n",
            "Epoch 65/100\n",
            "2400/2400 [==============================] - 5s 2ms/step - loss: 0.1860 - auc: 0.8337\n",
            "Epoch 66/100\n",
            "2400/2400 [==============================] - 5s 2ms/step - loss: 0.1859 - auc: 0.8341\n",
            "Epoch 67/100\n",
            "2400/2400 [==============================] - 5s 2ms/step - loss: 0.1859 - auc: 0.8339\n",
            "Epoch 68/100\n",
            "2400/2400 [==============================] - 5s 2ms/step - loss: 0.1857 - auc: 0.8345\n",
            "Epoch 69/100\n",
            "2400/2400 [==============================] - 5s 2ms/step - loss: 0.1859 - auc: 0.8344\n",
            "Epoch 70/100\n",
            "2400/2400 [==============================] - 5s 2ms/step - loss: 0.1858 - auc: 0.8340\n",
            "Epoch 71/100\n",
            "2400/2400 [==============================] - 5s 2ms/step - loss: 0.1857 - auc: 0.8347\n",
            "Epoch 72/100\n",
            "2400/2400 [==============================] - 5s 2ms/step - loss: 0.1856 - auc: 0.8356\n",
            "Epoch 73/100\n",
            "2400/2400 [==============================] - 5s 2ms/step - loss: 0.1856 - auc: 0.8350\n",
            "Epoch 74/100\n",
            "2400/2400 [==============================] - 5s 2ms/step - loss: 0.1857 - auc: 0.8345\n",
            "Epoch 75/100\n",
            "2400/2400 [==============================] - 5s 2ms/step - loss: 0.1856 - auc: 0.8353\n",
            "Epoch 76/100\n",
            "2400/2400 [==============================] - 5s 2ms/step - loss: 0.1855 - auc: 0.8349\n",
            "Epoch 77/100\n",
            "2400/2400 [==============================] - 5s 2ms/step - loss: 0.1856 - auc: 0.8347\n",
            "Epoch 78/100\n",
            "2400/2400 [==============================] - 5s 2ms/step - loss: 0.1856 - auc: 0.8350\n",
            "Epoch 79/100\n",
            "2400/2400 [==============================] - 5s 2ms/step - loss: 0.1854 - auc: 0.8351\n",
            "Epoch 80/100\n",
            "2400/2400 [==============================] - 5s 2ms/step - loss: 0.1854 - auc: 0.8353\n",
            "Epoch 81/100\n",
            "2400/2400 [==============================] - 5s 2ms/step - loss: 0.1854 - auc: 0.8353\n",
            "Epoch 82/100\n",
            "2400/2400 [==============================] - 5s 2ms/step - loss: 0.1853 - auc: 0.8358\n",
            "Epoch 83/100\n",
            "2400/2400 [==============================] - 5s 2ms/step - loss: 0.1851 - auc: 0.8360\n",
            "Epoch 84/100\n",
            "2400/2400 [==============================] - 5s 2ms/step - loss: 0.1853 - auc: 0.8354\n",
            "Epoch 85/100\n",
            "2400/2400 [==============================] - 5s 2ms/step - loss: 0.1853 - auc: 0.8355\n",
            "Epoch 86/100\n",
            "2400/2400 [==============================] - 6s 2ms/step - loss: 0.1853 - auc: 0.8350\n",
            "Epoch 87/100\n",
            "2400/2400 [==============================] - 6s 3ms/step - loss: 0.1851 - auc: 0.8355\n",
            "Epoch 88/100\n",
            "2400/2400 [==============================] - 5s 2ms/step - loss: 0.1850 - auc: 0.8357\n",
            "Epoch 89/100\n",
            "2400/2400 [==============================] - 5s 2ms/step - loss: 0.1851 - auc: 0.8360\n",
            "Epoch 90/100\n",
            "2400/2400 [==============================] - 5s 2ms/step - loss: 0.1851 - auc: 0.8362\n",
            "Epoch 91/100\n",
            "2400/2400 [==============================] - 5s 2ms/step - loss: 0.1850 - auc: 0.8359\n",
            "Epoch 92/100\n",
            "2400/2400 [==============================] - 5s 2ms/step - loss: 0.1849 - auc: 0.8362\n",
            "Epoch 93/100\n",
            "2400/2400 [==============================] - 5s 2ms/step - loss: 0.1849 - auc: 0.8366\n",
            "Epoch 94/100\n",
            "2400/2400 [==============================] - 5s 2ms/step - loss: 0.1849 - auc: 0.8356\n",
            "Epoch 95/100\n",
            "2400/2400 [==============================] - 5s 2ms/step - loss: 0.1850 - auc: 0.8362\n",
            "Epoch 96/100\n",
            "2400/2400 [==============================] - 5s 2ms/step - loss: 0.1849 - auc: 0.8360\n",
            "Epoch 97/100\n",
            "2400/2400 [==============================] - 5s 2ms/step - loss: 0.1847 - auc: 0.8375\n",
            "Epoch 98/100\n",
            "2400/2400 [==============================] - 5s 2ms/step - loss: 0.1845 - auc: 0.8374\n",
            "Epoch 99/100\n",
            "2400/2400 [==============================] - 5s 2ms/step - loss: 0.1847 - auc: 0.8359\n",
            "Epoch 100/100\n",
            "2400/2400 [==============================] - 5s 2ms/step - loss: 0.1846 - auc: 0.8367\n"
          ]
        },
        {
          "output_type": "execute_result",
          "data": {
            "text/plain": [
              "<keras.callbacks.History at 0x7fc582654940>"
            ]
          },
          "metadata": {},
          "execution_count": 40
        }
      ]
    },
    {
      "cell_type": "code",
      "source": [
        "loss, accuracy = model.evaluate(X_train, y_train)\n",
        "print('Precisión: %.2f' % (accuracy*100))\n",
        "print('Pérdida: %.2f' % (loss*100))"
      ],
      "metadata": {
        "colab": {
          "base_uri": "https://localhost:8080/"
        },
        "id": "VVQmm_anp9pM",
        "outputId": "1740ecc9-ff0e-4b57-d0c4-b52399f3ba42"
      },
      "execution_count": null,
      "outputs": [
        {
          "output_type": "stream",
          "name": "stdout",
          "text": [
            "3750/3750 [==============================] - 6s 2ms/step - loss: 0.1836 - auc: 0.8401\n",
            "Precisión: 84.01\n",
            "Pérdida: 18.36\n"
          ]
        }
      ]
    },
    {
      "cell_type": "markdown",
      "source": [
        "## 3. Construya una red neuronal profunda con al menos 5 capas ocultas y gran número de neuronas en cada capa. Para evitar overfitting, utilice regularización en las capas ocultas (l1 o l2) y Dropout. Juegue con distintas tasas de regularización y comente los efectos sobre la métrica AUC ."
      ],
      "metadata": {
        "id": "mRYRjQk-dZyO"
      }
    },
    {
      "cell_type": "code",
      "source": [
        "from tensorflow.keras.models import Sequential\n",
        "from tensorflow.keras.layers import Dense\n",
        "import pandas as pd\n",
        "import numpy as np\n",
        "from numpy import loadtxt"
      ],
      "metadata": {
        "id": "N2QTvRISgjS8"
      },
      "execution_count": null,
      "outputs": []
    },
    {
      "cell_type": "code",
      "source": [
        "model = Sequential()\n",
        "model.add(Dense(40, input_shape=(10,), activation='relu'))\n",
        "model.add(Dense(60, activation='relu'))\n",
        "model.add(Dense(40, activation='relu'))\n",
        "model.add(Dense(20, activation='relu'))\n",
        "model.add(Dense(10, activation='relu'))\n",
        "model.add(Dense(1, activation='sigmoid'))"
      ],
      "metadata": {
        "id": "c0i0s_9igp0z"
      },
      "execution_count": null,
      "outputs": []
    },
    {
      "cell_type": "code",
      "source": [
        "model.summary()"
      ],
      "metadata": {
        "colab": {
          "base_uri": "https://localhost:8080/"
        },
        "id": "fP5vfDq_ihX1",
        "outputId": "de662f0b-85b2-46be-d8d2-3f75878ae26c"
      },
      "execution_count": null,
      "outputs": [
        {
          "output_type": "stream",
          "name": "stdout",
          "text": [
            "Model: \"sequential\"\n",
            "_________________________________________________________________\n",
            " Layer (type)                Output Shape              Param #   \n",
            "=================================================================\n",
            " dense (Dense)               (None, 40)                440       \n",
            "                                                                 \n",
            " dense_1 (Dense)             (None, 60)                2460      \n",
            "                                                                 \n",
            " dense_2 (Dense)             (None, 40)                2440      \n",
            "                                                                 \n",
            " dense_3 (Dense)             (None, 20)                820       \n",
            "                                                                 \n",
            " dense_4 (Dense)             (None, 10)                210       \n",
            "                                                                 \n",
            " dense_5 (Dense)             (None, 1)                 11        \n",
            "                                                                 \n",
            "=================================================================\n",
            "Total params: 6,381\n",
            "Trainable params: 6,381\n",
            "Non-trainable params: 0\n",
            "_________________________________________________________________\n"
          ]
        }
      ]
    },
    {
      "cell_type": "code",
      "source": [
        "#compilar la red\n",
        "model.compile(loss='binary_crossentropy', optimizer='adam', metrics=['accuracy'])"
      ],
      "metadata": {
        "id": "NFBJpsgFikp2"
      },
      "execution_count": null,
      "outputs": []
    },
    {
      "cell_type": "code",
      "source": [
        "datos_test.info()"
      ],
      "metadata": {
        "colab": {
          "base_uri": "https://localhost:8080/"
        },
        "id": "guStyROOkBes",
        "outputId": "9b7d01db-1670-4e83-d546-da7026c7f1e6"
      },
      "execution_count": null,
      "outputs": [
        {
          "output_type": "stream",
          "name": "stdout",
          "text": [
            "<class 'pandas.core.frame.DataFrame'>\n",
            "Int64Index: 101503 entries, 1 to 101503\n",
            "Data columns (total 11 columns):\n",
            " #   Column                                Non-Null Count   Dtype  \n",
            "---  ------                                --------------   -----  \n",
            " 0   SeriousDlqin2yrs                      0 non-null       float64\n",
            " 1   RevolvingUtilizationOfUnsecuredLines  101503 non-null  float64\n",
            " 2   age                                   101503 non-null  int64  \n",
            " 3   NumberOfTime30-59DaysPastDueNotWorse  101503 non-null  int64  \n",
            " 4   DebtRatio                             101503 non-null  float64\n",
            " 5   MonthlyIncome                         81400 non-null   float64\n",
            " 6   NumberOfOpenCreditLinesAndLoans       101503 non-null  int64  \n",
            " 7   NumberOfTimes90DaysLate               101503 non-null  int64  \n",
            " 8   NumberRealEstateLoansOrLines          101503 non-null  int64  \n",
            " 9   NumberOfTime60-89DaysPastDueNotWorse  101503 non-null  int64  \n",
            " 10  NumberOfDependents                    98877 non-null   float64\n",
            "dtypes: float64(5), int64(6)\n",
            "memory usage: 9.3 MB\n"
          ]
        }
      ]
    },
    {
      "cell_type": "code",
      "source": [
        "model.fit(X_train, y_train, epochs=100, batch_size=50)"
      ],
      "metadata": {
        "colab": {
          "base_uri": "https://localhost:8080/"
        },
        "id": "Anjr3CT0j3XB",
        "outputId": "393fadb2-c0f1-4d24-c6d1-70f1123945d4"
      },
      "execution_count": null,
      "outputs": [
        {
          "output_type": "stream",
          "name": "stdout",
          "text": [
            "Epoch 1/100\n",
            "2400/2400 [==============================] - 6s 2ms/step - loss: 0.2181 - accuracy: 0.9350\n",
            "Epoch 2/100\n",
            "2400/2400 [==============================] - 5s 2ms/step - loss: 0.1914 - accuracy: 0.9363\n",
            "Epoch 3/100\n",
            "2400/2400 [==============================] - 5s 2ms/step - loss: 0.1902 - accuracy: 0.9363\n",
            "Epoch 4/100\n",
            "2400/2400 [==============================] - 5s 2ms/step - loss: 0.1902 - accuracy: 0.9364\n",
            "Epoch 5/100\n",
            "2400/2400 [==============================] - 7s 3ms/step - loss: 0.1899 - accuracy: 0.9364\n",
            "Epoch 6/100\n",
            "2400/2400 [==============================] - 5s 2ms/step - loss: 0.1895 - accuracy: 0.9364\n",
            "Epoch 7/100\n",
            "2400/2400 [==============================] - 5s 2ms/step - loss: 0.1896 - accuracy: 0.9365\n",
            "Epoch 8/100\n",
            "2400/2400 [==============================] - 5s 2ms/step - loss: 0.1891 - accuracy: 0.9365\n",
            "Epoch 9/100\n",
            "2400/2400 [==============================] - 5s 2ms/step - loss: 0.1889 - accuracy: 0.9364\n",
            "Epoch 10/100\n",
            "2400/2400 [==============================] - 5s 2ms/step - loss: 0.1890 - accuracy: 0.9362\n",
            "Epoch 11/100\n",
            "2400/2400 [==============================] - 5s 2ms/step - loss: 0.1888 - accuracy: 0.9362\n",
            "Epoch 12/100\n",
            "2400/2400 [==============================] - 5s 2ms/step - loss: 0.1887 - accuracy: 0.9364\n",
            "Epoch 13/100\n",
            "2400/2400 [==============================] - 5s 2ms/step - loss: 0.1886 - accuracy: 0.9365\n",
            "Epoch 14/100\n",
            "2400/2400 [==============================] - 5s 2ms/step - loss: 0.1884 - accuracy: 0.9364\n",
            "Epoch 15/100\n",
            "2400/2400 [==============================] - 5s 2ms/step - loss: 0.1882 - accuracy: 0.9367\n",
            "Epoch 16/100\n",
            "2400/2400 [==============================] - 5s 2ms/step - loss: 0.1884 - accuracy: 0.9364\n",
            "Epoch 17/100\n",
            "2400/2400 [==============================] - 5s 2ms/step - loss: 0.1883 - accuracy: 0.9366\n",
            "Epoch 18/100\n",
            "2400/2400 [==============================] - 5s 2ms/step - loss: 0.1881 - accuracy: 0.9366\n",
            "Epoch 19/100\n",
            "2400/2400 [==============================] - 5s 2ms/step - loss: 0.1882 - accuracy: 0.9367\n",
            "Epoch 20/100\n",
            "2400/2400 [==============================] - 5s 2ms/step - loss: 0.1881 - accuracy: 0.9365\n",
            "Epoch 21/100\n",
            "2400/2400 [==============================] - 5s 2ms/step - loss: 0.1879 - accuracy: 0.9366\n",
            "Epoch 22/100\n",
            "2400/2400 [==============================] - 5s 2ms/step - loss: 0.1878 - accuracy: 0.9365\n",
            "Epoch 23/100\n",
            "2400/2400 [==============================] - 5s 2ms/step - loss: 0.1880 - accuracy: 0.9364\n",
            "Epoch 24/100\n",
            "2400/2400 [==============================] - 5s 2ms/step - loss: 0.1880 - accuracy: 0.9363\n",
            "Epoch 25/100\n",
            "2400/2400 [==============================] - 5s 2ms/step - loss: 0.1878 - accuracy: 0.9363\n",
            "Epoch 26/100\n",
            "2400/2400 [==============================] - 5s 2ms/step - loss: 0.1878 - accuracy: 0.9367\n",
            "Epoch 27/100\n",
            "2400/2400 [==============================] - 5s 2ms/step - loss: 0.1877 - accuracy: 0.9366\n",
            "Epoch 28/100\n",
            "2400/2400 [==============================] - 5s 2ms/step - loss: 0.1877 - accuracy: 0.9368\n",
            "Epoch 29/100\n",
            "2400/2400 [==============================] - 5s 2ms/step - loss: 0.1874 - accuracy: 0.9369\n",
            "Epoch 30/100\n",
            "2400/2400 [==============================] - 5s 2ms/step - loss: 0.1875 - accuracy: 0.9366\n",
            "Epoch 31/100\n",
            "2400/2400 [==============================] - 5s 2ms/step - loss: 0.1876 - accuracy: 0.9366\n",
            "Epoch 32/100\n",
            "2400/2400 [==============================] - 5s 2ms/step - loss: 0.1874 - accuracy: 0.9370\n",
            "Epoch 33/100\n",
            "2400/2400 [==============================] - 5s 2ms/step - loss: 0.1874 - accuracy: 0.9369\n",
            "Epoch 34/100\n",
            "2400/2400 [==============================] - 5s 2ms/step - loss: 0.1873 - accuracy: 0.9368\n",
            "Epoch 35/100\n",
            "2400/2400 [==============================] - 5s 2ms/step - loss: 0.1874 - accuracy: 0.9369\n",
            "Epoch 36/100\n",
            "2400/2400 [==============================] - 5s 2ms/step - loss: 0.1873 - accuracy: 0.9372\n",
            "Epoch 37/100\n",
            "2400/2400 [==============================] - 5s 2ms/step - loss: 0.1872 - accuracy: 0.9370\n",
            "Epoch 38/100\n",
            "2400/2400 [==============================] - 5s 2ms/step - loss: 0.1874 - accuracy: 0.9369\n",
            "Epoch 39/100\n",
            "2400/2400 [==============================] - 5s 2ms/step - loss: 0.1872 - accuracy: 0.9367\n",
            "Epoch 40/100\n",
            "2400/2400 [==============================] - 5s 2ms/step - loss: 0.1873 - accuracy: 0.9368\n",
            "Epoch 41/100\n",
            "2400/2400 [==============================] - 5s 2ms/step - loss: 0.1871 - accuracy: 0.9367\n",
            "Epoch 42/100\n",
            "2400/2400 [==============================] - 7s 3ms/step - loss: 0.1870 - accuracy: 0.9369\n",
            "Epoch 43/100\n",
            "2400/2400 [==============================] - 5s 2ms/step - loss: 0.1870 - accuracy: 0.9370\n",
            "Epoch 44/100\n",
            "2400/2400 [==============================] - 5s 2ms/step - loss: 0.1871 - accuracy: 0.9369\n",
            "Epoch 45/100\n",
            "2400/2400 [==============================] - 5s 2ms/step - loss: 0.1869 - accuracy: 0.9370\n",
            "Epoch 46/100\n",
            "2400/2400 [==============================] - 5s 2ms/step - loss: 0.1870 - accuracy: 0.9367\n",
            "Epoch 47/100\n",
            "2400/2400 [==============================] - 5s 2ms/step - loss: 0.1869 - accuracy: 0.9370\n",
            "Epoch 48/100\n",
            "2400/2400 [==============================] - 5s 2ms/step - loss: 0.1870 - accuracy: 0.9370\n",
            "Epoch 49/100\n",
            "2400/2400 [==============================] - 5s 2ms/step - loss: 0.1869 - accuracy: 0.9368\n",
            "Epoch 50/100\n",
            "2400/2400 [==============================] - 5s 2ms/step - loss: 0.1868 - accuracy: 0.9370\n",
            "Epoch 51/100\n",
            "2400/2400 [==============================] - 5s 2ms/step - loss: 0.1869 - accuracy: 0.9370\n",
            "Epoch 52/100\n",
            "2400/2400 [==============================] - 5s 2ms/step - loss: 0.1868 - accuracy: 0.9373\n",
            "Epoch 53/100\n",
            "2400/2400 [==============================] - 5s 2ms/step - loss: 0.1868 - accuracy: 0.9369\n",
            "Epoch 54/100\n",
            "2400/2400 [==============================] - 5s 2ms/step - loss: 0.1867 - accuracy: 0.9371\n",
            "Epoch 55/100\n",
            "2400/2400 [==============================] - 5s 2ms/step - loss: 0.1867 - accuracy: 0.9371\n",
            "Epoch 56/100\n",
            "2400/2400 [==============================] - 5s 2ms/step - loss: 0.1866 - accuracy: 0.9371\n",
            "Epoch 57/100\n",
            "2400/2400 [==============================] - 5s 2ms/step - loss: 0.1866 - accuracy: 0.9373\n",
            "Epoch 58/100\n",
            "2400/2400 [==============================] - 5s 2ms/step - loss: 0.1866 - accuracy: 0.9372\n",
            "Epoch 59/100\n",
            "2400/2400 [==============================] - 5s 2ms/step - loss: 0.1867 - accuracy: 0.9371\n",
            "Epoch 60/100\n",
            "2400/2400 [==============================] - 5s 2ms/step - loss: 0.1866 - accuracy: 0.9369\n",
            "Epoch 61/100\n",
            "2400/2400 [==============================] - 5s 2ms/step - loss: 0.1866 - accuracy: 0.9372\n",
            "Epoch 62/100\n",
            "2400/2400 [==============================] - 5s 2ms/step - loss: 0.1865 - accuracy: 0.9370\n",
            "Epoch 63/100\n",
            "2400/2400 [==============================] - 5s 2ms/step - loss: 0.1864 - accuracy: 0.9369\n",
            "Epoch 64/100\n",
            "2400/2400 [==============================] - 5s 2ms/step - loss: 0.1864 - accuracy: 0.9371\n",
            "Epoch 65/100\n",
            "2400/2400 [==============================] - 5s 2ms/step - loss: 0.1864 - accuracy: 0.9373\n",
            "Epoch 66/100\n",
            "2400/2400 [==============================] - 5s 2ms/step - loss: 0.1864 - accuracy: 0.9373\n",
            "Epoch 67/100\n",
            "2400/2400 [==============================] - 5s 2ms/step - loss: 0.1866 - accuracy: 0.9370\n",
            "Epoch 68/100\n",
            "2400/2400 [==============================] - 5s 2ms/step - loss: 0.1863 - accuracy: 0.9371\n",
            "Epoch 69/100\n",
            "2400/2400 [==============================] - 5s 2ms/step - loss: 0.1864 - accuracy: 0.9373\n",
            "Epoch 70/100\n",
            "2400/2400 [==============================] - 5s 2ms/step - loss: 0.1863 - accuracy: 0.9371\n",
            "Epoch 71/100\n",
            "2400/2400 [==============================] - 5s 2ms/step - loss: 0.1862 - accuracy: 0.9371\n",
            "Epoch 72/100\n",
            "2400/2400 [==============================] - 5s 2ms/step - loss: 0.1864 - accuracy: 0.9372\n",
            "Epoch 73/100\n",
            "2400/2400 [==============================] - 5s 2ms/step - loss: 0.1860 - accuracy: 0.9373\n",
            "Epoch 74/100\n",
            "2400/2400 [==============================] - 5s 2ms/step - loss: 0.1863 - accuracy: 0.9370\n",
            "Epoch 75/100\n",
            "2400/2400 [==============================] - 5s 2ms/step - loss: 0.1862 - accuracy: 0.9370\n",
            "Epoch 76/100\n",
            "2400/2400 [==============================] - 5s 2ms/step - loss: 0.1860 - accuracy: 0.9373\n",
            "Epoch 77/100\n",
            "2400/2400 [==============================] - 5s 2ms/step - loss: 0.1862 - accuracy: 0.9372\n",
            "Epoch 78/100\n",
            "2400/2400 [==============================] - 5s 2ms/step - loss: 0.1862 - accuracy: 0.9372\n",
            "Epoch 79/100\n",
            "2400/2400 [==============================] - 5s 2ms/step - loss: 0.1861 - accuracy: 0.9375\n",
            "Epoch 80/100\n",
            "2400/2400 [==============================] - 5s 2ms/step - loss: 0.1860 - accuracy: 0.9375\n",
            "Epoch 81/100\n",
            "2400/2400 [==============================] - 5s 2ms/step - loss: 0.1862 - accuracy: 0.9373\n",
            "Epoch 82/100\n",
            "2400/2400 [==============================] - 5s 2ms/step - loss: 0.1861 - accuracy: 0.9371\n",
            "Epoch 83/100\n",
            "2400/2400 [==============================] - 5s 2ms/step - loss: 0.1859 - accuracy: 0.9370\n",
            "Epoch 84/100\n",
            "2400/2400 [==============================] - 5s 2ms/step - loss: 0.1859 - accuracy: 0.9375\n",
            "Epoch 85/100\n",
            "2400/2400 [==============================] - 5s 2ms/step - loss: 0.1858 - accuracy: 0.9372\n",
            "Epoch 86/100\n",
            "2400/2400 [==============================] - 5s 2ms/step - loss: 0.1860 - accuracy: 0.9373\n",
            "Epoch 87/100\n",
            "2400/2400 [==============================] - 5s 2ms/step - loss: 0.1859 - accuracy: 0.9376\n",
            "Epoch 88/100\n",
            "2400/2400 [==============================] - 7s 3ms/step - loss: 0.1858 - accuracy: 0.9373\n",
            "Epoch 89/100\n",
            "2400/2400 [==============================] - 5s 2ms/step - loss: 0.1860 - accuracy: 0.9374\n",
            "Epoch 90/100\n",
            "2400/2400 [==============================] - 6s 2ms/step - loss: 0.1857 - accuracy: 0.9373\n",
            "Epoch 91/100\n",
            "2400/2400 [==============================] - 6s 2ms/step - loss: 0.1858 - accuracy: 0.9373\n",
            "Epoch 92/100\n",
            "2400/2400 [==============================] - 6s 2ms/step - loss: 0.1858 - accuracy: 0.9372\n",
            "Epoch 93/100\n",
            "2400/2400 [==============================] - 5s 2ms/step - loss: 0.1856 - accuracy: 0.9373\n",
            "Epoch 94/100\n",
            "2400/2400 [==============================] - 5s 2ms/step - loss: 0.1857 - accuracy: 0.9374\n",
            "Epoch 95/100\n",
            "2400/2400 [==============================] - 5s 2ms/step - loss: 0.1857 - accuracy: 0.9374\n",
            "Epoch 96/100\n",
            "2400/2400 [==============================] - 5s 2ms/step - loss: 0.1857 - accuracy: 0.9375\n",
            "Epoch 97/100\n",
            "2400/2400 [==============================] - 5s 2ms/step - loss: 0.1856 - accuracy: 0.9374\n",
            "Epoch 98/100\n",
            "2400/2400 [==============================] - 5s 2ms/step - loss: 0.1856 - accuracy: 0.9374\n",
            "Epoch 99/100\n",
            "2400/2400 [==============================] - 5s 2ms/step - loss: 0.1856 - accuracy: 0.9374\n",
            "Epoch 100/100\n",
            "2400/2400 [==============================] - 5s 2ms/step - loss: 0.1855 - accuracy: 0.9374\n"
          ]
        },
        {
          "output_type": "execute_result",
          "data": {
            "text/plain": [
              "<keras.callbacks.History at 0x7fc58270eb80>"
            ]
          },
          "metadata": {},
          "execution_count": 31
        }
      ]
    },
    {
      "cell_type": "code",
      "source": [
        "loss, accuracy = model.evaluate(X_train, y_train)\n",
        "print('Precisión: %.2f' % (accuracy*100))\n",
        "print('Pérdida: %.2f' % (loss*100))"
      ],
      "metadata": {
        "colab": {
          "base_uri": "https://localhost:8080/"
        },
        "id": "RLHFzZP9tJQi",
        "outputId": "580738a2-e9da-49df-9959-ce1277b12978"
      },
      "execution_count": null,
      "outputs": [
        {
          "output_type": "stream",
          "name": "stdout",
          "text": [
            "3750/3750 [==============================] - 6s 1ms/step - loss: 0.1849 - accuracy: 0.9377\n",
            "Precisión: 93.77\n",
            "Pérdida: 18.49\n"
          ]
        }
      ]
    },
    {
      "cell_type": "markdown",
      "source": [
        "\n",
        "\n",
        "<div style=\"text-align: center; line-height: 0; padding-top: 9px;\">\n",
        "  <img src=\"https://storage.googleapis.com/datasets-academy/public-img/notebooks/headers/databits-footer-notebook.png\" alt=\"Databricks Learning\" style=\"width: 100%;\">\n",
        "</div>"
      ],
      "metadata": {
        "application/vnd.databricks.v1+cell": {
          "title": "",
          "showTitle": false,
          "inputWidgets": {},
          "nuid": "82faf2d8-7dde-4170-adce-896c5e57ef0a"
        },
        "id": "ROA_IhG81Dfy"
      }
    },
    {
      "cell_type": "markdown",
      "source": [
        "## 4. Para el modelo del punto 3, cálcule la métrica AUC a partir del Test Set. ¿Qué podemos decir acerca del grado de overfitting?"
      ],
      "metadata": {
        "id": "T-5RdiwprMV7"
      }
    },
    {
      "cell_type": "code",
      "source": [
        "model = Sequential()\n",
        "model.add(Dense(40, input_shape=(10,), activation='relu'))\n",
        "model.add(Dense(60, activation='relu'))\n",
        "model.add(Dense(40, activation='relu'))\n",
        "model.add(Dense(20, activation='relu'))\n",
        "model.add(Dense(10, activation='relu'))\n",
        "model.add(Dense(1, activation='sigmoid'))"
      ],
      "metadata": {
        "id": "tOOm9JAfrRyw"
      },
      "execution_count": null,
      "outputs": []
    },
    {
      "cell_type": "code",
      "source": [
        "#compilar la red\n",
        "model.compile(loss='binary_crossentropy', optimizer='adam', metrics=['AUC'])"
      ],
      "metadata": {
        "id": "qy1L9xCorXZg"
      },
      "execution_count": null,
      "outputs": []
    },
    {
      "cell_type": "code",
      "source": [
        "model.fit(X_test, y_test, epochs=100, batch_size=50)"
      ],
      "metadata": {
        "colab": {
          "base_uri": "https://localhost:8080/"
        },
        "id": "PVPlELmHreew",
        "outputId": "8521847b-bddb-45a6-c719-41a0dcb7ab7a"
      },
      "execution_count": null,
      "outputs": [
        {
          "output_type": "stream",
          "name": "stdout",
          "text": [
            "Epoch 1/100\n",
            "600/600 [==============================] - 2s 3ms/step - loss: 0.2598 - auc: 0.6349\n",
            "Epoch 2/100\n",
            "600/600 [==============================] - 1s 2ms/step - loss: 0.2077 - auc: 0.7695\n",
            "Epoch 3/100\n",
            "600/600 [==============================] - 1s 2ms/step - loss: 0.1958 - auc: 0.8060\n",
            "Epoch 4/100\n",
            "600/600 [==============================] - 1s 2ms/step - loss: 0.1928 - auc: 0.8161\n",
            "Epoch 5/100\n",
            "600/600 [==============================] - 1s 2ms/step - loss: 0.1920 - auc: 0.8186\n",
            "Epoch 6/100\n",
            "600/600 [==============================] - 1s 2ms/step - loss: 0.1911 - auc: 0.8189\n",
            "Epoch 7/100\n",
            "600/600 [==============================] - 1s 2ms/step - loss: 0.1913 - auc: 0.8198\n",
            "Epoch 8/100\n",
            "600/600 [==============================] - 1s 2ms/step - loss: 0.1908 - auc: 0.8216\n",
            "Epoch 9/100\n",
            "600/600 [==============================] - 1s 2ms/step - loss: 0.1898 - auc: 0.8259\n",
            "Epoch 10/100\n",
            "600/600 [==============================] - 1s 2ms/step - loss: 0.1897 - auc: 0.8259\n",
            "Epoch 11/100\n",
            "600/600 [==============================] - 1s 2ms/step - loss: 0.1895 - auc: 0.8252\n",
            "Epoch 12/100\n",
            "600/600 [==============================] - 1s 2ms/step - loss: 0.1897 - auc: 0.8246\n",
            "Epoch 13/100\n",
            "600/600 [==============================] - 1s 2ms/step - loss: 0.1893 - auc: 0.8255\n",
            "Epoch 14/100\n",
            "600/600 [==============================] - 1s 2ms/step - loss: 0.1893 - auc: 0.8274\n",
            "Epoch 15/100\n",
            "600/600 [==============================] - 1s 2ms/step - loss: 0.1893 - auc: 0.8265\n",
            "Epoch 16/100\n",
            "600/600 [==============================] - 1s 2ms/step - loss: 0.1893 - auc: 0.8249\n",
            "Epoch 17/100\n",
            "600/600 [==============================] - 1s 2ms/step - loss: 0.1891 - auc: 0.8248\n",
            "Epoch 18/100\n",
            "600/600 [==============================] - 1s 2ms/step - loss: 0.1894 - auc: 0.8264\n",
            "Epoch 19/100\n",
            "600/600 [==============================] - 1s 2ms/step - loss: 0.1891 - auc: 0.8269\n",
            "Epoch 20/100\n",
            "600/600 [==============================] - 1s 2ms/step - loss: 0.1892 - auc: 0.8253\n",
            "Epoch 21/100\n",
            "600/600 [==============================] - 1s 2ms/step - loss: 0.1885 - auc: 0.8286\n",
            "Epoch 22/100\n",
            "600/600 [==============================] - 1s 2ms/step - loss: 0.1885 - auc: 0.8293\n",
            "Epoch 23/100\n",
            "600/600 [==============================] - 2s 3ms/step - loss: 0.1887 - auc: 0.8277\n",
            "Epoch 24/100\n",
            "600/600 [==============================] - 1s 2ms/step - loss: 0.1886 - auc: 0.8277\n",
            "Epoch 25/100\n",
            "600/600 [==============================] - 1s 2ms/step - loss: 0.1882 - auc: 0.8290\n",
            "Epoch 26/100\n",
            "600/600 [==============================] - 1s 2ms/step - loss: 0.1881 - auc: 0.8304\n",
            "Epoch 27/100\n",
            "600/600 [==============================] - 1s 2ms/step - loss: 0.1879 - auc: 0.8304\n",
            "Epoch 28/100\n",
            "600/600 [==============================] - 1s 2ms/step - loss: 0.1881 - auc: 0.8300\n",
            "Epoch 29/100\n",
            "600/600 [==============================] - 1s 2ms/step - loss: 0.1880 - auc: 0.8304\n",
            "Epoch 30/100\n",
            "600/600 [==============================] - 1s 2ms/step - loss: 0.1878 - auc: 0.8306\n",
            "Epoch 31/100\n",
            "600/600 [==============================] - 1s 2ms/step - loss: 0.1880 - auc: 0.8315\n",
            "Epoch 32/100\n",
            "600/600 [==============================] - 1s 2ms/step - loss: 0.1875 - auc: 0.8316\n",
            "Epoch 33/100\n",
            "600/600 [==============================] - 1s 2ms/step - loss: 0.1875 - auc: 0.8320\n",
            "Epoch 34/100\n",
            "600/600 [==============================] - 1s 2ms/step - loss: 0.1877 - auc: 0.8310\n",
            "Epoch 35/100\n",
            "600/600 [==============================] - 1s 2ms/step - loss: 0.1874 - auc: 0.8321\n",
            "Epoch 36/100\n",
            "600/600 [==============================] - 1s 2ms/step - loss: 0.1875 - auc: 0.8312\n",
            "Epoch 37/100\n",
            "600/600 [==============================] - 1s 2ms/step - loss: 0.1879 - auc: 0.8313\n",
            "Epoch 38/100\n",
            "600/600 [==============================] - 1s 2ms/step - loss: 0.1873 - auc: 0.8320\n",
            "Epoch 39/100\n",
            "600/600 [==============================] - 1s 2ms/step - loss: 0.1872 - auc: 0.8320\n",
            "Epoch 40/100\n",
            "600/600 [==============================] - 1s 2ms/step - loss: 0.1866 - auc: 0.8337\n",
            "Epoch 41/100\n",
            "600/600 [==============================] - 1s 2ms/step - loss: 0.1874 - auc: 0.8304\n",
            "Epoch 42/100\n",
            "600/600 [==============================] - 1s 2ms/step - loss: 0.1876 - auc: 0.8299\n",
            "Epoch 43/100\n",
            "600/600 [==============================] - 1s 2ms/step - loss: 0.1869 - auc: 0.8324\n",
            "Epoch 44/100\n",
            "600/600 [==============================] - 2s 4ms/step - loss: 0.1868 - auc: 0.8338\n",
            "Epoch 45/100\n",
            "600/600 [==============================] - 1s 2ms/step - loss: 0.1866 - auc: 0.8345\n",
            "Epoch 46/100\n",
            "600/600 [==============================] - 1s 2ms/step - loss: 0.1865 - auc: 0.8327\n",
            "Epoch 47/100\n",
            "600/600 [==============================] - 1s 2ms/step - loss: 0.1868 - auc: 0.8325\n",
            "Epoch 48/100\n",
            "600/600 [==============================] - 1s 2ms/step - loss: 0.1865 - auc: 0.8344\n",
            "Epoch 49/100\n",
            "600/600 [==============================] - 1s 2ms/step - loss: 0.1867 - auc: 0.8321\n",
            "Epoch 50/100\n",
            "600/600 [==============================] - 1s 2ms/step - loss: 0.1866 - auc: 0.8324\n",
            "Epoch 51/100\n",
            "600/600 [==============================] - 1s 2ms/step - loss: 0.1862 - auc: 0.8350\n",
            "Epoch 52/100\n",
            "600/600 [==============================] - 1s 2ms/step - loss: 0.1862 - auc: 0.8359\n",
            "Epoch 53/100\n",
            "600/600 [==============================] - 1s 2ms/step - loss: 0.1865 - auc: 0.8339\n",
            "Epoch 54/100\n",
            "600/600 [==============================] - 1s 2ms/step - loss: 0.1862 - auc: 0.8347\n",
            "Epoch 55/100\n",
            "600/600 [==============================] - 2s 3ms/step - loss: 0.1862 - auc: 0.8356\n",
            "Epoch 56/100\n",
            "600/600 [==============================] - 2s 4ms/step - loss: 0.1856 - auc: 0.8368\n",
            "Epoch 57/100\n",
            "600/600 [==============================] - 1s 2ms/step - loss: 0.1856 - auc: 0.8367\n",
            "Epoch 58/100\n",
            "600/600 [==============================] - 1s 2ms/step - loss: 0.1858 - auc: 0.8361\n",
            "Epoch 59/100\n",
            "600/600 [==============================] - 1s 2ms/step - loss: 0.1861 - auc: 0.8340\n",
            "Epoch 60/100\n",
            "600/600 [==============================] - 1s 2ms/step - loss: 0.1859 - auc: 0.8351\n",
            "Epoch 61/100\n",
            "600/600 [==============================] - 1s 2ms/step - loss: 0.1859 - auc: 0.8363\n",
            "Epoch 62/100\n",
            "600/600 [==============================] - 1s 2ms/step - loss: 0.1856 - auc: 0.8375\n",
            "Epoch 63/100\n",
            "600/600 [==============================] - 1s 2ms/step - loss: 0.1855 - auc: 0.8362\n",
            "Epoch 64/100\n",
            "600/600 [==============================] - 1s 2ms/step - loss: 0.1855 - auc: 0.8360\n",
            "Epoch 65/100\n",
            "600/600 [==============================] - 1s 2ms/step - loss: 0.1859 - auc: 0.8348\n",
            "Epoch 66/100\n",
            "600/600 [==============================] - 2s 4ms/step - loss: 0.1853 - auc: 0.8370\n",
            "Epoch 67/100\n",
            "600/600 [==============================] - 3s 4ms/step - loss: 0.1860 - auc: 0.8341\n",
            "Epoch 68/100\n",
            "600/600 [==============================] - 1s 2ms/step - loss: 0.1851 - auc: 0.8389\n",
            "Epoch 69/100\n",
            "600/600 [==============================] - 1s 2ms/step - loss: 0.1855 - auc: 0.8380\n",
            "Epoch 70/100\n",
            "600/600 [==============================] - 2s 3ms/step - loss: 0.1849 - auc: 0.8377\n",
            "Epoch 71/100\n",
            "600/600 [==============================] - 3s 4ms/step - loss: 0.1852 - auc: 0.8372\n",
            "Epoch 72/100\n",
            "600/600 [==============================] - 1s 2ms/step - loss: 0.1851 - auc: 0.8375\n",
            "Epoch 73/100\n",
            "600/600 [==============================] - 1s 2ms/step - loss: 0.1851 - auc: 0.8377\n",
            "Epoch 74/100\n",
            "600/600 [==============================] - 1s 2ms/step - loss: 0.1847 - auc: 0.8393\n",
            "Epoch 75/100\n",
            "600/600 [==============================] - 1s 2ms/step - loss: 0.1847 - auc: 0.8386\n",
            "Epoch 76/100\n",
            "600/600 [==============================] - 1s 2ms/step - loss: 0.1847 - auc: 0.8389\n",
            "Epoch 77/100\n",
            "600/600 [==============================] - 1s 2ms/step - loss: 0.1846 - auc: 0.8396\n",
            "Epoch 78/100\n",
            "600/600 [==============================] - 2s 3ms/step - loss: 0.1847 - auc: 0.8403\n",
            "Epoch 79/100\n",
            "600/600 [==============================] - 1s 2ms/step - loss: 0.1845 - auc: 0.8392\n",
            "Epoch 80/100\n",
            "600/600 [==============================] - 2s 2ms/step - loss: 0.1844 - auc: 0.8390\n",
            "Epoch 81/100\n",
            "600/600 [==============================] - 1s 2ms/step - loss: 0.1845 - auc: 0.8392\n",
            "Epoch 82/100\n",
            "600/600 [==============================] - 2s 3ms/step - loss: 0.1845 - auc: 0.8406\n",
            "Epoch 83/100\n",
            "600/600 [==============================] - 1s 2ms/step - loss: 0.1845 - auc: 0.8386\n",
            "Epoch 84/100\n",
            "600/600 [==============================] - 1s 2ms/step - loss: 0.1837 - auc: 0.8427\n",
            "Epoch 85/100\n",
            "600/600 [==============================] - 2s 3ms/step - loss: 0.1841 - auc: 0.8411\n",
            "Epoch 86/100\n",
            "600/600 [==============================] - 2s 3ms/step - loss: 0.1842 - auc: 0.8389\n",
            "Epoch 87/100\n",
            "600/600 [==============================] - 1s 2ms/step - loss: 0.1845 - auc: 0.8392\n",
            "Epoch 88/100\n",
            "600/600 [==============================] - 1s 2ms/step - loss: 0.1843 - auc: 0.8394\n",
            "Epoch 89/100\n",
            "600/600 [==============================] - 1s 2ms/step - loss: 0.1842 - auc: 0.8402\n",
            "Epoch 90/100\n",
            "600/600 [==============================] - 1s 2ms/step - loss: 0.1841 - auc: 0.8392\n",
            "Epoch 91/100\n",
            "600/600 [==============================] - 1s 2ms/step - loss: 0.1840 - auc: 0.8411\n",
            "Epoch 92/100\n",
            "600/600 [==============================] - 1s 2ms/step - loss: 0.1838 - auc: 0.8418\n",
            "Epoch 93/100\n",
            "600/600 [==============================] - 1s 2ms/step - loss: 0.1839 - auc: 0.8393\n",
            "Epoch 94/100\n",
            "600/600 [==============================] - 1s 2ms/step - loss: 0.1838 - auc: 0.8425\n",
            "Epoch 95/100\n",
            "600/600 [==============================] - 1s 2ms/step - loss: 0.1833 - auc: 0.8427\n",
            "Epoch 96/100\n",
            "600/600 [==============================] - 1s 2ms/step - loss: 0.1840 - auc: 0.8408\n",
            "Epoch 97/100\n",
            "600/600 [==============================] - 1s 2ms/step - loss: 0.1834 - auc: 0.8418\n",
            "Epoch 98/100\n",
            "600/600 [==============================] - 2s 3ms/step - loss: 0.1835 - auc: 0.8424\n",
            "Epoch 99/100\n",
            "600/600 [==============================] - 2s 2ms/step - loss: 0.1833 - auc: 0.8441\n",
            "Epoch 100/100\n",
            "600/600 [==============================] - 1s 2ms/step - loss: 0.1836 - auc: 0.8413\n"
          ]
        },
        {
          "output_type": "execute_result",
          "data": {
            "text/plain": [
              "<keras.callbacks.History at 0x7fc58212aeb0>"
            ]
          },
          "metadata": {},
          "execution_count": 44
        }
      ]
    },
    {
      "cell_type": "code",
      "source": [
        "loss, accuracy = model.evaluate(X_test, y_test)\n",
        "print('Precisión: %.2f' % (accuracy*100))\n",
        "print('Pérdida: %.2f' % (loss*100))"
      ],
      "metadata": {
        "colab": {
          "base_uri": "https://localhost:8080/"
        },
        "id": "t4GzkvPLsfL1",
        "outputId": "9b585326-ffb5-4cb1-c6fc-c63cf1d13693"
      },
      "execution_count": null,
      "outputs": [
        {
          "output_type": "stream",
          "name": "stdout",
          "text": [
            "938/938 [==============================] - 3s 3ms/step - loss: 0.1818 - auc: 0.8491\n",
            "Precisión: 84.91\n",
            "Pérdida: 18.18\n"
          ]
        }
      ]
    },
    {
      "cell_type": "markdown",
      "source": [
        "Se puede concluir que el modelo funciona ya que el acurracy de los datos de entrenamiento vs los datos de prueba no tienen una brecha grande por lo que el overfitting no esta presente."
      ],
      "metadata": {
        "id": "RlVBep85vdFV"
      }
    }
  ],
  "metadata": {
    "kernelspec": {
      "display_name": "Python 3",
      "language": "python",
      "name": "python3"
    },
    "language_info": {
      "mimetype": "text/x-python",
      "name": "python",
      "pygments_lexer": "ipython3",
      "codemirror_mode": {
        "name": "ipython",
        "version": 3
      },
      "version": "3.7.6",
      "nbconvert_exporter": "python",
      "file_extension": ".py"
    },
    "toc": {
      "title_sidebar": "Contents",
      "nav_menu": {},
      "sideBar": true,
      "number_sections": true,
      "skip_h1_title": false,
      "base_numbering": 1,
      "toc_cell": false,
      "toc_position": {},
      "toc_section_display": true,
      "toc_window_display": false,
      "title_cell": "Table of Contents"
    },
    "application/vnd.databricks.v1+notebook": {
      "notebookName": "04 Proyecto final - Fase 4",
      "dashboards": [],
      "notebookMetadata": {
        "pythonIndentUnit": 2
      },
      "language": "python",
      "widgets": {},
      "notebookOrigID": 4210819233675370
    },
    "colab": {
      "provenance": [],
      "include_colab_link": true
    }
  },
  "nbformat": 4,
  "nbformat_minor": 0
}