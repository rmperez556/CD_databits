{
  "cells": [
    {
      "cell_type": "markdown",
      "metadata": {
        "id": "view-in-github",
        "colab_type": "text"
      },
      "source": [
        "<a href=\"https://colab.research.google.com/github/rmperez556/CD_databits/blob/main/01_Python_Intro_crash_course.ipynb\" target=\"_parent\"><img src=\"https://colab.research.google.com/assets/colab-badge.svg\" alt=\"Open In Colab\"/></a>"
      ]
    },
    {
      "cell_type": "markdown",
      "source": [
        "\n",
        "\n",
        "<div style=\"text-align: center; line-height: 0; padding-top: 9px;\">\n",
        "  <img src=\"https://storage.googleapis.com/datasets-academy/public-img/notebooks/headers/databits-header-notebook.png\" alt=\"Databricks Learning\" style=\"width: 100%;\">\n",
        "</div>"
      ],
      "metadata": {
        "application/vnd.databricks.v1+cell": {
          "title": "",
          "showTitle": false,
          "inputWidgets": {},
          "nuid": "03b1e648-7253-423e-80d0-3092c3672d5e"
        },
        "id": "lMyAtfipDqU0"
      }
    },
    {
      "cell_type": "markdown",
      "source": [
        "# <center>  Python - Intro crash course </center>\n",
        "\n",
        "## Descripción\n",
        "En esta sección de introducirá al lenguaje de programación Python analizando sus fundamentos, tipos de datos, operadores y colecciones de datos.\n",
        "\n",
        "## Contenido\n",
        "\n",
        "* Fundamentos, tipos de datos y operadores para comenzar con Python\n",
        "* Colecciones de datos: tuplas, listas y diccionarios\n",
        "* Operaciones con colecciones de datos\n",
        "\n",
        "\n",
        "## Audiencia\n",
        "\n",
        "* Audiencia primaria: Desarrolladores, Ingenieros y Científicos de datos y Analistas de BI\n",
        "\n",
        "## Requisitos previos\n",
        "\n",
        "* Conocimientos básicos de programación\n",
        "* Navegador web: Chrome\n",
        "\n",
        "<img alt=\"Caution\" title=\"Caution\" style=\"vertical-align: text-bottom; position: relative; height:1.3em; top:0.0em\" src=\"https://storage.googleapis.com/datasets-academy/public-img/notebooks/icons/danger.png\"/> **Disclaimer:** Este material ha sido preparado por el equipo de **handytec Academy®**. Se prohibe la publicación o reproducción de este material sin previa autorización de **handytec Academy®** - 2022 Todos los derechos reservados."
      ],
      "metadata": {
        "id": "XrIYsn5bmseb",
        "application/vnd.databricks.v1+cell": {
          "title": "",
          "showTitle": false,
          "inputWidgets": {},
          "nuid": "b48e138c-c50d-4205-b451-db6174a5a7af"
        }
      }
    },
    {
      "cell_type": "markdown",
      "source": [
        "## Parte 1: Fundamentos, tipos de datos  y operadores para comenzar con Python\n",
        "**a. Python**\n",
        "* Es gratuito y de código abierto\n",
        "* Guido van Rossum ideó el lenguaje Python a finales de los años 80 y su primera versión pública fue en febrero de 1991\n",
        "* Es un lenguaje interpretado\n",
        "* Posee tipeo dinámico, por lo cual nos es necesario especificar el tipo de dato que contendrán las variables\n",
        "* Es un lenguaje de programación de propósito general (diseñado para resolver cualquier problema) y facilidad para construir cualquier programa\n",
        "\n",
        "**b. Importancia de Pyhton**\n",
        "* Lenguaje intuitivo, da la apariencia de que estamos escribiendo pseudocódigo en inglés\n",
        "* Tiene paquetes versátiles para múltiples aplicaciones incluyendo Ciencia de Datos\n",
        "* Cuenta con una comunidad activa de computación científica y análisis de datos"
      ],
      "metadata": {
        "application/vnd.databricks.v1+cell": {
          "title": "",
          "showTitle": false,
          "inputWidgets": {},
          "nuid": "8ca16400-2a88-44bf-acfb-cc79384c1f39"
        },
        "id": "aPEz194gDqU4"
      }
    },
    {
      "cell_type": "markdown",
      "source": [
        "### Imprimir en pantalla nuestro código"
      ],
      "metadata": {
        "application/vnd.databricks.v1+cell": {
          "title": "",
          "showTitle": false,
          "inputWidgets": {},
          "nuid": "223a3b30-13f2-47b6-8596-b356709fdc55"
        },
        "id": "LJb3ASEfDqU4"
      }
    },
    {
      "cell_type": "code",
      "source": [
        "# Un comentario es antecedido por el símbolo de numeral\n",
        "print(\"Hola Python!\")"
      ],
      "metadata": {
        "id": "nRfqTkwT5CDI",
        "application/vnd.databricks.v1+cell": {
          "title": "",
          "showTitle": false,
          "inputWidgets": {},
          "nuid": "470c2ab7-d6cf-4e22-803e-7ac6d60493db"
        },
        "colab": {
          "base_uri": "https://localhost:8080/"
        },
        "outputId": "16e3277f-0d49-4bfd-d0d5-683bbf27954d"
      },
      "outputs": [
        {
          "output_type": "stream",
          "name": "stdout",
          "text": [
            "Hola Python!\n"
          ]
        }
      ],
      "execution_count": null
    },
    {
      "cell_type": "code",
      "source": [
        "help(print)"
      ],
      "metadata": {
        "application/vnd.databricks.v1+cell": {
          "title": "",
          "showTitle": false,
          "inputWidgets": {},
          "nuid": "01a64839-8b63-4ad2-88f7-005d0a220491"
        },
        "colab": {
          "base_uri": "https://localhost:8080/"
        },
        "id": "-p-HfU7nDqU6",
        "outputId": "6f3a51fe-1a2e-4587-8d62-955b51953829"
      },
      "outputs": [
        {
          "output_type": "stream",
          "name": "stdout",
          "text": [
            "Help on built-in function print in module builtins:\n",
            "\n",
            "print(...)\n",
            "    print(value, ..., sep=' ', end='\\n', file=sys.stdout, flush=False)\n",
            "    \n",
            "    Prints the values to a stream, or to sys.stdout by default.\n",
            "    Optional keyword arguments:\n",
            "    file:  a file-like object (stream); defaults to the current sys.stdout.\n",
            "    sep:   string inserted between values, default a space.\n",
            "    end:   string appended after the last value, default a newline.\n",
            "    flush: whether to forcibly flush the stream.\n",
            "\n"
          ]
        }
      ],
      "execution_count": null
    },
    {
      "cell_type": "markdown",
      "source": [
        "### Tipos de datos en Python"
      ],
      "metadata": {
        "id": "_HZjRxXK2cYe",
        "application/vnd.databricks.v1+cell": {
          "title": "",
          "showTitle": false,
          "inputWidgets": {},
          "nuid": "3ff681d2-9244-4a38-a361-9ce088140325"
        }
      }
    },
    {
      "cell_type": "markdown",
      "source": [
        "Datos Primitivos en Python: \n",
        "* Numéricos: enteros `int`, decimales-punto flotante `float` y complejos `complex`\n",
        "* Lógicos: booleanos (```True``` y ```False```)\n",
        "* Cadenas de Caracteres: datos estructurados a partir de `str` (texto y palabras). No hay diferencia en el uso de comillas simples y dobles. La comillas triples se emplean para escribir múltiples líneas (párrafos)\n",
        "\n",
        "```type(x)``` es una función de Python que nos permite saber por consola el tipo de dato que es x."
      ],
      "metadata": {
        "id": "eiHTIB_nK3md",
        "application/vnd.databricks.v1+cell": {
          "title": "",
          "showTitle": false,
          "inputWidgets": {},
          "nuid": "b9546d1e-1d6d-435d-be63-9f158ff8dd28"
        }
      }
    },
    {
      "cell_type": "code",
      "source": [
        "#NUMERICOS:\n",
        "print(type(-8), type(5.6), type(1-2j))"
      ],
      "metadata": {
        "id": "nalagL11_bPK",
        "application/vnd.databricks.v1+cell": {
          "title": "",
          "showTitle": false,
          "inputWidgets": {},
          "nuid": "a02763fe-4de7-48a4-a80c-6acaa8caed95"
        },
        "colab": {
          "base_uri": "https://localhost:8080/"
        },
        "outputId": "8ac1a861-a49b-4547-c079-8d66f1e460b9"
      },
      "outputs": [
        {
          "output_type": "stream",
          "name": "stdout",
          "text": [
            "<class 'int'> <class 'float'> <class 'complex'>\n"
          ]
        }
      ],
      "execution_count": null
    },
    {
      "cell_type": "code",
      "source": [
        "#BOOLEANOS\n",
        "print(type(True), type(False))"
      ],
      "metadata": {
        "application/vnd.databricks.v1+cell": {
          "title": "",
          "showTitle": false,
          "inputWidgets": {},
          "nuid": "59dec889-78fd-430c-9e59-6cc3ac9cff17"
        },
        "colab": {
          "base_uri": "https://localhost:8080/"
        },
        "id": "fRjj0T37DqU8",
        "outputId": "cf7fec96-8082-43f5-9e0c-918984415300"
      },
      "outputs": [
        {
          "output_type": "stream",
          "name": "stdout",
          "text": [
            "<class 'bool'> <class 'bool'>\n"
          ]
        }
      ],
      "execution_count": null
    },
    {
      "cell_type": "code",
      "source": [
        "#CADENAS DE CARACTERES\n",
        "print(type('Palabras'), type(\"Uso de oraciones\"), type('''Se emplea para párrafos. Incluye múltiples oraciones'''))"
      ],
      "metadata": {
        "id": "Q1xcEoXPLH1K",
        "application/vnd.databricks.v1+cell": {
          "title": "",
          "showTitle": false,
          "inputWidgets": {},
          "nuid": "bfea53de-62b1-45e4-b63c-11e79dd72d12"
        },
        "colab": {
          "base_uri": "https://localhost:8080/"
        },
        "scrolled": true,
        "outputId": "c188678a-9c54-4619-ee96-d2660374792e"
      },
      "outputs": [
        {
          "output_type": "stream",
          "name": "stdout",
          "text": [
            "<class 'str'> <class 'str'> <class 'str'>\n"
          ]
        }
      ],
      "execution_count": null
    },
    {
      "cell_type": "markdown",
      "source": [
        "### Creación y Asignación de Variables\n",
        "Las variables son elementos que almacenan/representan datos y se identifican por letras o nombres.\n",
        "\n",
        "Su creacion se realiza a través de la **ASIGNACION** de un **VALOR** a una variable utilizando el operador ```=```.\n",
        "\n",
        "Nombres de Variables:\n",
        "*   Distingue el uso de mayúsculas y minúsculas\n",
        "*   No se permite caracteres de puntuación como +, -, @, $ y %\n",
        "*   Significativos con relación al dato que  representa o almacena\n",
        "*   Hay [palabras reservadas](https://es.wikibooks.org/wiki/Python/Generalidades/Palabras_reservadas,_operadores_y_s%C3%ADmbolos_del_lenguaje) que no son válidas como nombres de variables\n",
        "*   Emplear las recomendaciones de [PEP-8](https://www.python.org/dev/peps/pep-0008/) para seguir mejores prácticas sobre cómo escribir código Python\n",
        "\n",
        "**Buena práctica:** Los nombres de las variables deben estar en minúsculas, con palabras separadas por guiones bajos según sea necesario para mejorar la legibilidad."
      ],
      "metadata": {
        "id": "7cIkuADYQMw9",
        "application/vnd.databricks.v1+cell": {
          "title": "",
          "showTitle": false,
          "inputWidgets": {},
          "nuid": "d5069838-ccaa-40f8-915c-e90f99c1f19a"
        }
      }
    },
    {
      "cell_type": "code",
      "source": [
        "#Diferenciar entre mayúsculas y minúculas\n",
        "precio = 30\n",
        "Precio = 24\n",
        "\n",
        "#¿Cuál será el resultado de imprimir Precio?\n",
        "Precio"
      ],
      "metadata": {
        "application/vnd.databricks.v1+cell": {
          "title": "",
          "showTitle": false,
          "inputWidgets": {},
          "nuid": "25d36d41-e0ae-4344-ae48-adb426dc181f"
        },
        "colab": {
          "base_uri": "https://localhost:8080/"
        },
        "id": "BSyAJkuTDqU9",
        "outputId": "408cd12b-c46d-4256-f8db-a464dfa6093f"
      },
      "outputs": [
        {
          "output_type": "execute_result",
          "data": {
            "text/plain": [
              "24"
            ]
          },
          "metadata": {},
          "execution_count": 86
        }
      ],
      "execution_count": null
    },
    {
      "cell_type": "markdown",
      "source": [
        "Las variables pueden cambiar su valor o tipo de dato que almacenan a lo largo de la ejecución de un programa.\n",
        "**La última asignación es la que cuenta.**"
      ],
      "metadata": {
        "id": "t2pwkrAQVURe",
        "application/vnd.databricks.v1+cell": {
          "title": "",
          "showTitle": false,
          "inputWidgets": {},
          "nuid": "e9e7b0a0-bffd-4242-89ad-2b67efb01ec3"
        }
      }
    },
    {
      "cell_type": "code",
      "source": [
        "#Asignación en misma linea con ;\n",
        "a = 0 ; b = -10       \n",
        "print(a, b)\n",
        "\n",
        "#Asignación multiple\n",
        "a, b = 5.0, 'Dia'   \n",
        "print(a, b)"
      ],
      "metadata": {
        "id": "Kx6iug_PVSEm",
        "application/vnd.databricks.v1+cell": {
          "title": "",
          "showTitle": false,
          "inputWidgets": {},
          "nuid": "01de70f7-a115-4fd8-959c-78da5c53b72d"
        },
        "colab": {
          "base_uri": "https://localhost:8080/"
        },
        "outputId": "96b5c9fc-15b0-4a7a-d007-6d4f9d5bde41"
      },
      "outputs": [
        {
          "output_type": "stream",
          "name": "stdout",
          "text": [
            "0 -10\n",
            "5.0 Dia\n"
          ]
        }
      ],
      "execution_count": null
    },
    {
      "cell_type": "markdown",
      "source": [
        "### Operadores aritméticos, relacionales, lógicos y de pertenencia"
      ],
      "metadata": {
        "id": "pArnN1lI_b_2",
        "application/vnd.databricks.v1+cell": {
          "title": "",
          "showTitle": false,
          "inputWidgets": {},
          "nuid": "815d099d-176d-4870-ac05-6f60a395f37c"
        }
      }
    },
    {
      "cell_type": "markdown",
      "source": [
        "Los **operadores** son símbolos que expresan operaciones básicas en un programa. \n",
        "* Operadores **ARITMÉTICOS:**\n",
        " - Suma `+`\n",
        " - Resta `-`\n",
        " - Multiplicación `*`\n",
        " - División `/`, dividión entera `//` y módulo `%`\n",
        " - Potenciación `**`"
      ],
      "metadata": {
        "id": "mu532-mLcNWg",
        "application/vnd.databricks.v1+cell": {
          "title": "",
          "showTitle": false,
          "inputWidgets": {},
          "nuid": "1d87da48-4716-46e7-85e2-886ff6a9c080"
        }
      }
    },
    {
      "cell_type": "code",
      "source": [
        "# Ejecutar diferentes tipos de operaciones en los datos\n",
        "a = 5 ** 3\n",
        "print(a)"
      ],
      "metadata": {
        "id": "JtustTY4ecbD",
        "application/vnd.databricks.v1+cell": {
          "title": "",
          "showTitle": false,
          "inputWidgets": {},
          "nuid": "8915e35f-757c-4878-83c3-d9e41da052b5"
        },
        "colab": {
          "base_uri": "https://localhost:8080/"
        },
        "outputId": "c0433765-3c3d-4269-acdc-5426f5466b67"
      },
      "outputs": [
        {
          "output_type": "stream",
          "name": "stdout",
          "text": [
            "125\n"
          ]
        }
      ],
      "execution_count": null
    },
    {
      "cell_type": "markdown",
      "source": [
        "* Operadores **RELACIONALES**: Comparan valores y devuelven un booleano (```True``` o ```False```) según corresponda el resultado de la evaluación."
      ],
      "metadata": {
        "id": "gof2b2gQgpgu",
        "application/vnd.databricks.v1+cell": {
          "title": "",
          "showTitle": false,
          "inputWidgets": {},
          "nuid": "f8d1ecc5-49dc-4d5e-bcb5-57e35f8ec0e2"
        }
      }
    },
    {
      "cell_type": "code",
      "source": [
        "a = 8\n",
        "print(\"igual que:\" , a == 8)\n",
        "print(\"distinto que:\" , a != 8)"
      ],
      "metadata": {
        "id": "1lcuLG3Eek0p",
        "application/vnd.databricks.v1+cell": {
          "title": "",
          "showTitle": false,
          "inputWidgets": {},
          "nuid": "4a470680-8dd3-4d98-a502-fb1da3a57d75"
        },
        "colab": {
          "base_uri": "https://localhost:8080/"
        },
        "scrolled": true,
        "outputId": "398103b6-56d4-41b0-f961-b65390476a1f"
      },
      "outputs": [
        {
          "output_type": "stream",
          "name": "stdout",
          "text": [
            "igual que: True\n",
            "distinto que: False\n"
          ]
        }
      ],
      "execution_count": null
    },
    {
      "cell_type": "code",
      "source": [
        "a, b = 4, 18\n",
        "print(\"mayor que:\", a > b)\n",
        "print(\"menor que:\", a < b)"
      ],
      "metadata": {
        "id": "Vd2DaaGtiZPM",
        "application/vnd.databricks.v1+cell": {
          "title": "",
          "showTitle": false,
          "inputWidgets": {},
          "nuid": "1bd94cf2-4a2a-49d2-84d9-bb56719a2305"
        },
        "colab": {
          "base_uri": "https://localhost:8080/"
        },
        "scrolled": false,
        "outputId": "7235706e-353a-4d62-9e68-20ff881ddb1d"
      },
      "outputs": [
        {
          "output_type": "stream",
          "name": "stdout",
          "text": [
            "mayor que: False\n",
            "menor que: True\n"
          ]
        }
      ],
      "execution_count": null
    },
    {
      "cell_type": "code",
      "source": [
        "a, b = 1, 5\n",
        "print(\"mayor o igual que:\", b >= a)    # 5 >= 1\n",
        "print(\"menor o igual que:\", -1 <= a)   # -1 <= 1"
      ],
      "metadata": {
        "id": "ie5rg7oFjky4",
        "application/vnd.databricks.v1+cell": {
          "title": "",
          "showTitle": false,
          "inputWidgets": {},
          "nuid": "f3c54393-228e-4de0-bf14-dfa366eca911"
        },
        "colab": {
          "base_uri": "https://localhost:8080/"
        },
        "scrolled": true,
        "outputId": "5ab27d31-ba50-4f4e-bdd2-3b8d71f26219"
      },
      "outputs": [
        {
          "output_type": "stream",
          "name": "stdout",
          "text": [
            "mayor o igual que: True\n",
            "menor o igual que: True\n"
          ]
        }
      ],
      "execution_count": null
    },
    {
      "cell_type": "markdown",
      "source": [
        "* Operadores **LÓGICOS**: Permiten construir expresiones lógicas. El resultado es un booleano. \n",
        ">NOTA: Revisa [tablas de verdad](https://es.wikipedia.org/wiki/Tabla_de_verdad) para las operaciones de conjunción, disyunción y negación."
      ],
      "metadata": {
        "id": "n65TVsMJkYCI",
        "application/vnd.databricks.v1+cell": {
          "title": "",
          "showTitle": false,
          "inputWidgets": {},
          "nuid": "d891e59a-4b9a-4677-949a-7f79b917990a"
        }
      }
    },
    {
      "cell_type": "code",
      "source": [
        "# CONJUNCION (and)\n",
        "a = 4\n",
        "a >= 1 and a <= 5   #(4>=1)  and  (4<=5)  = True"
      ],
      "metadata": {
        "id": "TnrxfzjomUSN",
        "application/vnd.databricks.v1+cell": {
          "title": "",
          "showTitle": false,
          "inputWidgets": {},
          "nuid": "384fd4a4-566f-47ea-9a60-08b399485872"
        },
        "colab": {
          "base_uri": "https://localhost:8080/"
        },
        "outputId": "e80f64f2-f5b1-4616-bcf6-fd0b4ebcdf9f"
      },
      "outputs": [
        {
          "output_type": "execute_result",
          "data": {
            "text/plain": [
              "True"
            ]
          },
          "metadata": {},
          "execution_count": 92
        }
      ],
      "execution_count": null
    },
    {
      "cell_type": "code",
      "source": [
        "# DISYUNCION (or)\n",
        "a = 7\n",
        "a >= 6 or a == 10   #(7>=6) or (a==10) = True   "
      ],
      "metadata": {
        "id": "rXFtJiPimUEd",
        "application/vnd.databricks.v1+cell": {
          "title": "",
          "showTitle": false,
          "inputWidgets": {},
          "nuid": "f689b33f-59bb-4de9-a847-264965f4b193"
        },
        "colab": {
          "base_uri": "https://localhost:8080/"
        },
        "outputId": "6faa8e45-4d93-43e7-f829-3b30ac510c9e"
      },
      "outputs": [
        {
          "output_type": "execute_result",
          "data": {
            "text/plain": [
              "True"
            ]
          },
          "metadata": {},
          "execution_count": 93
        }
      ],
      "execution_count": null
    },
    {
      "cell_type": "code",
      "source": [
        "# NEGACION (not)\n",
        "a = False\n",
        "not a"
      ],
      "metadata": {
        "id": "JYGEkatKmTzG",
        "application/vnd.databricks.v1+cell": {
          "title": "",
          "showTitle": false,
          "inputWidgets": {},
          "nuid": "d0dc3f83-f788-49f0-9828-80300c37aa8f"
        },
        "colab": {
          "base_uri": "https://localhost:8080/"
        },
        "outputId": "3e7c3be8-88ca-4fd2-9d72-41c848845a4d"
      },
      "outputs": [
        {
          "output_type": "execute_result",
          "data": {
            "text/plain": [
              "True"
            ]
          },
          "metadata": {},
          "execution_count": 94
        }
      ],
      "execution_count": null
    },
    {
      "cell_type": "markdown",
      "source": [
        "* Operadores de **PERTENENCIA**: Permiten evidenciar si un objeto forma parte o no de una secuencia. El resultado es un booleano."
      ],
      "metadata": {
        "application/vnd.databricks.v1+cell": {
          "title": "",
          "showTitle": false,
          "inputWidgets": {},
          "nuid": "3e848e0c-5c4d-4c4d-ac4a-ef489907c8f7"
        },
        "id": "p-jotziyDqVA"
      }
    },
    {
      "cell_type": "code",
      "source": [
        "texto = \"La escritura en Python es intuitiva\"\n",
        "\n",
        "# SE ENCUENTRA (in)\n",
        "print('N' in texto)\n",
        "\n",
        "# NO SE ENCUENTRA (not in)\n",
        "print('x' not in texto)  "
      ],
      "metadata": {
        "application/vnd.databricks.v1+cell": {
          "title": "",
          "showTitle": false,
          "inputWidgets": {},
          "nuid": "19ed636e-7e1b-480e-b998-9501fca66ed6"
        },
        "colab": {
          "base_uri": "https://localhost:8080/"
        },
        "id": "Mi_KW2xhDqVA",
        "outputId": "cdd7d63f-6e52-4e06-ad21-12a377f7f9a9"
      },
      "outputs": [
        {
          "output_type": "stream",
          "name": "stdout",
          "text": [
            "False\n",
            "True\n"
          ]
        }
      ],
      "execution_count": null
    },
    {
      "cell_type": "markdown",
      "source": [
        "> **Ejercicio 1:** Realizar las siguientes ejecuciones de código:\n",
        "\n",
        "1. Imprimir el tipo de dato que es x\n",
        "2. Verificar que el valor de x sea mayor igual a 0 y menor igual a 10\n",
        "3. Evaluar si x es diferente a 4\n",
        "4. Dividir x para el valor de 2 (obtener el cociente)"
      ],
      "metadata": {
        "id": "5Ey2Lv8FD9os"
      }
    },
    {
      "cell_type": "code",
      "source": [
        "x = 3\n",
        "\n",
        "# Su código aquí"
      ],
      "metadata": {
        "application/vnd.databricks.v1+cell": {
          "title": "",
          "showTitle": false,
          "inputWidgets": {},
          "nuid": "da41b0c0-c866-4a9d-b8d3-188d603a4a9f"
        },
        "id": "B0dm5nvaDqVA"
      },
      "outputs": [],
      "execution_count": null
    },
    {
      "cell_type": "markdown",
      "source": [
        "### Solución"
      ],
      "metadata": {
        "id": "DXS-jnZ7Fr7J"
      }
    },
    {
      "cell_type": "code",
      "source": [
        "# Ejercicio 1 resuelto\n",
        "x = 3\n",
        "print('Respuestas:')\n",
        "print('Primer enunciado:', type(x))\n",
        "print('Segundo enunciado:', x >= 0 and x <= 10)\n",
        "print('Tercer enunciado:', x != 4)\n",
        "print('Cuarto enunciado:', x/2)"
      ],
      "metadata": {
        "application/vnd.databricks.v1+cell": {
          "title": "",
          "showTitle": false,
          "inputWidgets": {},
          "nuid": "3dc8c1e7-10dc-4bd7-9276-26079f9e47d3"
        },
        "colab": {
          "base_uri": "https://localhost:8080/"
        },
        "cellView": "code",
        "id": "_i8xw7rADqVA",
        "outputId": "5e52bd8d-9375-45ed-8730-5c0086162f6c"
      },
      "outputs": [
        {
          "output_type": "stream",
          "name": "stdout",
          "text": [
            "Respuestas:\n",
            "Primer enunciado: <class 'int'>\n",
            "Segundo enunciado: True\n",
            "Tercer enunciado: True\n",
            "Cuarto enunciado: 1.5\n"
          ]
        }
      ],
      "execution_count": null
    },
    {
      "cell_type": "markdown",
      "source": [
        "### Prioridad de Operadores:\n",
        "1.   Parentesis\n",
        "2.   Potencia\n",
        "3.  Multiplicación y división\n",
        "4.  Suma y resta"
      ],
      "metadata": {
        "id": "AdHGl7GcqHDb",
        "application/vnd.databricks.v1+cell": {
          "title": "",
          "showTitle": false,
          "inputWidgets": {},
          "nuid": "45bac491-6544-41f9-aca1-6346fa9b9d40"
        }
      }
    },
    {
      "cell_type": "code",
      "source": [
        "y = -1 + 2 * 0 - (24 / 2 ** 3)\n",
        "print(y)"
      ],
      "metadata": {
        "id": "K0RNNaEFqiX_",
        "application/vnd.databricks.v1+cell": {
          "title": "",
          "showTitle": false,
          "inputWidgets": {},
          "nuid": "fc000586-85bb-451d-9f9e-3c553ba4a7f4"
        },
        "colab": {
          "base_uri": "https://localhost:8080/"
        },
        "outputId": "37e9a793-2428-416f-f2a5-e1c19e515793"
      },
      "outputs": [
        {
          "output_type": "stream",
          "name": "stdout",
          "text": [
            "-4.0\n"
          ]
        }
      ],
      "execution_count": null
    },
    {
      "cell_type": "markdown",
      "source": [
        "### Conversiones entre tipos de datos"
      ],
      "metadata": {
        "id": "JHo2s3BS_h8f",
        "application/vnd.databricks.v1+cell": {
          "title": "",
          "showTitle": false,
          "inputWidgets": {},
          "nuid": "ac4146b3-0593-448a-97cc-7a5d5335dd6e"
        }
      }
    },
    {
      "cell_type": "markdown",
      "source": [
        "Se pueden convertir datos cuyos contenidos sean compatibles (numéricos a diferentes formatos, numéricos a ```str```). **Pero no es válido convertir str a formatos numéricos.** \n",
        "\n",
        "Las principales funciones convertidoras son:\n",
        "*   ```int()```\n",
        "*   ```float()```\n",
        "*   ```str()```"
      ],
      "metadata": {
        "id": "OaqgmWBTcM7s",
        "application/vnd.databricks.v1+cell": {
          "title": "",
          "showTitle": false,
          "inputWidgets": {},
          "nuid": "2a800f46-b4f2-4d30-bdad-2e9f31c8a045"
        }
      }
    },
    {
      "cell_type": "code",
      "source": [
        "#Conversión de un decimal(float) a entero (int)\n",
        "a = 3.141516\n",
        "int(a)"
      ],
      "metadata": {
        "id": "OdIvH19as30o",
        "application/vnd.databricks.v1+cell": {
          "title": "",
          "showTitle": false,
          "inputWidgets": {},
          "nuid": "fa44b5fa-4d19-4482-8097-35c48cc6a607"
        },
        "colab": {
          "base_uri": "https://localhost:8080/"
        },
        "outputId": "633cad66-3e33-4084-a5a0-ab8d0996cd94"
      },
      "outputs": [
        {
          "output_type": "execute_result",
          "data": {
            "text/plain": [
              "3"
            ]
          },
          "metadata": {},
          "execution_count": 99
        }
      ],
      "execution_count": null
    },
    {
      "cell_type": "code",
      "source": [
        "#Conversión de un número a caracteres de texto (str)\n",
        "b = 7\n",
        "print(str(b))\n",
        "print(type(str(b)))"
      ],
      "metadata": {
        "application/vnd.databricks.v1+cell": {
          "title": "",
          "showTitle": false,
          "inputWidgets": {},
          "nuid": "1e51c53b-05e4-46de-ae15-b2c75949bb66"
        },
        "colab": {
          "base_uri": "https://localhost:8080/"
        },
        "id": "OHyIQmYADqVB",
        "outputId": "a90c9aac-cba1-4ba1-8385-526f403d21a5"
      },
      "outputs": [
        {
          "output_type": "stream",
          "name": "stdout",
          "text": [
            "7\n",
            "<class 'str'>\n"
          ]
        }
      ],
      "execution_count": null
    },
    {
      "cell_type": "markdown",
      "source": [
        "**Errores de conversión:** Que sucede al intentar convertir un str en valor numérico (int, float)? <br>"
      ],
      "metadata": {
        "id": "PQrWEGdmla8k",
        "application/vnd.databricks.v1+cell": {
          "title": "",
          "showTitle": false,
          "inputWidgets": {},
          "nuid": "23f1a124-1785-41d4-85ff-6cca2c103955"
        }
      }
    },
    {
      "cell_type": "code",
      "source": [
        "c = 'Raquel'\n",
        "# print(int(c))"
      ],
      "metadata": {
        "id": "60MOagFcla8k",
        "application/vnd.databricks.v1+cell": {
          "title": "",
          "showTitle": false,
          "inputWidgets": {},
          "nuid": "bc69c88f-b0b7-49df-bf1b-f30d040b3d88"
        }
      },
      "outputs": [],
      "execution_count": null
    },
    {
      "cell_type": "markdown",
      "source": [
        "## Parte 2: Colecciones de datos: tuplas, listas y diccionarios"
      ],
      "metadata": {
        "application/vnd.databricks.v1+cell": {
          "title": "",
          "showTitle": false,
          "inputWidgets": {},
          "nuid": "18f9e71e-ede9-4ce2-868d-b48c390cde46"
        },
        "id": "68QT3aWvDqVB"
      }
    },
    {
      "cell_type": "markdown",
      "source": [
        "### Tuplas\n",
        "1. Colección de datos INMUTABLES (sus elementos no pueden modificarse) \n",
        "2. Encerrar la tupla entre paréntisis `()`\n",
        "3. No requiere especificar el tipo de datos y puede contener elementos de distinto tipo\n",
        "4. Separar cada elemento con coma\n",
        "5. Asignar la tupla a una variable que la representará, utilizando el operador ="
      ],
      "metadata": {
        "application/vnd.databricks.v1+cell": {
          "title": "",
          "showTitle": false,
          "inputWidgets": {},
          "nuid": "aa83f2c1-3374-45aa-8a80-2bbf6e025643"
        },
        "id": "fcuFORlGDqVC"
      }
    },
    {
      "cell_type": "code",
      "source": [
        "tupla = (100, 20, 0, 300)\n",
        "tupla"
      ],
      "metadata": {
        "application/vnd.databricks.v1+cell": {
          "title": "",
          "showTitle": false,
          "inputWidgets": {},
          "nuid": "a2bd9fd0-dd4f-4b1a-ac90-f6e1e8c6f9c5"
        },
        "colab": {
          "base_uri": "https://localhost:8080/"
        },
        "id": "LHA6uq8EDqVC",
        "outputId": "7138dcfb-6f05-4b66-958f-4d5eea265a31"
      },
      "outputs": [
        {
          "output_type": "execute_result",
          "data": {
            "text/plain": [
              "(100, 20, 0, 300)"
            ]
          },
          "metadata": {},
          "execution_count": 102
        }
      ],
      "execution_count": null
    },
    {
      "cell_type": "code",
      "source": [
        "type(tupla)"
      ],
      "metadata": {
        "application/vnd.databricks.v1+cell": {
          "title": "",
          "showTitle": false,
          "inputWidgets": {},
          "nuid": "50111342-7e69-441f-9d21-98d15e5bc89d"
        },
        "colab": {
          "base_uri": "https://localhost:8080/"
        },
        "id": "EQ90nXyrDqVC",
        "outputId": "633a2791-d57b-4ee7-9345-e53348f416f8"
      },
      "outputs": [
        {
          "output_type": "execute_result",
          "data": {
            "text/plain": [
              "tuple"
            ]
          },
          "metadata": {},
          "execution_count": 103
        }
      ],
      "execution_count": null
    },
    {
      "cell_type": "markdown",
      "source": [
        "**Error por Inmutabilidad de Tuplas:** Al tratar de modificar un elemento en una tupla se emite un mensaje de error. \n",
        "\n",
        "**Importante:** Las tuplas son inmutables."
      ],
      "metadata": {
        "application/vnd.databricks.v1+cell": {
          "title": "",
          "showTitle": false,
          "inputWidgets": {},
          "nuid": "9044d196-0923-4900-8090-6a2de312b82e"
        },
        "id": "f3VoHkkzDqVC"
      }
    },
    {
      "cell_type": "markdown",
      "source": [
        "### Listas\n",
        "\n",
        "Las listas permiten organizar los datos en conjuntos con alguna similitud: amigos, películas, tareas, etc. \n",
        "\n",
        "**Creación:**\n",
        "1.   No requiere especificar tipo de datos y puede contener elementos de distinto tipo\n",
        "2.   Separar cada elemento con coma\n",
        "3.   Encerrar la lista con corchetes ```[ ]```\n",
        "4.   Asignar la lista a una variable que la representará, utilizando el operador ```=```\n",
        "5.   Son **mutables** lo que permite modificar sus elementos"
      ],
      "metadata": {
        "id": "NqflwZTN4Jwq",
        "application/vnd.databricks.v1+cell": {
          "title": "",
          "showTitle": false,
          "inputWidgets": {},
          "nuid": "9d827de6-b9d1-49c8-89c1-d9cdaabe468c"
        }
      }
    },
    {
      "cell_type": "code",
      "source": [
        "vacia = [ ]\n",
        "print(vacia)\n",
        "\n",
        "amigos = ['Kan', 'Ely','Pedro', 'Ali']\n",
        "print(amigos)"
      ],
      "metadata": {
        "id": "tB8wEb9734J8",
        "application/vnd.databricks.v1+cell": {
          "title": "",
          "showTitle": false,
          "inputWidgets": {},
          "nuid": "03035ecd-8799-4124-a91c-f233c86015e2"
        },
        "colab": {
          "base_uri": "https://localhost:8080/"
        },
        "outputId": "c2a9e6fe-f5a9-4497-a631-1084c8b5ab6d"
      },
      "outputs": [
        {
          "output_type": "stream",
          "name": "stdout",
          "text": [
            "[]\n",
            "['Kan', 'Ely', 'Pedro', 'Ali']\n"
          ]
        }
      ],
      "execution_count": null
    },
    {
      "cell_type": "markdown",
      "source": [
        "**Propiedades:**\n",
        "\n",
        "* `len()`   número de elementos que contiene la lista\n",
        "* `min()`   mínimo de una lista numérica\n",
        "* `max()`   máximo de una lista numérica\n",
        "* `sum()`   suma de elementos en una lista numérica"
      ],
      "metadata": {
        "id": "8dara_f56bLx",
        "application/vnd.databricks.v1+cell": {
          "title": "",
          "showTitle": false,
          "inputWidgets": {},
          "nuid": "c0f34176-d63c-4633-a357-9d14c25843f1"
        }
      }
    },
    {
      "cell_type": "code",
      "source": [
        "lista = [-10, .5, 6.2, -1.]    \n",
        "len(lista)"
      ],
      "metadata": {
        "id": "iAlTAZGX6YDU",
        "application/vnd.databricks.v1+cell": {
          "title": "",
          "showTitle": false,
          "inputWidgets": {},
          "nuid": "73a18676-a227-40be-b2f5-787f997cc034"
        },
        "colab": {
          "base_uri": "https://localhost:8080/"
        },
        "outputId": "7b5db542-944d-4430-a27d-62d384722781"
      },
      "outputs": [
        {
          "output_type": "execute_result",
          "data": {
            "text/plain": [
              "4"
            ]
          },
          "metadata": {},
          "execution_count": 105
        }
      ],
      "execution_count": null
    },
    {
      "cell_type": "code",
      "source": [
        "print('mínimo:', min(lista), 'máximo:', max(lista))"
      ],
      "metadata": {
        "id": "15ZFtQHD656n",
        "application/vnd.databricks.v1+cell": {
          "title": "",
          "showTitle": false,
          "inputWidgets": {},
          "nuid": "78a1716d-550c-482b-b49b-7daebf62a97c"
        },
        "colab": {
          "base_uri": "https://localhost:8080/"
        },
        "outputId": "acfe5afc-020a-4687-f64a-b26961e08aec"
      },
      "outputs": [
        {
          "output_type": "stream",
          "name": "stdout",
          "text": [
            "mínimo: -10 máximo: 6.2\n"
          ]
        }
      ],
      "execution_count": null
    },
    {
      "cell_type": "code",
      "source": [
        "print('suma:', sum(lista))"
      ],
      "metadata": {
        "id": "YtsrfUrx650_",
        "application/vnd.databricks.v1+cell": {
          "title": "",
          "showTitle": false,
          "inputWidgets": {},
          "nuid": "6f5c730a-04fc-4ca7-923d-f8944b3d2525"
        },
        "colab": {
          "base_uri": "https://localhost:8080/"
        },
        "outputId": "82fb537f-9362-422b-e6ad-e1519a895830"
      },
      "outputs": [
        {
          "output_type": "stream",
          "name": "stdout",
          "text": [
            "suma: -4.3\n"
          ]
        }
      ],
      "execution_count": null
    },
    {
      "cell_type": "markdown",
      "source": [
        "**Añadir elementos a una lista con `+`**"
      ],
      "metadata": {
        "application/vnd.databricks.v1+cell": {
          "title": "",
          "showTitle": false,
          "inputWidgets": {},
          "nuid": "2e06464e-c8c5-40d6-853b-c7448047cd78"
        },
        "id": "FeRm0CS-DqVD"
      }
    },
    {
      "cell_type": "code",
      "source": [
        "x = [3,9,0]\n",
        "y = [3,4,5]\n",
        "z = x + y\n",
        "print(z)"
      ],
      "metadata": {
        "id": "wNwxQxFW65tq",
        "application/vnd.databricks.v1+cell": {
          "title": "",
          "showTitle": false,
          "inputWidgets": {},
          "nuid": "30122a5b-b5a5-41b6-87ad-4b2f23732bf7"
        },
        "colab": {
          "base_uri": "https://localhost:8080/"
        },
        "outputId": "1f2e0cfd-d0f0-41d3-ca6f-e883d8136f43"
      },
      "outputs": [
        {
          "output_type": "stream",
          "name": "stdout",
          "text": [
            "[3, 9, 0, 3, 4, 5]\n"
          ]
        }
      ],
      "execution_count": null
    },
    {
      "cell_type": "markdown",
      "source": [
        "**Añadir elementos con `append`**"
      ],
      "metadata": {
        "application/vnd.databricks.v1+cell": {
          "title": "",
          "showTitle": false,
          "inputWidgets": {},
          "nuid": "4a34229a-16e1-4991-bf24-fac7e4ff3fab"
        },
        "id": "9KgK5U0lDqVD"
      }
    },
    {
      "cell_type": "code",
      "source": [
        "amigos = ['Kan', 'Ely', 'Pedro', 'Ali', 'Manuela', 'Monica']\n",
        "amigos.append('Galia')\n",
        "print(amigos)"
      ],
      "metadata": {
        "id": "kL-w57b-MF5T",
        "application/vnd.databricks.v1+cell": {
          "title": "",
          "showTitle": false,
          "inputWidgets": {},
          "nuid": "23818630-c001-4654-abc5-c346a5e42bd0"
        },
        "colab": {
          "base_uri": "https://localhost:8080/"
        },
        "outputId": "b7f021c7-253f-43c9-e0cf-f4eec7230439"
      },
      "outputs": [
        {
          "output_type": "stream",
          "name": "stdout",
          "text": [
            "['Kan', 'Ely', 'Pedro', 'Ali', 'Manuela', 'Monica', 'Galia']\n"
          ]
        }
      ],
      "execution_count": null
    },
    {
      "cell_type": "markdown",
      "source": [
        "**Eliminar elementos con `remove`**"
      ],
      "metadata": {
        "application/vnd.databricks.v1+cell": {
          "title": "",
          "showTitle": false,
          "inputWidgets": {},
          "nuid": "49ed02a2-aacd-4cc4-961a-35c24d1530c7"
        },
        "id": "e9sexHmsDqVD"
      }
    },
    {
      "cell_type": "code",
      "source": [
        "amigos.remove('Ali')\n",
        "print(amigos)"
      ],
      "metadata": {
        "id": "6_b7WJEeMwqF",
        "application/vnd.databricks.v1+cell": {
          "title": "",
          "showTitle": false,
          "inputWidgets": {},
          "nuid": "fb5f3faa-cd05-4b5a-aa8e-7994360f3afd"
        },
        "colab": {
          "base_uri": "https://localhost:8080/"
        },
        "outputId": "73fce29c-e038-4862-d31e-cfe84038bb2e"
      },
      "outputs": [
        {
          "output_type": "stream",
          "name": "stdout",
          "text": [
            "['Kan', 'Ely', 'Pedro', 'Manuela', 'Monica', 'Galia']\n"
          ]
        }
      ],
      "execution_count": null
    },
    {
      "cell_type": "markdown",
      "source": [
        "**Ordenar elementos con `sort`**: Para listas con elementos numéricos se ordena de forma ascendente o descendente y para cadenas de texto de forma alfabética"
      ],
      "metadata": {
        "application/vnd.databricks.v1+cell": {
          "title": "",
          "showTitle": false,
          "inputWidgets": {},
          "nuid": "bc5b6efc-a54c-41f5-be21-dc519009f6ca"
        },
        "id": "SjwtwLHgDqVD"
      }
    },
    {
      "cell_type": "code",
      "source": [
        "L = [-10,3,7,2]\n",
        "print(L)\n",
        "\n",
        "L.sort()\n",
        "print(L)"
      ],
      "metadata": {
        "id": "TzkKwsziMkx3",
        "application/vnd.databricks.v1+cell": {
          "title": "",
          "showTitle": false,
          "inputWidgets": {},
          "nuid": "f163daf0-9a96-4ebf-a197-cf0633baf6c8"
        },
        "colab": {
          "base_uri": "https://localhost:8080/"
        },
        "outputId": "358351e8-1abf-432f-80a3-007f9eaee044"
      },
      "outputs": [
        {
          "output_type": "stream",
          "name": "stdout",
          "text": [
            "[-10, 3, 7, 2]\n",
            "[-10, 2, 3, 7]\n"
          ]
        }
      ],
      "execution_count": null
    },
    {
      "cell_type": "code",
      "source": [
        "L.sort(reverse=True)\n",
        "print(L)"
      ],
      "metadata": {
        "application/vnd.databricks.v1+cell": {
          "title": "",
          "showTitle": false,
          "inputWidgets": {},
          "nuid": "c4da6faa-afd1-4c72-be97-77cdd8619b5b"
        },
        "colab": {
          "base_uri": "https://localhost:8080/"
        },
        "id": "lESOTa9ODqVE",
        "outputId": "93205f83-cc23-4b3f-b603-6772a8755362"
      },
      "outputs": [
        {
          "output_type": "stream",
          "name": "stdout",
          "text": [
            "[7, 3, 2, -10]\n"
          ]
        }
      ],
      "execution_count": null
    },
    {
      "cell_type": "markdown",
      "source": [
        "**Limpiar los elementos de una lista con `clear`**"
      ],
      "metadata": {
        "application/vnd.databricks.v1+cell": {
          "title": "",
          "showTitle": false,
          "inputWidgets": {},
          "nuid": "c55d17e2-0b92-40b2-868a-749f091bc4a6"
        },
        "id": "C1UKgrgsDqVE"
      }
    },
    {
      "cell_type": "code",
      "source": [
        "L.clear()\n",
        "print(L)"
      ],
      "metadata": {
        "id": "j9VxR4FGMptZ",
        "application/vnd.databricks.v1+cell": {
          "title": "",
          "showTitle": false,
          "inputWidgets": {},
          "nuid": "5c5363a0-a481-40b2-83a7-4b90f67d7bdd"
        },
        "colab": {
          "base_uri": "https://localhost:8080/"
        },
        "outputId": "699b37fd-e567-4d28-bb69-37ce93be2337"
      },
      "outputs": [
        {
          "output_type": "stream",
          "name": "stdout",
          "text": [
            "[]\n"
          ]
        }
      ],
      "execution_count": null
    },
    {
      "cell_type": "markdown",
      "source": [
        "### Indexación de Listas"
      ],
      "metadata": {
        "id": "pcc0VSi5AyZn",
        "application/vnd.databricks.v1+cell": {
          "title": "",
          "showTitle": false,
          "inputWidgets": {},
          "nuid": "0726b7fa-0d3c-46fc-9246-a7b5540c08c9"
        }
      }
    },
    {
      "cell_type": "markdown",
      "source": [
        "Python es un lenguaje cero-indexado por lo que el conteo de elementos empieza desde cero.\n",
        "\n",
        "Para acceder a los elementos (items) de una Lista utilizamos **índices** dentro de corchetes `[]`. Los **índices** son valores numéricos enteros que se manejan de 2 formas:\n",
        "\n",
        "1.   Indices Positivos: De Izquierda a Derecha empezando por el `0`:  (0,1,2,...)\n",
        "2.   Indices Negativos: De Derecha a Izquierda empezando por el `-1`:  (-1, -2, -3,...)\n",
        "\n",
        "\n",
        "<img style=\"float: center; width: 500px\" src=\"https://storage.googleapis.com/datasets-academy/slice.png\">"
      ],
      "metadata": {
        "id": "igXmOgqi-N1R",
        "application/vnd.databricks.v1+cell": {
          "title": "",
          "showTitle": false,
          "inputWidgets": {},
          "nuid": "7eac6ca9-8806-4bdc-8cff-8b25649e95af"
        }
      }
    },
    {
      "cell_type": "code",
      "source": [
        "L = ['a', 'b', 'c', 'd', 'e', 'f']\n",
        "\n",
        "# Indices positivos y negativos para acceder a un mismo elemento:\n",
        "\n",
        "# Primer elemento: \n",
        "print(L[0], L[-6])\n",
        "\n",
        "# Último elemento:  \n",
        "print(L[5], L[-1])"
      ],
      "metadata": {
        "id": "iASbn0Cx_JHb",
        "application/vnd.databricks.v1+cell": {
          "title": "",
          "showTitle": false,
          "inputWidgets": {},
          "nuid": "55d30b8a-7c96-4324-9a0c-552e983cd615"
        },
        "colab": {
          "base_uri": "https://localhost:8080/"
        },
        "outputId": "3d47e4c1-7616-475d-ef1b-a9954da9a28a"
      },
      "outputs": [
        {
          "output_type": "stream",
          "name": "stdout",
          "text": [
            "a a\n",
            "f f\n"
          ]
        }
      ],
      "execution_count": null
    },
    {
      "cell_type": "markdown",
      "source": [
        "### Slicing de Listas\n",
        "Selección de una porción de la lista.\n",
        "```\n",
        "LISTA [inicio : fin]\n",
        "```\n",
        "\n",
        "<img style=\"float: center; width: 500px\" src=\"https://storage.googleapis.com/datasets-academy/slice.png\">"
      ],
      "metadata": {
        "id": "kvG-LPpMArfS",
        "application/vnd.databricks.v1+cell": {
          "title": "",
          "showTitle": false,
          "inputWidgets": {},
          "nuid": "3ea3125a-29c1-4756-9d7c-6b03605b6137"
        }
      }
    },
    {
      "cell_type": "code",
      "source": [
        "# Slicing de 2 elementos\n",
        "L = ['a', 'b', 'c', 'd', 'e', 'f']\n",
        "L[1:3]"
      ],
      "metadata": {
        "id": "cG67T8OcBfp4",
        "application/vnd.databricks.v1+cell": {
          "title": "",
          "showTitle": false,
          "inputWidgets": {},
          "nuid": "886b22f6-ffc4-4767-85a8-11bb7b82cf54"
        },
        "colab": {
          "base_uri": "https://localhost:8080/"
        },
        "outputId": "98530e41-c271-46aa-cdb3-45dee43a1259"
      },
      "outputs": [
        {
          "output_type": "execute_result",
          "data": {
            "text/plain": [
              "['b', 'c']"
            ]
          },
          "metadata": {},
          "execution_count": 115
        }
      ],
      "execution_count": null
    },
    {
      "cell_type": "code",
      "source": [
        "#Slicing desde el inicio de la lista hasta un final establecido\n",
        "L[:4]"
      ],
      "metadata": {
        "id": "TDBuGw4pla-M",
        "application/vnd.databricks.v1+cell": {
          "title": "",
          "showTitle": false,
          "inputWidgets": {},
          "nuid": "82799f04-c3b7-4e40-97aa-58aa981b5db4"
        },
        "colab": {
          "base_uri": "https://localhost:8080/"
        },
        "outputId": "4d8cdbd6-9347-45ee-8d79-4d219ea6512e"
      },
      "outputs": [
        {
          "output_type": "execute_result",
          "data": {
            "text/plain": [
              "['a', 'b', 'c', 'd']"
            ]
          },
          "metadata": {},
          "execution_count": 116
        }
      ],
      "execution_count": null
    },
    {
      "cell_type": "code",
      "source": [
        "#Slicing inverso\n",
        "L[:-2]"
      ],
      "metadata": {
        "application/vnd.databricks.v1+cell": {
          "title": "",
          "showTitle": false,
          "inputWidgets": {},
          "nuid": "3120a065-b182-47ff-a00b-4b0a1f8d2863"
        },
        "colab": {
          "base_uri": "https://localhost:8080/"
        },
        "id": "A_YVttjTDqVF",
        "outputId": "f62a88d8-8f32-4c38-ab01-e0aee0deb1cc"
      },
      "outputs": [
        {
          "output_type": "execute_result",
          "data": {
            "text/plain": [
              "['a', 'b', 'c', 'd']"
            ]
          },
          "metadata": {},
          "execution_count": 117
        }
      ],
      "execution_count": null
    },
    {
      "cell_type": "code",
      "source": [
        "#Slicing utilizando la longitud de una lista\n",
        "L[:len(L)]"
      ],
      "metadata": {
        "id": "imhrHvONla-O",
        "application/vnd.databricks.v1+cell": {
          "title": "",
          "showTitle": false,
          "inputWidgets": {},
          "nuid": "f3c4f747-39a0-413c-a6e5-b4a45172e3bd"
        },
        "colab": {
          "base_uri": "https://localhost:8080/"
        },
        "outputId": "8980fbd2-e9ad-4d1e-e04c-06bcbf17fca2"
      },
      "outputs": [
        {
          "output_type": "execute_result",
          "data": {
            "text/plain": [
              "['a', 'b', 'c', 'd', 'e', 'f']"
            ]
          },
          "metadata": {},
          "execution_count": 118
        }
      ],
      "execution_count": null
    },
    {
      "cell_type": "code",
      "source": [
        "#Slicing con inicio definido hasta el final de la lista\n",
        "L[3:]"
      ],
      "metadata": {
        "application/vnd.databricks.v1+cell": {
          "title": "",
          "showTitle": false,
          "inputWidgets": {},
          "nuid": "10facaeb-0f73-4682-bcb7-1b6b37529425"
        },
        "colab": {
          "base_uri": "https://localhost:8080/"
        },
        "id": "quEzD827DqVF",
        "outputId": "b7643064-c3f1-4f7c-c07b-b35259ece7b6"
      },
      "outputs": [
        {
          "output_type": "execute_result",
          "data": {
            "text/plain": [
              "['d', 'e', 'f']"
            ]
          },
          "metadata": {},
          "execution_count": 119
        }
      ],
      "execution_count": null
    },
    {
      "cell_type": "markdown",
      "source": [
        "> **Ejercicio 2:** En base a lo aprendido, aplique las siguientes acciones al listado: `nombres_usuario`\n",
        "\n",
        "1. Operaciones con la lista nombre_usuario:\n",
        " - Se identificó que entre los elementos figura el nombre de una ciudad, elimine el valor de `'Quito'` de la lista con el método `remove`\n",
        "\n",
        "2. Imprima el tercer y último elemento de la lista usando el indexado por posición\n",
        "3. Imprima los nombres desde el primero elemento de la lista hasta el cuarto elemento usando el slicing\n",
        "4. Finalmente contabilice el número de elementos en la lista"
      ],
      "metadata": {
        "application/vnd.databricks.v1+cell": {
          "title": "",
          "showTitle": false,
          "inputWidgets": {},
          "nuid": "b7b3a2a8-05e9-4c39-bd44-5e8f50808a3d"
        },
        "id": "z41gED1cDqVF"
      }
    },
    {
      "cell_type": "code",
      "source": [
        "nombres_usuarios = ['Juan', 'Andrea', 'Pedro', 'Mishell', 'Quito', 'Pablo']\n",
        "\n",
        "# Su código aquí"
      ],
      "metadata": {
        "application/vnd.databricks.v1+cell": {
          "title": "",
          "showTitle": false,
          "inputWidgets": {},
          "nuid": "8a786097-ccf0-48d5-8d6b-68ea9cfb0900"
        },
        "id": "A2SvsAvPDqVF"
      },
      "outputs": [],
      "execution_count": null
    },
    {
      "cell_type": "markdown",
      "source": [
        "### Solución"
      ],
      "metadata": {
        "id": "jDDGzfbHGHa1"
      }
    },
    {
      "cell_type": "code",
      "source": [
        "nombres_usuarios = ['Juan', 'Andrea', 'Pedro', 'Mishell', 'Quito', 'Pablo']\n",
        "print('Respuestas:')\n",
        "nombres_usuarios.remove('Quito')\n",
        "\n",
        "print('Segundo enunciado:', nombres_usuarios[2], nombres_usuarios[-1])\n",
        "print('Tercer enunciado:', nombres_usuarios[:4])\n",
        "print('Cuarto enunciado:', len(nombres_usuarios))"
      ],
      "metadata": {
        "application/vnd.databricks.v1+cell": {
          "title": "",
          "showTitle": false,
          "inputWidgets": {},
          "nuid": "ee2b4331-706f-4c0f-af47-f3e8b1041901"
        },
        "colab": {
          "base_uri": "https://localhost:8080/"
        },
        "id": "ll8uUPDMDqVF",
        "outputId": "547313c6-ebf1-4488-a18b-b3e292c63341"
      },
      "outputs": [
        {
          "output_type": "stream",
          "name": "stdout",
          "text": [
            "Respuestas:\n",
            "Segundo enunciado: Pedro Pablo\n",
            "Tercer enunciado: ['Juan', 'Andrea', 'Pedro', 'Mishell']\n",
            "Cuarto enunciado: 5\n"
          ]
        }
      ],
      "execution_count": null
    },
    {
      "cell_type": "markdown",
      "source": [
        "## Parte 3: Operaciones con colecciones de datos"
      ],
      "metadata": {
        "application/vnd.databricks.v1+cell": {
          "title": "",
          "showTitle": false,
          "inputWidgets": {},
          "nuid": "8fd6ee2a-1bcc-4a14-96ab-2a721e8f11fe"
        },
        "id": "jKvlD-hyDqVF"
      }
    },
    {
      "cell_type": "markdown",
      "source": [
        "### Operaciones básicas con listas"
      ],
      "metadata": {
        "id": "CiVKOXw7A3iE",
        "application/vnd.databricks.v1+cell": {
          "title": "",
          "showTitle": false,
          "inputWidgets": {},
          "nuid": "f78c3a08-01d6-4200-b09a-77cd0a1c18b0"
        }
      }
    },
    {
      "cell_type": "markdown",
      "source": [
        "**Mutabilidad**: Las listas pueden modificar sus elementos (son mutables)"
      ],
      "metadata": {
        "id": "2ldRLjBNCzsf",
        "application/vnd.databricks.v1+cell": {
          "title": "",
          "showTitle": false,
          "inputWidgets": {},
          "nuid": "de5fda1c-e2c1-4b41-804b-06793d2f6cae"
        }
      }
    },
    {
      "cell_type": "code",
      "source": [
        "A = ['Kan', 'Ely', 'Pedro']\n",
        "A[1] = 'Ana'\n",
        "print(A)"
      ],
      "metadata": {
        "id": "EWjX9ww4CyzD",
        "application/vnd.databricks.v1+cell": {
          "title": "",
          "showTitle": false,
          "inputWidgets": {},
          "nuid": "eb169f8f-2432-466d-a104-e457429efdc7"
        },
        "colab": {
          "base_uri": "https://localhost:8080/"
        },
        "outputId": "cae83cc6-6261-47b0-a3e6-41e0eaad0eea"
      },
      "outputs": [
        {
          "output_type": "stream",
          "name": "stdout",
          "text": [
            "['Kan', 'Ana', 'Pedro']\n"
          ]
        }
      ],
      "execution_count": null
    },
    {
      "cell_type": "markdown",
      "source": [
        "**Eliminar elementos** de una lista con el comando `del` con indice puntual o slicing."
      ],
      "metadata": {
        "id": "RYuDERAEDNzk",
        "application/vnd.databricks.v1+cell": {
          "title": "",
          "showTitle": false,
          "inputWidgets": {},
          "nuid": "84c28342-045f-41ee-9127-d81630268d23"
        }
      }
    },
    {
      "cell_type": "code",
      "source": [
        "A = ['Kan', 'Ana', 'Joaquin','Pedro','Ernesto']\n",
        "del(A[-1])\n",
        "print(A)"
      ],
      "metadata": {
        "id": "Tk8NSEAIDM8f",
        "application/vnd.databricks.v1+cell": {
          "title": "",
          "showTitle": false,
          "inputWidgets": {},
          "nuid": "9d419064-1e0f-4e6a-ade4-0febcf237f51"
        },
        "colab": {
          "base_uri": "https://localhost:8080/"
        },
        "outputId": "d71d3374-3e47-49f2-f14e-fccba8bd545b"
      },
      "outputs": [
        {
          "output_type": "stream",
          "name": "stdout",
          "text": [
            "['Kan', 'Ana', 'Joaquin', 'Pedro']\n"
          ]
        }
      ],
      "execution_count": null
    },
    {
      "cell_type": "code",
      "source": [
        "del(A[1:2])\n",
        "print(A)"
      ],
      "metadata": {
        "id": "D1VfLJGXla-X",
        "application/vnd.databricks.v1+cell": {
          "title": "",
          "showTitle": false,
          "inputWidgets": {},
          "nuid": "97779b08-9c70-4bf3-82d9-8722c0bc0613"
        },
        "colab": {
          "base_uri": "https://localhost:8080/"
        },
        "outputId": "d7d6c726-b47d-40a1-e976-cb198918998d"
      },
      "outputs": [
        {
          "output_type": "stream",
          "name": "stdout",
          "text": [
            "['Kan', 'Joaquin', 'Pedro']\n"
          ]
        }
      ],
      "execution_count": null
    },
    {
      "cell_type": "markdown",
      "source": [
        "**Concatenar/Unir** dos listas con el comando `extend`"
      ],
      "metadata": {
        "id": "8Ny1_2-eE_30",
        "application/vnd.databricks.v1+cell": {
          "title": "",
          "showTitle": false,
          "inputWidgets": {},
          "nuid": "d539d096-d51f-446b-bf5f-19da06cae965"
        }
      }
    },
    {
      "cell_type": "code",
      "source": [
        "L = [1,3,4]\n",
        "N = [30, 80, 45]\n",
        "\n",
        "L.extend(N)\n",
        "print(L)"
      ],
      "metadata": {
        "id": "g5O-bRuAE_bL",
        "application/vnd.databricks.v1+cell": {
          "title": "",
          "showTitle": false,
          "inputWidgets": {},
          "nuid": "60e4336b-71d0-4add-bf02-893ae06440dc"
        },
        "colab": {
          "base_uri": "https://localhost:8080/"
        },
        "outputId": "45715aab-f618-4598-d209-957dab90e9ca"
      },
      "outputs": [
        {
          "output_type": "stream",
          "name": "stdout",
          "text": [
            "[1, 3, 4, 30, 80, 45]\n"
          ]
        }
      ],
      "execution_count": null
    },
    {
      "cell_type": "markdown",
      "source": [
        "**Contar** el número de veces que se encuentra un elemento en una lista con `count`"
      ],
      "metadata": {
        "id": "kI4Ffd8fKi6o",
        "application/vnd.databricks.v1+cell": {
          "title": "",
          "showTitle": false,
          "inputWidgets": {},
          "nuid": "431753f9-0c59-4eca-bbd2-924bab029466"
        }
      }
    },
    {
      "cell_type": "code",
      "source": [
        "L = [1, 3, 4, 3, 3, 3, 1]\n",
        "L.count(3)"
      ],
      "metadata": {
        "id": "zz4eFVskKh4h",
        "application/vnd.databricks.v1+cell": {
          "title": "",
          "showTitle": false,
          "inputWidgets": {},
          "nuid": "4bd90899-8ee9-4516-8a10-595c5d70d95d"
        },
        "colab": {
          "base_uri": "https://localhost:8080/"
        },
        "outputId": "2addebc2-695b-4557-f56d-b6ded9c51f81"
      },
      "outputs": [
        {
          "output_type": "execute_result",
          "data": {
            "text/plain": [
              "4"
            ]
          },
          "metadata": {},
          "execution_count": 126
        }
      ],
      "execution_count": null
    },
    {
      "cell_type": "markdown",
      "source": [
        "**Obtener** el indice de la posicion de un elemento en una lista con `index`"
      ],
      "metadata": {
        "id": "yTw-BPE9la-k",
        "application/vnd.databricks.v1+cell": {
          "title": "",
          "showTitle": false,
          "inputWidgets": {},
          "nuid": "f81d7dcb-0fab-452f-b87f-1b0cd9aac669"
        }
      }
    },
    {
      "cell_type": "code",
      "source": [
        "L.index(3)"
      ],
      "metadata": {
        "id": "WBpfadlmLD0q",
        "application/vnd.databricks.v1+cell": {
          "title": "",
          "showTitle": false,
          "inputWidgets": {},
          "nuid": "26e86e0b-298d-40b6-8f64-78c7376edae4"
        },
        "colab": {
          "base_uri": "https://localhost:8080/"
        },
        "outputId": "618d23a3-71aa-422f-d896-c5f9ef44877c"
      },
      "outputs": [
        {
          "output_type": "execute_result",
          "data": {
            "text/plain": [
              "1"
            ]
          },
          "metadata": {},
          "execution_count": 127
        }
      ],
      "execution_count": null
    },
    {
      "cell_type": "code",
      "source": [
        "help(L.index)"
      ],
      "metadata": {
        "application/vnd.databricks.v1+cell": {
          "title": "",
          "showTitle": false,
          "inputWidgets": {},
          "nuid": "208f768d-d44f-4c1a-b8e8-4641ada6e3b0"
        },
        "colab": {
          "base_uri": "https://localhost:8080/"
        },
        "id": "RElF60a_DqVH",
        "outputId": "0e84ff90-d54f-40ff-c27f-d362a8e1cfa4"
      },
      "outputs": [
        {
          "output_type": "stream",
          "name": "stdout",
          "text": [
            "Help on built-in function index:\n",
            "\n",
            "index(value, start=0, stop=9223372036854775807, /) method of builtins.list instance\n",
            "    Return first index of value.\n",
            "    \n",
            "    Raises ValueError if the value is not present.\n",
            "\n"
          ]
        }
      ],
      "execution_count": null
    },
    {
      "cell_type": "markdown",
      "source": [
        "> **Ejercicio 3**: Poner en práctica lo aprendido realizando operaciones sobre la lista `productos` y `dulces`\n",
        "\n",
        "Construya una lista llamada `productos` que contega los siguientes valores `detergente`, `pasta`, `arroz` y `lechuga`\n",
        "\n",
        "1. Cambiar el valor de `pasta` por `galletas` dentro del listado, asignando en la posición de dicho valor el nuevo elemento e imprima el listado `productos`\n",
        "2. Crear una lista llamada `dulces` que contega los siguientes valores `chocolates` y `caramelos`, e imprima el listado creado\n",
        "3. Unir ambos listados con el método `extend` e imprima el listado `productos` concatenado\n",
        "4. Eliminar utilizando el slicing los tres primero elementos en el listado `productos` e imprima el listado"
      ],
      "metadata": {
        "application/vnd.databricks.v1+cell": {
          "title": "",
          "showTitle": false,
          "inputWidgets": {},
          "nuid": "15505f5e-2842-41ff-b872-f37ea9d1723b"
        },
        "id": "n7uVElGHDqVH"
      }
    },
    {
      "cell_type": "code",
      "source": [
        "# Su código aquí\n"
      ],
      "metadata": {
        "application/vnd.databricks.v1+cell": {
          "title": "",
          "showTitle": false,
          "inputWidgets": {},
          "nuid": "7ce9cf58-820e-49c3-82a6-8fbafb156e7c"
        },
        "id": "WiNufxC4DqVH"
      },
      "outputs": [],
      "execution_count": null
    },
    {
      "cell_type": "markdown",
      "source": [
        "### Solución"
      ],
      "metadata": {
        "id": "nvbecfpkGQsm"
      }
    },
    {
      "cell_type": "code",
      "source": [
        "print('Respuestas:')\n",
        "productos = ['detergente', 'pasta', 'arroz', 'lechuga']\n",
        "productos[1] = 'galletas'\n",
        "print('Primer enunciado:', productos)\n",
        "dulces = ['chocolates', 'caramelos']\n",
        "print('Segundo enunciado:', dulces)\n",
        "productos.extend(dulces)\n",
        "print('Tercer enunciado:', productos)\n",
        "del(productos[:3])\n",
        "print('Cuarto enunciado:', productos)"
      ],
      "metadata": {
        "application/vnd.databricks.v1+cell": {
          "title": "",
          "showTitle": false,
          "inputWidgets": {},
          "nuid": "83a6b06f-b3dd-4603-b976-659adc68a091"
        },
        "colab": {
          "base_uri": "https://localhost:8080/"
        },
        "id": "pDBN95lfDqVH",
        "outputId": "eec871ae-5a09-4711-96cf-7947dfa5b7ee"
      },
      "outputs": [
        {
          "output_type": "stream",
          "name": "stdout",
          "text": [
            "Respuestas:\n",
            "Primer enunciado: ['detergente', 'galletas', 'arroz', 'lechuga']\n",
            "Segundo enunciado: ['chocolates', 'caramelos']\n",
            "Tercer enunciado: ['detergente', 'galletas', 'arroz', 'lechuga', 'chocolates', 'caramelos']\n",
            "Cuarto enunciado: ['lechuga', 'chocolates', 'caramelos']\n"
          ]
        }
      ],
      "execution_count": null
    },
    {
      "cell_type": "markdown",
      "source": [
        "### Listas por comprensión\n",
        "\n",
        "Permite una escritura rápida y elegante para la creación de listas por medio de iteraciones\n",
        "\n",
        "```\n",
        "nombre_lista = [expresión for i in objeto_iterable]\n",
        "```"
      ],
      "metadata": {
        "application/vnd.databricks.v1+cell": {
          "title": "",
          "showTitle": false,
          "inputWidgets": {},
          "nuid": "ae374a86-80ff-4e22-9e49-51605aa95770"
        },
        "id": "TwidjvFRDqVH"
      }
    },
    {
      "cell_type": "code",
      "source": [
        "listado_str = [caracter.upper() for caracter in \"Iterar por caracter\"]\n",
        "print(listado_str)\n",
        "lista = [caracter.upper() for caracter in \"1714045729\"]\n",
        "print('la cedula es', lista)"
      ],
      "metadata": {
        "application/vnd.databricks.v1+cell": {
          "title": "",
          "showTitle": false,
          "inputWidgets": {},
          "nuid": "f02a73e7-5cac-4373-978a-7e59bdc2e6a5"
        },
        "colab": {
          "base_uri": "https://localhost:8080/"
        },
        "id": "bFystTtKDqVH",
        "outputId": "9ae0497c-4ed7-4c64-a766-a8af83590b74"
      },
      "outputs": [
        {
          "output_type": "stream",
          "name": "stdout",
          "text": [
            "['I', 'T', 'E', 'R', 'A', 'R', ' ', 'P', 'O', 'R', ' ', 'C', 'A', 'R', 'A', 'C', 'T', 'E', 'R']\n",
            "la cedula es ['1', '7', '1', '4', '0', '4', '5', '7', '2', '9']\n"
          ]
        }
      ],
      "execution_count": 3
    },
    {
      "cell_type": "code",
      "source": [
        "listado_num = [round(i) for i in [2.5, .4, 5.3, 7.1]]\n",
        "print(listado_num)"
      ],
      "metadata": {
        "application/vnd.databricks.v1+cell": {
          "title": "",
          "showTitle": false,
          "inputWidgets": {},
          "nuid": "a9f43f91-fbf2-4f8e-8254-8ddbfe1e2636"
        },
        "colab": {
          "base_uri": "https://localhost:8080/"
        },
        "id": "5iyB7dOADqVI",
        "outputId": "f79f12f2-f33c-4764-9a8c-310423cc7d33"
      },
      "outputs": [
        {
          "output_type": "stream",
          "name": "stdout",
          "text": [
            "[2, 0, 5, 7]\n"
          ]
        }
      ],
      "execution_count": null
    },
    {
      "cell_type": "markdown",
      "source": [
        "### Diccionarios"
      ],
      "metadata": {
        "collapsed": true,
        "id": "3pT4pwNhla-_",
        "application/vnd.databricks.v1+cell": {
          "title": "",
          "showTitle": false,
          "inputWidgets": {},
          "nuid": "a9c16877-afe3-414b-939b-483300a412fe"
        }
      }
    },
    {
      "cell_type": "markdown",
      "source": [
        "1. Nos permiten identificar cada elemento (valor) por una clave. **Importante:** Las claves son únicas, no pueden ser las mismas\n",
        "2. Encerrar el diccionario entre llaves ```{ }```\n",
        "3. Las parejas de clave y valor se separan con comas; mientras que, la clave y el valor se separan con dos puntos ```{clave1: valor1, clave2: valor2}```\n",
        "4. Asignar el diccionario a una variable que la representará, utilizando el operador ```=```\n",
        "5. Se accede a los mismos a través de las claves (no a través de índices de posición)"
      ],
      "metadata": {
        "id": "W7nWByZOla-_",
        "application/vnd.databricks.v1+cell": {
          "title": "",
          "showTitle": false,
          "inputWidgets": {},
          "nuid": "4a25238e-b8be-44b7-b1f8-3a653d1fd8b2"
        }
      }
    },
    {
      "cell_type": "code",
      "source": [
        "# claves: Nombre ciudades\n",
        "# valores: Numero de registros de participantes a un evento\n",
        "\n",
        "registro_ciudad = {'Lima': 692, 'Quito': 312, 'Montevideo': 95, 'Californina': 153, 'Medellín': 485}\n",
        "registro_ciudad"
      ],
      "metadata": {
        "id": "lP5R9wCsla_A",
        "application/vnd.databricks.v1+cell": {
          "title": "",
          "showTitle": false,
          "inputWidgets": {},
          "nuid": "b4fbd20f-bf4f-4826-bda2-89b238b6a429"
        },
        "colab": {
          "base_uri": "https://localhost:8080/"
        },
        "outputId": "31c63a66-198d-4cef-9f71-fb2c8241325f"
      },
      "outputs": [
        {
          "output_type": "execute_result",
          "data": {
            "text/plain": [
              "{'Lima': 692,\n",
              " 'Quito': 312,\n",
              " 'Montevideo': 95,\n",
              " 'Californina': 153,\n",
              " 'Medellín': 485}"
            ]
          },
          "metadata": {},
          "execution_count": 4
        }
      ],
      "execution_count": 4
    },
    {
      "cell_type": "markdown",
      "source": [
        "**Consultar valores** correspondientes a ciertas claves en un Diccionario <br>\n",
        "\n",
        "Para realizar esta consulta, INDEXAMOS con el nombre de la clave en el diccionario"
      ],
      "metadata": {
        "id": "Nfm_ZpMBla_A",
        "application/vnd.databricks.v1+cell": {
          "title": "",
          "showTitle": false,
          "inputWidgets": {},
          "nuid": "96350422-48cf-4c06-8eba-e41ee2397980"
        }
      }
    },
    {
      "cell_type": "code",
      "source": [
        "registro_ciudad['Quito']"
      ],
      "metadata": {
        "id": "0m4s7wFSla_B",
        "application/vnd.databricks.v1+cell": {
          "title": "",
          "showTitle": false,
          "inputWidgets": {},
          "nuid": "d8a0108a-ef71-4051-80cb-95e5e1985fc1"
        },
        "colab": {
          "base_uri": "https://localhost:8080/"
        },
        "outputId": "d49fd522-5f1b-4094-bd7e-d45b8b40426d"
      },
      "outputs": [
        {
          "output_type": "execute_result",
          "data": {
            "text/plain": [
              "312"
            ]
          },
          "metadata": {},
          "execution_count": 134
        }
      ],
      "execution_count": null
    },
    {
      "cell_type": "markdown",
      "source": [
        "**Crear una nueva pareja de clave valor**"
      ],
      "metadata": {
        "id": "R6dGxyfIla_C",
        "application/vnd.databricks.v1+cell": {
          "title": "",
          "showTitle": false,
          "inputWidgets": {},
          "nuid": "8e51f122-1b98-4cef-90d2-a01cfdb5da3d"
        }
      }
    },
    {
      "cell_type": "code",
      "source": [
        "registro_ciudad['Roma'] = 358 "
      ],
      "metadata": {
        "application/vnd.databricks.v1+cell": {
          "title": "",
          "showTitle": false,
          "inputWidgets": {},
          "nuid": "4c00a125-2a30-4a75-89cd-3b99e0ba7329"
        },
        "id": "IgGKLqDIDqVI"
      },
      "outputs": [],
      "execution_count": null
    },
    {
      "cell_type": "code",
      "source": [
        "print(registro_ciudad)"
      ],
      "metadata": {
        "application/vnd.databricks.v1+cell": {
          "title": "",
          "showTitle": false,
          "inputWidgets": {},
          "nuid": "29bbf0f8-44c8-4717-995a-e2437175530e"
        },
        "colab": {
          "base_uri": "https://localhost:8080/"
        },
        "id": "XGbk6ksXDqVI",
        "outputId": "68f016f4-d0db-4488-d14b-5939b72a3304"
      },
      "outputs": [
        {
          "output_type": "stream",
          "name": "stdout",
          "text": [
            "{'Lima': 692, 'Quito': 312, 'Montevideo': 95, 'Californina': 153, 'Medellín': 485, 'Roma': 358}\n"
          ]
        }
      ],
      "execution_count": null
    },
    {
      "cell_type": "markdown",
      "source": [
        "**Impresión de todos los valores y claves** almacenados en un Diccionario"
      ],
      "metadata": {
        "application/vnd.databricks.v1+cell": {
          "title": "",
          "showTitle": false,
          "inputWidgets": {},
          "nuid": "e896e930-3697-4609-9806-1d06cdb1099e"
        },
        "id": "L6XgZEoLDqVJ"
      }
    },
    {
      "cell_type": "code",
      "source": [
        "# Impresion de todas las claves (KEYS) de un diccionario\n",
        "registro_ciudad.keys()"
      ],
      "metadata": {
        "id": "_PhkCETAla_C",
        "application/vnd.databricks.v1+cell": {
          "title": "",
          "showTitle": false,
          "inputWidgets": {},
          "nuid": "c7e2ccaf-f338-4992-a7d2-af0b4dfed269"
        },
        "colab": {
          "base_uri": "https://localhost:8080/"
        },
        "outputId": "e589b28a-6d6d-47e6-b532-2e3a8b241cff"
      },
      "outputs": [
        {
          "output_type": "execute_result",
          "data": {
            "text/plain": [
              "dict_keys(['Lima', 'Quito', 'Montevideo', 'Californina', 'Medellín', 'Roma'])"
            ]
          },
          "metadata": {},
          "execution_count": 137
        }
      ],
      "execution_count": null
    },
    {
      "cell_type": "code",
      "source": [
        "# Impresion de todos los valores (VALUES) de un diccionario\n",
        "registro_ciudad.values()"
      ],
      "metadata": {
        "application/vnd.databricks.v1+cell": {
          "title": "",
          "showTitle": false,
          "inputWidgets": {},
          "nuid": "b0350378-b564-4b59-9712-1b6b52f13e37"
        },
        "colab": {
          "base_uri": "https://localhost:8080/"
        },
        "id": "9O9qRDALDqVJ",
        "outputId": "7a0c6d66-b215-48ec-ca69-5d2226261377"
      },
      "outputs": [
        {
          "output_type": "execute_result",
          "data": {
            "text/plain": [
              "dict_values([692, 312, 95, 153, 485, 358])"
            ]
          },
          "metadata": {},
          "execution_count": 138
        }
      ],
      "execution_count": null
    },
    {
      "cell_type": "markdown",
      "source": [
        "**Obtener, eliminar y actualizar** valores almacenados en un Diccionario"
      ],
      "metadata": {
        "application/vnd.databricks.v1+cell": {
          "title": "",
          "showTitle": false,
          "inputWidgets": {},
          "nuid": "98782716-ca0d-4314-bed0-31429f1d0bfb"
        },
        "id": "SzwMA3G7DqVJ"
      }
    },
    {
      "cell_type": "code",
      "source": [
        "# Obtener el valor correspondiente a partir del nombre de una clave (get)\n",
        "registro_ciudad.get('Lima')"
      ],
      "metadata": {
        "application/vnd.databricks.v1+cell": {
          "title": "",
          "showTitle": false,
          "inputWidgets": {},
          "nuid": "40c5daab-3e9a-481e-bbc2-c2128ecbb913"
        },
        "colab": {
          "base_uri": "https://localhost:8080/"
        },
        "id": "g07_2Yx0DqVJ",
        "outputId": "895a6f72-fdd7-41e7-be1f-e3e061a6bdd7"
      },
      "outputs": [
        {
          "output_type": "execute_result",
          "data": {
            "text/plain": [
              "692"
            ]
          },
          "metadata": {},
          "execution_count": 139
        }
      ],
      "execution_count": null
    },
    {
      "cell_type": "code",
      "source": [
        "# Borrar una pareja de clave: valor a partir del nombre de una clave (pop), finalmente devuelve el valor eliminado de dicha clave\n",
        "registro_ciudad.pop('Quito')"
      ],
      "metadata": {
        "application/vnd.databricks.v1+cell": {
          "title": "",
          "showTitle": false,
          "inputWidgets": {},
          "nuid": "8fa9cc9a-70b0-474f-a117-aee8342dc948"
        },
        "colab": {
          "base_uri": "https://localhost:8080/"
        },
        "id": "y_ygphRZDqVJ",
        "outputId": "105a8f3b-f23c-4b6e-a5eb-55a5bd523ab0"
      },
      "outputs": [
        {
          "output_type": "execute_result",
          "data": {
            "text/plain": [
              "312"
            ]
          },
          "metadata": {},
          "execution_count": 140
        }
      ],
      "execution_count": null
    },
    {
      "cell_type": "code",
      "source": [
        "print(registro_ciudad)"
      ],
      "metadata": {
        "application/vnd.databricks.v1+cell": {
          "title": "",
          "showTitle": false,
          "inputWidgets": {},
          "nuid": "8013ca9c-9c31-439f-b016-6107b6e05d2b"
        },
        "colab": {
          "base_uri": "https://localhost:8080/"
        },
        "id": "vTEl11dbDqVJ",
        "outputId": "c44a345d-97f2-4fd0-88f7-39e574846156"
      },
      "outputs": [
        {
          "output_type": "stream",
          "name": "stdout",
          "text": [
            "{'Lima': 692, 'Quito': 312, 'Montevideo': 95, 'Californina': 153, 'Medellín': 485}\n"
          ]
        }
      ],
      "execution_count": 5
    },
    {
      "cell_type": "code",
      "source": [
        "# Actualizar el valor de una clave o lo crea si dicha clave no se encuentra (update)\n",
        "registro_ciudad.update({'Roma': 30})\n",
        "registro_ciudad"
      ],
      "metadata": {
        "application/vnd.databricks.v1+cell": {
          "title": "",
          "showTitle": false,
          "inputWidgets": {},
          "nuid": "1a5624c9-2bf4-402c-a6e7-e0d4d0b0cbac"
        },
        "colab": {
          "base_uri": "https://localhost:8080/"
        },
        "id": "BeyMWOarDqVJ",
        "outputId": "23a8ab14-feee-4db7-ddc9-747f9ade4325"
      },
      "outputs": [
        {
          "output_type": "execute_result",
          "data": {
            "text/plain": [
              "{'Californina': 153,\n",
              " 'Lima': 692,\n",
              " 'Medellín': 485,\n",
              " 'Montevideo': 95,\n",
              " 'Roma': 30}"
            ]
          },
          "metadata": {},
          "execution_count": 142
        }
      ],
      "execution_count": null
    },
    {
      "cell_type": "markdown",
      "source": [
        "> **Ejercicio 4**: A continuación contamos los siguientes datos: \n",
        "\n",
        "| Marca | Transmisión |\n",
        "|-------|-------------|\n",
        "| Mazda | manual      |\n",
        "| Kia   | automática  |\n",
        "\n",
        "1. Construya un diccionario llamado `marca_transmision`, coloque en las claves la marca del vehículo y como valor el tipo de transmisión correspondiente. Finalmente imprimir el diccionario.\n",
        "2. Incluir en el diccionario una nueva pareja de clave y valor: clave `Toyota` con el valor de `manual`\n",
        "3. Eliminar la clave y valor de Kia, empleando el método `pop` e imprimir el diccionario\n",
        "4. Actualizar el valor al valor de 400 en la clave Mazda usando el método `update`\n",
        "5. Devolver el valor correspondiente a la clave de Mazda con el método `get`"
      ],
      "metadata": {
        "id": "o9yKSzZrla_G",
        "application/vnd.databricks.v1+cell": {
          "title": "",
          "showTitle": false,
          "inputWidgets": {},
          "nuid": "bea6db77-fd21-4399-86e2-e0d6232f6774"
        }
      }
    },
    {
      "cell_type": "code",
      "source": [
        "#Su código aqui\n",
        "\n",
        "marca_transmision = {'mazda' : 'manual' , 'kia' : 'automatico' , 'fiat' : 'manual', 'toyota' : 'manual' , 'ford' : 'automatico'}\n",
        "marca_transmision"
      ],
      "metadata": {
        "application/vnd.databricks.v1+cell": {
          "title": "",
          "showTitle": false,
          "inputWidgets": {},
          "nuid": "a28a0174-b0b0-40e9-9155-a6daf6fb0191"
        },
        "id": "I4zjU6f5DqVK",
        "colab": {
          "base_uri": "https://localhost:8080/"
        },
        "outputId": "75cd3c32-3aae-498d-9193-9a1c16af730b"
      },
      "outputs": [
        {
          "output_type": "execute_result",
          "data": {
            "text/plain": [
              "{'mazda': 'manual',\n",
              " 'kia': 'automatico',\n",
              " 'fiat': 'manual',\n",
              " 'toyota': 'manual',\n",
              " 'ford': 'automatico'}"
            ]
          },
          "metadata": {},
          "execution_count": 6
        }
      ],
      "execution_count": 6
    },
    {
      "cell_type": "code",
      "source": [
        "marca_transmision.update({'ferrari':'manual'})\n",
        "marca_transmision"
      ],
      "metadata": {
        "colab": {
          "base_uri": "https://localhost:8080/"
        },
        "id": "w7bpYAjUoXzL",
        "outputId": "f61cedf7-f755-4652-b9fa-f4844aa5f774"
      },
      "execution_count": 7,
      "outputs": [
        {
          "output_type": "execute_result",
          "data": {
            "text/plain": [
              "{'mazda': 'manual',\n",
              " 'kia': 'automatico',\n",
              " 'fiat': 'manual',\n",
              " 'toyota': 'manual',\n",
              " 'ford': 'automatico',\n",
              " 'ferrari': 'manual'}"
            ]
          },
          "metadata": {},
          "execution_count": 7
        }
      ]
    },
    {
      "cell_type": "code",
      "source": [
        "marca_transmision.pop('kia')\n",
        "marca_transmision"
      ],
      "metadata": {
        "colab": {
          "base_uri": "https://localhost:8080/"
        },
        "id": "ECNbjpwToucI",
        "outputId": "0ead4f83-24fc-489f-dc3e-61a650d6f2fb"
      },
      "execution_count": 8,
      "outputs": [
        {
          "output_type": "execute_result",
          "data": {
            "text/plain": [
              "{'mazda': 'manual',\n",
              " 'fiat': 'manual',\n",
              " 'toyota': 'manual',\n",
              " 'ford': 'automatico',\n",
              " 'ferrari': 'manual'}"
            ]
          },
          "metadata": {},
          "execution_count": 8
        }
      ]
    },
    {
      "cell_type": "code",
      "source": [
        "marca_transmision['toyota'] = 350\n",
        "marca_transmision"
      ],
      "metadata": {
        "colab": {
          "base_uri": "https://localhost:8080/"
        },
        "id": "6FcN53N4o7b0",
        "outputId": "608c617a-2ee5-4b43-cdbe-1b1f77dfbf05"
      },
      "execution_count": 9,
      "outputs": [
        {
          "output_type": "execute_result",
          "data": {
            "text/plain": [
              "{'mazda': 'manual',\n",
              " 'fiat': 'manual',\n",
              " 'toyota': 350,\n",
              " 'ford': 'automatico',\n",
              " 'ferrari': 'manual'}"
            ]
          },
          "metadata": {},
          "execution_count": 9
        }
      ]
    },
    {
      "cell_type": "code",
      "source": [
        "marca_transmision.get('ferrari')"
      ],
      "metadata": {
        "colab": {
          "base_uri": "https://localhost:8080/",
          "height": 36
        },
        "id": "I8ZttNCwpmv9",
        "outputId": "6a801604-0344-461e-d4a2-d3c152931724"
      },
      "execution_count": 12,
      "outputs": [
        {
          "output_type": "execute_result",
          "data": {
            "text/plain": [
              "'manual'"
            ],
            "application/vnd.google.colaboratory.intrinsic+json": {
              "type": "string"
            }
          },
          "metadata": {},
          "execution_count": 12
        }
      ]
    },
    {
      "cell_type": "markdown",
      "source": [
        "### Solución"
      ],
      "metadata": {
        "id": "R4UWk3mLGa8X"
      }
    },
    {
      "cell_type": "code",
      "source": [
        "print('Respuestas:')\n",
        "marca_transmision = {'Mazda': 'manual', 'Kia': 'automática'}\n",
        "print('Primer enunciado:', marca_transmision)\n",
        "marca_transmision['Toyota'] = 'manual'\n",
        "marca_transmision.pop('Kia')\n",
        "print('Tercer enunciado:', marca_transmision)\n",
        "marca_transmision.update({'Mazda': 400})\n",
        "print('Quinto enunciado:', marca_transmision.get('Mazda'))"
      ],
      "metadata": {
        "id": "fy-eElNpla_G",
        "application/vnd.databricks.v1+cell": {
          "title": "",
          "showTitle": false,
          "inputWidgets": {},
          "nuid": "5db8593b-b2ee-43b2-9efc-f0a34a21c788"
        },
        "colab": {
          "base_uri": "https://localhost:8080/"
        },
        "outputId": "cf75aadd-2c31-416a-ddac-6f09f0a55776"
      },
      "outputs": [
        {
          "output_type": "stream",
          "name": "stdout",
          "text": [
            "Respuestas:\n",
            "Primer enunciado: {'Mazda': 'manual', 'Kia': 'automática'}\n",
            "Tercer enunciado: {'Mazda': 'manual', 'Toyota': 'manual'}\n",
            "Quinto enunciado: 400\n"
          ]
        }
      ],
      "execution_count": null
    },
    {
      "cell_type": "markdown",
      "source": [
        "### Fin"
      ],
      "metadata": {
        "id": "MC5msZMULNQQ"
      }
    },
    {
      "cell_type": "markdown",
      "source": [
        "\n",
        "<div style=\"text-align: center; line-height: 0; padding-top: 9px;\">\n",
        "  <img src=\"https://storage.googleapis.com/datasets-academy/public-img/notebooks/headers/databits-footer-notebook.png\" alt=\"Databricks Learning\" style=\"width: 100%;\">\n",
        "</div>"
      ],
      "metadata": {
        "application/vnd.databricks.v1+cell": {
          "title": "",
          "showTitle": false,
          "inputWidgets": {},
          "nuid": "414d2ed5-26b5-4dca-bc93-2db7ff521840"
        },
        "id": "KoM9Y7pTDqVK"
      }
    }
  ],
  "metadata": {
    "language_info": {
      "mimetype": "text/x-python",
      "name": "python",
      "pygments_lexer": "ipython3",
      "codemirror_mode": {
        "name": "ipython",
        "version": 3
      },
      "version": "3.7.3",
      "nbconvert_exporter": "python",
      "file_extension": ".py"
    },
    "name": "01 Tuplas, listas y diccionarios",
    "notebookId": 1635544535932920,
    "kernelspec": {
      "display_name": "Python 3",
      "language": "python",
      "name": "python3"
    },
    "application/vnd.databricks.v1+notebook": {
      "notebookName": "01 Python - Intro crash course",
      "dashboards": [],
      "notebookMetadata": {
        "pythonIndentUnit": 2
      },
      "language": "python",
      "widgets": {},
      "notebookOrigID": 2085831952936330
    },
    "colab": {
      "collapsed_sections": [
        "DXS-jnZ7Fr7J",
        "jDDGzfbHGHa1",
        "nvbecfpkGQsm",
        "R4UWk3mLGa8X"
      ],
      "provenance": [],
      "include_colab_link": true
    }
  },
  "nbformat": 4,
  "nbformat_minor": 0
}