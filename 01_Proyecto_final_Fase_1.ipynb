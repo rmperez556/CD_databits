{
  "cells": [
    {
      "cell_type": "markdown",
      "metadata": {
        "id": "view-in-github",
        "colab_type": "text"
      },
      "source": [
        "<a href=\"https://colab.research.google.com/github/rmperez556/CD_databits/blob/main/01_Proyecto_final_Fase_1.ipynb\" target=\"_parent\"><img src=\"https://colab.research.google.com/assets/colab-badge.svg\" alt=\"Open In Colab\"/></a>"
      ]
    },
    {
      "cell_type": "markdown",
      "source": [
        "\n",
        "<div style=\"text-align: center; line-height: 0; padding-top: 9px;\">\n",
        "  <img src=\"https://storage.googleapis.com/datasets-academy/public-img/notebooks/headers/databits-header-notebook.png\" alt=\"Databricks Learning\" style=\"width: 100%;\">\n",
        "</div>"
      ],
      "metadata": {
        "application/vnd.databricks.v1+cell": {
          "title": "",
          "showTitle": false,
          "inputWidgets": {},
          "nuid": "ee6a5c99-5d71-43b3-b72a-0f15ac832334"
        },
        "id": "4U9sCJlsAMIm"
      }
    },
    {
      "cell_type": "markdown",
      "source": [
        "\n",
        "# <center>  Proyecto Final - Fase 1  </center>\n",
        "\n",
        "## Descripción\n",
        "En esta fase se explicará el proyecto y se realizará la carga de los datos. Además se implementará el correspondiente análisis exploratorio de datos (EDA)\n",
        "  \n",
        "<img alt=\"Caution\" title=\"Caution\" style=\"vertical-align: text-bottom; position: relative; height:1.3em; top:0.0em\" src=\"https://storage.googleapis.com/datasets-academy/public-img/notebooks/icons/danger.png\"/> **Disclaimer:** Este material ha sido preparado por el equipo de **handytec Academy®**. Se prohibe la publicación o reproducción de este material sin previa autorización de **handytec Academy®** - 2022 Todos los derechos reservados."
      ],
      "metadata": {
        "application/vnd.databricks.v1+cell": {
          "title": "",
          "showTitle": false,
          "inputWidgets": {},
          "nuid": "1fdc9d5c-4504-4078-a75f-098e443eb2ff"
        },
        "id": "NMkPYnbWAMIp"
      }
    },
    {
      "cell_type": "markdown",
      "source": [
        "## Problema de negocio"
      ],
      "metadata": {
        "application/vnd.databricks.v1+cell": {
          "title": "",
          "showTitle": false,
          "inputWidgets": {},
          "nuid": "04a14081-59ce-4add-acb6-9ab66ece8b2e"
        },
        "id": "fOZSDiDwAMIq"
      }
    },
    {
      "cell_type": "markdown",
      "source": [
        "Un problema imperante en el entorno bancario a nivel global se enfoca en el riesgo crediticio o riesgo de impago. \n",
        "  \n",
        "Este aspecto hace refencia a las pérdidas que incurren los bancos dado que los prestamistas son incapaces de devolver los créditos otorgados. \n",
        "\n",
        "Lo cual conlleva la siguiente pregunta: **¿Cómo poder reducir el número de personas que caen en mora crediticia?**"
      ],
      "metadata": {
        "application/vnd.databricks.v1+cell": {
          "title": "",
          "showTitle": false,
          "inputWidgets": {},
          "nuid": "f9e2027e-348b-4f84-9a48-a35c03242d3b"
        },
        "id": "4ALzj8JSAMIq"
      }
    },
    {
      "cell_type": "markdown",
      "source": [
        "## Objetivos del proyecto"
      ],
      "metadata": {
        "application/vnd.databricks.v1+cell": {
          "title": "",
          "showTitle": false,
          "inputWidgets": {},
          "nuid": "9da42ca7-353e-483e-9f3c-8b8b2cec9967"
        },
        "id": "gGeZKfGTAMIq"
      }
    },
    {
      "cell_type": "markdown",
      "source": [
        "El objetivo de este proyecto es construir un modelo que las entidades financieras puedan usar para ayudar a tomar las mejores decisiones financieras.\n",
        "\n",
        "Este modelo identificará la probabilidad de caer en mora crediticia por parte de los clientes que recibieron un crédito (modelos de default comportamentales).\n",
        "\n",
        "Mediante el uso de diferentes algoritmos se obtendrá la probabilidad de impago en cada individuo. El principal indicador que se va usar para ver la bonanza de los distintos modelos va a ser el AUC (Area Under the Curve) generado por las curvas ROC."
      ],
      "metadata": {
        "application/vnd.databricks.v1+cell": {
          "title": "",
          "showTitle": false,
          "inputWidgets": {},
          "nuid": "32ce9f43-46ef-4a66-970b-13aaf2ff18ca"
        },
        "id": "Gtmdzfv3AMIr"
      }
    },
    {
      "cell_type": "markdown",
      "source": [
        "## Importar librerías y verificar versiones"
      ],
      "metadata": {
        "application/vnd.databricks.v1+cell": {
          "title": "",
          "showTitle": false,
          "inputWidgets": {},
          "nuid": "226018b0-7d38-4bdc-8eae-7e63b7e9a90c"
        },
        "id": "52-1Mw8hAMIr"
      }
    },
    {
      "cell_type": "code",
      "source": [
        "import sys\n",
        "import numpy as np\n",
        "import pandas as pd\n",
        "import seaborn as sns\n",
        "import matplotlib\n",
        "import matplotlib.pyplot as plt"
      ],
      "metadata": {
        "application/vnd.databricks.v1+cell": {
          "title": "",
          "showTitle": false,
          "inputWidgets": {},
          "nuid": "36d0f29c-b8df-49a1-92cd-6e37430e0adb"
        },
        "id": "zD6Wf_MAAMIr"
      },
      "outputs": [],
      "execution_count": 1
    },
    {
      "cell_type": "code",
      "source": [
        "print('** Versiones Actuales | Requeridas **')\n",
        "print('Python:\\nVersion Actual:', sys.version, ' | Requerida >= 3.6')\n",
        "print('NumPy:\\nVersion Actual: {:10} | Requerida >= 1.16.2'.format(np.__version__))\n",
        "print('Pandas:\\nVersion Actual: {:10}| Requerida >= 1.0.1'.format(pd.__version__))\n",
        "print('Matplotlib:\\nVersion Actual: {:10} | Requerida >= 3.0.3'.format(matplotlib.__version__))\n",
        "print('Seaborn:\\nVersion Actual: {:10} |Requerida >= 0.9.0 '.format(sns.__version__))"
      ],
      "metadata": {
        "application/vnd.databricks.v1+cell": {
          "title": "",
          "showTitle": false,
          "inputWidgets": {},
          "nuid": "9e0ac715-2adb-4520-baf9-4652a3572540"
        },
        "id": "mzWW9_-cAMIt",
        "colab": {
          "base_uri": "https://localhost:8080/"
        },
        "outputId": "228df69c-4f90-4f9f-fc07-6c741db37026"
      },
      "outputs": [
        {
          "output_type": "stream",
          "name": "stdout",
          "text": [
            "** Versiones Actuales | Requeridas **\n",
            "Python:\n",
            "Version Actual: 3.7.14 (default, Sep  8 2022, 00:06:44) \n",
            "[GCC 7.5.0]  | Requerida >= 3.6\n",
            "NumPy:\n",
            "Version Actual: 1.21.6     | Requerida >= 1.16.2\n",
            "Pandas:\n",
            "Version Actual: 1.3.5     | Requerida >= 1.0.1\n",
            "Matplotlib:\n",
            "Version Actual: 3.2.2      | Requerida >= 3.0.3\n",
            "Seaborn:\n",
            "Version Actual: 0.11.2     |Requerida >= 0.9.0 \n"
          ]
        }
      ],
      "execution_count": 2
    },
    {
      "cell_type": "markdown",
      "source": [
        "## Descripción de las variables contenidas en el _dataset_"
      ],
      "metadata": {
        "application/vnd.databricks.v1+cell": {
          "title": "",
          "showTitle": false,
          "inputWidgets": {},
          "nuid": "9569ffd7-93d3-4439-ad6a-2a6eee416d6b"
        },
        "id": "VtXuWUp1AMIt"
      }
    },
    {
      "cell_type": "markdown",
      "source": [
        "El _dataset_ usado proviene de la plataforma **Kaggle**, y se encuentra separado en dos partes. \n",
        "\n",
        "La primera parte contiene los datos que serán usados para el entrenamiento del modelo, que serán nombrados como *datos_training*. La segunda parte son los datos que se usarán para el test del modelo *datos_test*. Estas muestras contienen 150.000 y 101.503 registros, respectivamente (aunque existen algunos campos que tienen distintos valores ausentes). \n",
        "\n",
        "Accesso a la Competencia **Give Me Some Credit:** [Link de acceso](https://www.kaggle.com/c/GiveMeSomeCredit/overview)\n",
        "\n",
        "Link de descarga correspondiente a cada dataset: \n",
        "* [training data](https://storage.googleapis.com/datasets-academy/Track%20Data%20Science/Proyecto%20Final/cs-training.csv)\n",
        "* [test data](https://storage.googleapis.com/datasets-academy/Track%20Data%20Science/Proyecto%20Final/cs-test.csv)"
      ],
      "metadata": {
        "application/vnd.databricks.v1+cell": {
          "title": "",
          "showTitle": false,
          "inputWidgets": {},
          "nuid": "e5c53952-5d72-451e-a424-bcd47e7a3b19"
        },
        "id": "y-bAJwXAAMIu"
      }
    },
    {
      "cell_type": "markdown",
      "source": [
        "* **SeriousDlqin2yrs:** Persona que tiene 90 días de morosidad vencida o peor (Si = 1 y  No = 0)\n",
        "* **RevolvingUtilizationOfUnsecuredLines:** El saldo total en tarjetas de crédito y líneas de crédito personales (excepto bienes inmuebles y sin deuda a plazos) sobre la suma de los límites de crédito\n",
        "* **Age:** Edad prestamista en años \n",
        "* **NumberOfTime30-59DaysPastDueNotWorse:** Número de veces que el prestatario ha caido en mora entre 30 y 59 días, pero no ha empeorado en los últimos 2 años \n",
        "* **DebtRatio:** Pagos mensuales de deuda sobre el ingreso bruto mensual \n",
        "* **MonthlyIncome:** Ingreso mensual \n",
        "* **NumberOfOpenCreditLinesAndLoans:** Número de préstamos abiertos (cuotas como préstamos para automóviles o hipotecas) y líneas de crédito \n",
        "* **NumberOfTimes90DaysLate:** Número de veces que el prestatario ha caido en mora entre 90 días o más \n",
        "* **NumberRealEstateLoansOrLines:** Número de préstamos hipotecarios e inmobiliarios, incluidas las líneas de crédito hipotecario \n",
        "* **NumberOfTime60-89DaysPastDueNotWorse:** Número de veces que el prestatario ha caido en mora entre 60 y 89 días, pero no ha empeorado en los últimos 2 años \n",
        "* **NumberOfDependents:** Número de dependientes en la familia excluyendose a si mismos (ej: cónyuge, hijos, etc.)"
      ],
      "metadata": {
        "application/vnd.databricks.v1+cell": {
          "title": "Diccionario de datos",
          "showTitle": true,
          "inputWidgets": {},
          "nuid": "b2dab89b-0622-404c-9793-982f02aa3585"
        },
        "id": "I2EJWwf2AMIu"
      }
    },
    {
      "cell_type": "markdown",
      "source": [
        "## Carga de los datos"
      ],
      "metadata": {
        "application/vnd.databricks.v1+cell": {
          "title": "",
          "showTitle": false,
          "inputWidgets": {},
          "nuid": "4fdf0406-dd54-45f4-ace0-914c3ace0922"
        },
        "id": "hLKxLnIsAMIv"
      }
    },
    {
      "cell_type": "markdown",
      "source": [
        "### **Importante**\n",
        "\n",
        "Recordar descargar los archivos localmente y subirlos al sistema de archivos de Google Colab"
      ],
      "metadata": {
        "id": "JGDl1nHjBnG_"
      }
    },
    {
      "cell_type": "code",
      "source": [
        "# Colocar la ruta del directorio correspondiente a cada dataset\n",
        "ruta_training = \"/content/drive/MyDrive/Colab Notebooks/cs-training.csv\"\n",
        "ruta_test     = \"/content/drive/MyDrive/Colab Notebooks/cs-test.csv\""
      ],
      "metadata": {
        "application/vnd.databricks.v1+cell": {
          "title": "",
          "showTitle": false,
          "inputWidgets": {},
          "nuid": "d5a59d8f-6067-4e90-96ff-df554f48ad0c"
        },
        "id": "6FvhDGIVAMIv"
      },
      "outputs": [],
      "execution_count": 6
    },
    {
      "cell_type": "code",
      "source": [
        "from google.colab import drive\n",
        "drive.mount('/content/drive')"
      ],
      "metadata": {
        "colab": {
          "base_uri": "https://localhost:8080/"
        },
        "id": "AbdLQCmE__ZW",
        "outputId": "d41519b1-69d7-47c8-bcb7-01847f5a137f"
      },
      "execution_count": 5,
      "outputs": [
        {
          "output_type": "stream",
          "name": "stdout",
          "text": [
            "Drive already mounted at /content/drive; to attempt to forcibly remount, call drive.mount(\"/content/drive\", force_remount=True).\n"
          ]
        }
      ]
    },
    {
      "cell_type": "code",
      "source": [
        "# Lectura de los datos usando pandas (creación de DataFrames)\n",
        "datos_training = pd.read_csv(ruta_training, sep = ',', decimal = '.', index_col = 0)\n",
        "datos_test     = pd.read_csv(ruta_test,     sep = ',', decimal = '.', index_col = 0)"
      ],
      "metadata": {
        "application/vnd.databricks.v1+cell": {
          "title": "",
          "showTitle": false,
          "inputWidgets": {},
          "nuid": "e50fd214-ed19-4ceb-a350-950bb34587d3"
        },
        "id": "P1_I-NekAMIw"
      },
      "outputs": [],
      "execution_count": 7
    },
    {
      "cell_type": "markdown",
      "source": [
        "## Revisión preliminar de los datasets\n",
        "\n",
        "**Importante:** Realizar un comparativa entre el conjunto de datos de entrenamiento y test ejecutando las siguientes instrucciones"
      ],
      "metadata": {
        "application/vnd.databricks.v1+cell": {
          "title": "",
          "showTitle": false,
          "inputWidgets": {},
          "nuid": "7be109d2-4791-490d-8796-dae82a421a1b"
        },
        "id": "fzDb7Fk2AMIw"
      }
    },
    {
      "cell_type": "code",
      "source": [
        "import numpy as np\n",
        "import pandas as pd"
      ],
      "metadata": {
        "id": "BjUkoVl-B7r-"
      },
      "execution_count": 10,
      "outputs": []
    },
    {
      "cell_type": "code",
      "source": [
        "# Imprimir las 10 primera filas de los datos de entrenamiento\n",
        "datos_entrenamietno = datos_training\n",
        "datos_training.iloc[:10]\n"
      ],
      "metadata": {
        "application/vnd.databricks.v1+cell": {
          "title": "",
          "showTitle": false,
          "inputWidgets": {},
          "nuid": "1063a7dd-3588-4c87-a894-fcb16beac16e"
        },
        "id": "K1q4NBx2AMIw",
        "colab": {
          "base_uri": "https://localhost:8080/",
          "height": 444
        },
        "outputId": "a091b91e-6244-43cf-a65c-d276fd6e6e5d"
      },
      "outputs": [
        {
          "output_type": "execute_result",
          "data": {
            "text/plain": [
              "    SeriousDlqin2yrs  RevolvingUtilizationOfUnsecuredLines  age  \\\n",
              "1                  1                              0.766127   45   \n",
              "2                  0                              0.957151   40   \n",
              "3                  0                              0.658180   38   \n",
              "4                  0                              0.233810   30   \n",
              "5                  0                              0.907239   49   \n",
              "6                  0                              0.213179   74   \n",
              "7                  0                              0.305682   57   \n",
              "8                  0                              0.754464   39   \n",
              "9                  0                              0.116951   27   \n",
              "10                 0                              0.189169   57   \n",
              "\n",
              "    NumberOfTime30-59DaysPastDueNotWorse    DebtRatio  MonthlyIncome  \\\n",
              "1                                      2     0.802982         9120.0   \n",
              "2                                      0     0.121876         2600.0   \n",
              "3                                      1     0.085113         3042.0   \n",
              "4                                      0     0.036050         3300.0   \n",
              "5                                      1     0.024926        63588.0   \n",
              "6                                      0     0.375607         3500.0   \n",
              "7                                      0  5710.000000            NaN   \n",
              "8                                      0     0.209940         3500.0   \n",
              "9                                      0    46.000000            NaN   \n",
              "10                                     0     0.606291        23684.0   \n",
              "\n",
              "    NumberOfOpenCreditLinesAndLoans  NumberOfTimes90DaysLate  \\\n",
              "1                                13                        0   \n",
              "2                                 4                        0   \n",
              "3                                 2                        1   \n",
              "4                                 5                        0   \n",
              "5                                 7                        0   \n",
              "6                                 3                        0   \n",
              "7                                 8                        0   \n",
              "8                                 8                        0   \n",
              "9                                 2                        0   \n",
              "10                                9                        0   \n",
              "\n",
              "    NumberRealEstateLoansOrLines  NumberOfTime60-89DaysPastDueNotWorse  \\\n",
              "1                              6                                     0   \n",
              "2                              0                                     0   \n",
              "3                              0                                     0   \n",
              "4                              0                                     0   \n",
              "5                              1                                     0   \n",
              "6                              1                                     0   \n",
              "7                              3                                     0   \n",
              "8                              0                                     0   \n",
              "9                              0                                     0   \n",
              "10                             4                                     0   \n",
              "\n",
              "    NumberOfDependents  \n",
              "1                  2.0  \n",
              "2                  1.0  \n",
              "3                  0.0  \n",
              "4                  0.0  \n",
              "5                  0.0  \n",
              "6                  1.0  \n",
              "7                  0.0  \n",
              "8                  0.0  \n",
              "9                  NaN  \n",
              "10                 2.0  "
            ],
            "text/html": [
              "\n",
              "  <div id=\"df-72433ea2-38da-4202-99f7-deea65914bf8\">\n",
              "    <div class=\"colab-df-container\">\n",
              "      <div>\n",
              "<style scoped>\n",
              "    .dataframe tbody tr th:only-of-type {\n",
              "        vertical-align: middle;\n",
              "    }\n",
              "\n",
              "    .dataframe tbody tr th {\n",
              "        vertical-align: top;\n",
              "    }\n",
              "\n",
              "    .dataframe thead th {\n",
              "        text-align: right;\n",
              "    }\n",
              "</style>\n",
              "<table border=\"1\" class=\"dataframe\">\n",
              "  <thead>\n",
              "    <tr style=\"text-align: right;\">\n",
              "      <th></th>\n",
              "      <th>SeriousDlqin2yrs</th>\n",
              "      <th>RevolvingUtilizationOfUnsecuredLines</th>\n",
              "      <th>age</th>\n",
              "      <th>NumberOfTime30-59DaysPastDueNotWorse</th>\n",
              "      <th>DebtRatio</th>\n",
              "      <th>MonthlyIncome</th>\n",
              "      <th>NumberOfOpenCreditLinesAndLoans</th>\n",
              "      <th>NumberOfTimes90DaysLate</th>\n",
              "      <th>NumberRealEstateLoansOrLines</th>\n",
              "      <th>NumberOfTime60-89DaysPastDueNotWorse</th>\n",
              "      <th>NumberOfDependents</th>\n",
              "    </tr>\n",
              "  </thead>\n",
              "  <tbody>\n",
              "    <tr>\n",
              "      <th>1</th>\n",
              "      <td>1</td>\n",
              "      <td>0.766127</td>\n",
              "      <td>45</td>\n",
              "      <td>2</td>\n",
              "      <td>0.802982</td>\n",
              "      <td>9120.0</td>\n",
              "      <td>13</td>\n",
              "      <td>0</td>\n",
              "      <td>6</td>\n",
              "      <td>0</td>\n",
              "      <td>2.0</td>\n",
              "    </tr>\n",
              "    <tr>\n",
              "      <th>2</th>\n",
              "      <td>0</td>\n",
              "      <td>0.957151</td>\n",
              "      <td>40</td>\n",
              "      <td>0</td>\n",
              "      <td>0.121876</td>\n",
              "      <td>2600.0</td>\n",
              "      <td>4</td>\n",
              "      <td>0</td>\n",
              "      <td>0</td>\n",
              "      <td>0</td>\n",
              "      <td>1.0</td>\n",
              "    </tr>\n",
              "    <tr>\n",
              "      <th>3</th>\n",
              "      <td>0</td>\n",
              "      <td>0.658180</td>\n",
              "      <td>38</td>\n",
              "      <td>1</td>\n",
              "      <td>0.085113</td>\n",
              "      <td>3042.0</td>\n",
              "      <td>2</td>\n",
              "      <td>1</td>\n",
              "      <td>0</td>\n",
              "      <td>0</td>\n",
              "      <td>0.0</td>\n",
              "    </tr>\n",
              "    <tr>\n",
              "      <th>4</th>\n",
              "      <td>0</td>\n",
              "      <td>0.233810</td>\n",
              "      <td>30</td>\n",
              "      <td>0</td>\n",
              "      <td>0.036050</td>\n",
              "      <td>3300.0</td>\n",
              "      <td>5</td>\n",
              "      <td>0</td>\n",
              "      <td>0</td>\n",
              "      <td>0</td>\n",
              "      <td>0.0</td>\n",
              "    </tr>\n",
              "    <tr>\n",
              "      <th>5</th>\n",
              "      <td>0</td>\n",
              "      <td>0.907239</td>\n",
              "      <td>49</td>\n",
              "      <td>1</td>\n",
              "      <td>0.024926</td>\n",
              "      <td>63588.0</td>\n",
              "      <td>7</td>\n",
              "      <td>0</td>\n",
              "      <td>1</td>\n",
              "      <td>0</td>\n",
              "      <td>0.0</td>\n",
              "    </tr>\n",
              "    <tr>\n",
              "      <th>6</th>\n",
              "      <td>0</td>\n",
              "      <td>0.213179</td>\n",
              "      <td>74</td>\n",
              "      <td>0</td>\n",
              "      <td>0.375607</td>\n",
              "      <td>3500.0</td>\n",
              "      <td>3</td>\n",
              "      <td>0</td>\n",
              "      <td>1</td>\n",
              "      <td>0</td>\n",
              "      <td>1.0</td>\n",
              "    </tr>\n",
              "    <tr>\n",
              "      <th>7</th>\n",
              "      <td>0</td>\n",
              "      <td>0.305682</td>\n",
              "      <td>57</td>\n",
              "      <td>0</td>\n",
              "      <td>5710.000000</td>\n",
              "      <td>NaN</td>\n",
              "      <td>8</td>\n",
              "      <td>0</td>\n",
              "      <td>3</td>\n",
              "      <td>0</td>\n",
              "      <td>0.0</td>\n",
              "    </tr>\n",
              "    <tr>\n",
              "      <th>8</th>\n",
              "      <td>0</td>\n",
              "      <td>0.754464</td>\n",
              "      <td>39</td>\n",
              "      <td>0</td>\n",
              "      <td>0.209940</td>\n",
              "      <td>3500.0</td>\n",
              "      <td>8</td>\n",
              "      <td>0</td>\n",
              "      <td>0</td>\n",
              "      <td>0</td>\n",
              "      <td>0.0</td>\n",
              "    </tr>\n",
              "    <tr>\n",
              "      <th>9</th>\n",
              "      <td>0</td>\n",
              "      <td>0.116951</td>\n",
              "      <td>27</td>\n",
              "      <td>0</td>\n",
              "      <td>46.000000</td>\n",
              "      <td>NaN</td>\n",
              "      <td>2</td>\n",
              "      <td>0</td>\n",
              "      <td>0</td>\n",
              "      <td>0</td>\n",
              "      <td>NaN</td>\n",
              "    </tr>\n",
              "    <tr>\n",
              "      <th>10</th>\n",
              "      <td>0</td>\n",
              "      <td>0.189169</td>\n",
              "      <td>57</td>\n",
              "      <td>0</td>\n",
              "      <td>0.606291</td>\n",
              "      <td>23684.0</td>\n",
              "      <td>9</td>\n",
              "      <td>0</td>\n",
              "      <td>4</td>\n",
              "      <td>0</td>\n",
              "      <td>2.0</td>\n",
              "    </tr>\n",
              "  </tbody>\n",
              "</table>\n",
              "</div>\n",
              "      <button class=\"colab-df-convert\" onclick=\"convertToInteractive('df-72433ea2-38da-4202-99f7-deea65914bf8')\"\n",
              "              title=\"Convert this dataframe to an interactive table.\"\n",
              "              style=\"display:none;\">\n",
              "        \n",
              "  <svg xmlns=\"http://www.w3.org/2000/svg\" height=\"24px\"viewBox=\"0 0 24 24\"\n",
              "       width=\"24px\">\n",
              "    <path d=\"M0 0h24v24H0V0z\" fill=\"none\"/>\n",
              "    <path d=\"M18.56 5.44l.94 2.06.94-2.06 2.06-.94-2.06-.94-.94-2.06-.94 2.06-2.06.94zm-11 1L8.5 8.5l.94-2.06 2.06-.94-2.06-.94L8.5 2.5l-.94 2.06-2.06.94zm10 10l.94 2.06.94-2.06 2.06-.94-2.06-.94-.94-2.06-.94 2.06-2.06.94z\"/><path d=\"M17.41 7.96l-1.37-1.37c-.4-.4-.92-.59-1.43-.59-.52 0-1.04.2-1.43.59L10.3 9.45l-7.72 7.72c-.78.78-.78 2.05 0 2.83L4 21.41c.39.39.9.59 1.41.59.51 0 1.02-.2 1.41-.59l7.78-7.78 2.81-2.81c.8-.78.8-2.07 0-2.86zM5.41 20L4 18.59l7.72-7.72 1.47 1.35L5.41 20z\"/>\n",
              "  </svg>\n",
              "      </button>\n",
              "      \n",
              "  <style>\n",
              "    .colab-df-container {\n",
              "      display:flex;\n",
              "      flex-wrap:wrap;\n",
              "      gap: 12px;\n",
              "    }\n",
              "\n",
              "    .colab-df-convert {\n",
              "      background-color: #E8F0FE;\n",
              "      border: none;\n",
              "      border-radius: 50%;\n",
              "      cursor: pointer;\n",
              "      display: none;\n",
              "      fill: #1967D2;\n",
              "      height: 32px;\n",
              "      padding: 0 0 0 0;\n",
              "      width: 32px;\n",
              "    }\n",
              "\n",
              "    .colab-df-convert:hover {\n",
              "      background-color: #E2EBFA;\n",
              "      box-shadow: 0px 1px 2px rgba(60, 64, 67, 0.3), 0px 1px 3px 1px rgba(60, 64, 67, 0.15);\n",
              "      fill: #174EA6;\n",
              "    }\n",
              "\n",
              "    [theme=dark] .colab-df-convert {\n",
              "      background-color: #3B4455;\n",
              "      fill: #D2E3FC;\n",
              "    }\n",
              "\n",
              "    [theme=dark] .colab-df-convert:hover {\n",
              "      background-color: #434B5C;\n",
              "      box-shadow: 0px 1px 3px 1px rgba(0, 0, 0, 0.15);\n",
              "      filter: drop-shadow(0px 1px 2px rgba(0, 0, 0, 0.3));\n",
              "      fill: #FFFFFF;\n",
              "    }\n",
              "  </style>\n",
              "\n",
              "      <script>\n",
              "        const buttonEl =\n",
              "          document.querySelector('#df-72433ea2-38da-4202-99f7-deea65914bf8 button.colab-df-convert');\n",
              "        buttonEl.style.display =\n",
              "          google.colab.kernel.accessAllowed ? 'block' : 'none';\n",
              "\n",
              "        async function convertToInteractive(key) {\n",
              "          const element = document.querySelector('#df-72433ea2-38da-4202-99f7-deea65914bf8');\n",
              "          const dataTable =\n",
              "            await google.colab.kernel.invokeFunction('convertToInteractive',\n",
              "                                                     [key], {});\n",
              "          if (!dataTable) return;\n",
              "\n",
              "          const docLinkHtml = 'Like what you see? Visit the ' +\n",
              "            '<a target=\"_blank\" href=https://colab.research.google.com/notebooks/data_table.ipynb>data table notebook</a>'\n",
              "            + ' to learn more about interactive tables.';\n",
              "          element.innerHTML = '';\n",
              "          dataTable['output_type'] = 'display_data';\n",
              "          await google.colab.output.renderOutput(dataTable, element);\n",
              "          const docLink = document.createElement('div');\n",
              "          docLink.innerHTML = docLinkHtml;\n",
              "          element.appendChild(docLink);\n",
              "        }\n",
              "      </script>\n",
              "    </div>\n",
              "  </div>\n",
              "  "
            ]
          },
          "metadata": {},
          "execution_count": 20
        }
      ],
      "execution_count": 20
    },
    {
      "cell_type": "code",
      "source": [
        "# Imprimir las 10 últimas filas de los datos de test (usar el método tail)\n",
        "datos_prueba = datos_test\n"
      ],
      "metadata": {
        "application/vnd.databricks.v1+cell": {
          "title": "",
          "showTitle": false,
          "inputWidgets": {},
          "nuid": "2ed2308d-ca22-42bb-a30b-106f9cbd007a"
        },
        "id": "RM3fWyFvAMIx"
      },
      "outputs": [],
      "execution_count": 21
    },
    {
      "cell_type": "code",
      "source": [
        "# Imprimir el número de filas y columnas de ambos datasets\n",
        "print(datos_prueba.shape)\n",
        "print(datos_entrenamietno.shape)"
      ],
      "metadata": {
        "application/vnd.databricks.v1+cell": {
          "title": "",
          "showTitle": false,
          "inputWidgets": {},
          "nuid": "1e47c7f9-26c2-4a60-a9bb-0477e0fc5b1a"
        },
        "id": "ne5j2pekAMIx",
        "colab": {
          "base_uri": "https://localhost:8080/"
        },
        "outputId": "528b8b3e-d150-4709-9326-87dd0099c0bf"
      },
      "outputs": [
        {
          "output_type": "stream",
          "name": "stdout",
          "text": [
            "(101503, 11)\n",
            "(150000, 11)\n"
          ]
        }
      ],
      "execution_count": 17
    },
    {
      "cell_type": "code",
      "source": [
        "# Imprimir los tipos de datos de cada columna en el dataset de entrenamiento\n",
        "print(datos_entrenamietno.dtypes)"
      ],
      "metadata": {
        "application/vnd.databricks.v1+cell": {
          "title": "",
          "showTitle": false,
          "inputWidgets": {},
          "nuid": "a3568b9e-a4ad-4044-bb58-670acd173f5e"
        },
        "id": "XYXkz8w3AMIx",
        "colab": {
          "base_uri": "https://localhost:8080/"
        },
        "outputId": "c3f71826-6875-4783-e800-6069b275ccc9"
      },
      "outputs": [
        {
          "output_type": "stream",
          "name": "stdout",
          "text": [
            "SeriousDlqin2yrs                          int64\n",
            "RevolvingUtilizationOfUnsecuredLines    float64\n",
            "age                                       int64\n",
            "NumberOfTime30-59DaysPastDueNotWorse      int64\n",
            "DebtRatio                               float64\n",
            "MonthlyIncome                           float64\n",
            "NumberOfOpenCreditLinesAndLoans           int64\n",
            "NumberOfTimes90DaysLate                   int64\n",
            "NumberRealEstateLoansOrLines              int64\n",
            "NumberOfTime60-89DaysPastDueNotWorse      int64\n",
            "NumberOfDependents                      float64\n",
            "dtype: object\n"
          ]
        }
      ],
      "execution_count": 18
    },
    {
      "cell_type": "code",
      "source": [
        "# Imprimir los tipos de datos de cada columna en el dataset de test\n",
        "print(datos_prueba.dtypes)"
      ],
      "metadata": {
        "application/vnd.databricks.v1+cell": {
          "title": "",
          "showTitle": false,
          "inputWidgets": {},
          "nuid": "ac1a9b64-78dc-4e16-88cb-b91b5aebd61f"
        },
        "id": "f0Qoo0JWAMIx",
        "colab": {
          "base_uri": "https://localhost:8080/"
        },
        "outputId": "91893d3c-c7c3-46a7-8799-3bae704d37b9"
      },
      "outputs": [
        {
          "output_type": "stream",
          "name": "stdout",
          "text": [
            "SeriousDlqin2yrs                        float64\n",
            "RevolvingUtilizationOfUnsecuredLines    float64\n",
            "age                                       int64\n",
            "NumberOfTime30-59DaysPastDueNotWorse      int64\n",
            "DebtRatio                               float64\n",
            "MonthlyIncome                           float64\n",
            "NumberOfOpenCreditLinesAndLoans           int64\n",
            "NumberOfTimes90DaysLate                   int64\n",
            "NumberRealEstateLoansOrLines              int64\n",
            "NumberOfTime60-89DaysPastDueNotWorse      int64\n",
            "NumberOfDependents                      float64\n",
            "dtype: object\n"
          ]
        }
      ],
      "execution_count": 19
    },
    {
      "cell_type": "markdown",
      "source": [
        "## Análisis exploratorio de datos\n",
        "\n",
        "Los siguientes bloques de código nos vamos a enfocar en analizar el DataFrame `datos_training`.\n",
        "\n",
        "**Importante:** Ejecutar las instrucciones e interpretar los resultados"
      ],
      "metadata": {
        "application/vnd.databricks.v1+cell": {
          "title": "",
          "showTitle": false,
          "inputWidgets": {},
          "nuid": "635ffb26-ad95-48f0-bad8-f536cf170788"
        },
        "id": "PfQmo_4EAMIy"
      }
    },
    {
      "cell_type": "markdown",
      "source": [
        "### Análisis de valores duplicados"
      ],
      "metadata": {
        "application/vnd.databricks.v1+cell": {
          "title": "",
          "showTitle": false,
          "inputWidgets": {},
          "nuid": "8fd623c3-7d8c-4227-aa76-736f2fc9cb03"
        },
        "id": "Osh90ATTAMIy"
      }
    },
    {
      "cell_type": "code",
      "source": [
        "# Contabilizar filas duplicadas en todas sus columnas empleando los métodos duplicated() y value_counts() en el DataFrames datos_training\n",
        "datos_entrenamietno"
      ],
      "metadata": {
        "application/vnd.databricks.v1+cell": {
          "title": "",
          "showTitle": false,
          "inputWidgets": {},
          "nuid": "91f7106e-ec99-4a2c-b5e0-af7c732caaae"
        },
        "id": "SP77wq4HAMIy"
      },
      "outputs": [],
      "execution_count": null
    },
    {
      "cell_type": "markdown",
      "source": [
        "### Análisis de valores perdidos"
      ],
      "metadata": {
        "application/vnd.databricks.v1+cell": {
          "title": "",
          "showTitle": false,
          "inputWidgets": {},
          "nuid": "c51e9e22-70c2-4b93-ad6e-4a65fe3d1de3"
        },
        "id": "fprprFG_AMIy"
      }
    },
    {
      "cell_type": "code",
      "source": [
        "# Identificar el número de filas con valores perdidos por cada columna con los métodos isnull() y sum() en el DataFrames datos_training\n"
      ],
      "metadata": {
        "application/vnd.databricks.v1+cell": {
          "title": "",
          "showTitle": false,
          "inputWidgets": {},
          "nuid": "79386e2e-ec34-439a-8105-aa1cbd0eeb34"
        },
        "id": "UkvzXJmsAMIy"
      },
      "outputs": [],
      "execution_count": null
    },
    {
      "cell_type": "markdown",
      "source": [
        "### Análisis univariante\n",
        "\n",
        "**Importante:** Ejecutar las instrucciones e interpretar los resultados"
      ],
      "metadata": {
        "application/vnd.databricks.v1+cell": {
          "title": "",
          "showTitle": false,
          "inputWidgets": {},
          "nuid": "5f6a5656-9383-4fc0-8db3-76d7c7882c84"
        },
        "id": "nN7zbJhmAMIy"
      }
    },
    {
      "cell_type": "code",
      "source": [
        "# Analizar las principales estadísticas descriptivas de cada columna en el DataFrame datos_training (usar el método describe)\n",
        "print(datos_entrenamietno.describe())\n",
        "print(datos_prueba.describe())\n"
      ],
      "metadata": {
        "application/vnd.databricks.v1+cell": {
          "title": "",
          "showTitle": false,
          "inputWidgets": {},
          "nuid": "2614ab42-cdd5-4506-acdb-a553d22af5c4"
        },
        "id": "26eragCnAMIy",
        "colab": {
          "base_uri": "https://localhost:8080/"
        },
        "outputId": "e7a36332-a51b-4b85-c0d8-ac16e9367fd4"
      },
      "outputs": [
        {
          "output_type": "stream",
          "name": "stdout",
          "text": [
            "       SeriousDlqin2yrs  RevolvingUtilizationOfUnsecuredLines            age  \\\n",
            "count     150000.000000                         150000.000000  150000.000000   \n",
            "mean           0.066840                              6.048438      52.295207   \n",
            "std            0.249746                            249.755371      14.771866   \n",
            "min            0.000000                              0.000000       0.000000   \n",
            "25%            0.000000                              0.029867      41.000000   \n",
            "50%            0.000000                              0.154181      52.000000   \n",
            "75%            0.000000                              0.559046      63.000000   \n",
            "max            1.000000                          50708.000000     109.000000   \n",
            "\n",
            "       NumberOfTime30-59DaysPastDueNotWorse      DebtRatio  MonthlyIncome  \\\n",
            "count                         150000.000000  150000.000000   1.202690e+05   \n",
            "mean                               0.421033     353.005076   6.670221e+03   \n",
            "std                                4.192781    2037.818523   1.438467e+04   \n",
            "min                                0.000000       0.000000   0.000000e+00   \n",
            "25%                                0.000000       0.175074   3.400000e+03   \n",
            "50%                                0.000000       0.366508   5.400000e+03   \n",
            "75%                                0.000000       0.868254   8.249000e+03   \n",
            "max                               98.000000  329664.000000   3.008750e+06   \n",
            "\n",
            "       NumberOfOpenCreditLinesAndLoans  NumberOfTimes90DaysLate  \\\n",
            "count                    150000.000000            150000.000000   \n",
            "mean                          8.452760                 0.265973   \n",
            "std                           5.145951                 4.169304   \n",
            "min                           0.000000                 0.000000   \n",
            "25%                           5.000000                 0.000000   \n",
            "50%                           8.000000                 0.000000   \n",
            "75%                          11.000000                 0.000000   \n",
            "max                          58.000000                98.000000   \n",
            "\n",
            "       NumberRealEstateLoansOrLines  NumberOfTime60-89DaysPastDueNotWorse  \\\n",
            "count                 150000.000000                         150000.000000   \n",
            "mean                       1.018240                              0.240387   \n",
            "std                        1.129771                              4.155179   \n",
            "min                        0.000000                              0.000000   \n",
            "25%                        0.000000                              0.000000   \n",
            "50%                        1.000000                              0.000000   \n",
            "75%                        2.000000                              0.000000   \n",
            "max                       54.000000                             98.000000   \n",
            "\n",
            "       NumberOfDependents  \n",
            "count       146076.000000  \n",
            "mean             0.757222  \n",
            "std              1.115086  \n",
            "min              0.000000  \n",
            "25%              0.000000  \n",
            "50%              0.000000  \n",
            "75%              1.000000  \n",
            "max             20.000000  \n",
            "       SeriousDlqin2yrs  RevolvingUtilizationOfUnsecuredLines            age  \\\n",
            "count               0.0                         101503.000000  101503.000000   \n",
            "mean                NaN                              5.310000      52.405436   \n",
            "std                 NaN                            196.156039      14.779756   \n",
            "min                 NaN                              0.000000      21.000000   \n",
            "25%                 NaN                              0.030131      41.000000   \n",
            "50%                 NaN                              0.152586      52.000000   \n",
            "75%                 NaN                              0.564225      63.000000   \n",
            "max                 NaN                          21821.000000     104.000000   \n",
            "\n",
            "       NumberOfTime30-59DaysPastDueNotWorse      DebtRatio  MonthlyIncome  \\\n",
            "count                         101503.000000  101503.000000   8.140000e+04   \n",
            "mean                               0.453770     344.475020   6.855036e+03   \n",
            "std                                4.538487    1632.595231   3.650860e+04   \n",
            "min                                0.000000       0.000000   0.000000e+00   \n",
            "25%                                0.000000       0.173423   3.408000e+03   \n",
            "50%                                0.000000       0.364260   5.400000e+03   \n",
            "75%                                0.000000       0.851619   8.200000e+03   \n",
            "max                               98.000000  268326.000000   7.727000e+06   \n",
            "\n",
            "       NumberOfOpenCreditLinesAndLoans  NumberOfTimes90DaysLate  \\\n",
            "count                    101503.000000            101503.000000   \n",
            "mean                          8.453514                 0.296691   \n",
            "std                           5.144100                 4.515859   \n",
            "min                           0.000000                 0.000000   \n",
            "25%                           5.000000                 0.000000   \n",
            "50%                           8.000000                 0.000000   \n",
            "75%                          11.000000                 0.000000   \n",
            "max                          85.000000                98.000000   \n",
            "\n",
            "       NumberRealEstateLoansOrLines  NumberOfTime60-89DaysPastDueNotWorse  \\\n",
            "count                 101503.000000                         101503.000000   \n",
            "mean                       1.013074                              0.270317   \n",
            "std                        1.110253                              4.503578   \n",
            "min                        0.000000                              0.000000   \n",
            "25%                        0.000000                              0.000000   \n",
            "50%                        1.000000                              0.000000   \n",
            "75%                        2.000000                              0.000000   \n",
            "max                       37.000000                             98.000000   \n",
            "\n",
            "       NumberOfDependents  \n",
            "count        98877.000000  \n",
            "mean             0.769046  \n",
            "std              1.136778  \n",
            "min              0.000000  \n",
            "25%              0.000000  \n",
            "50%              0.000000  \n",
            "75%              1.000000  \n",
            "max             43.000000  \n"
          ]
        }
      ],
      "execution_count": 25
    },
    {
      "cell_type": "code",
      "source": [
        "# Realizar un conteo de las categorías en la variable SeriousDlqin2yrs empleando value_counts()\n"
      ],
      "metadata": {
        "application/vnd.databricks.v1+cell": {
          "title": "",
          "showTitle": false,
          "inputWidgets": {},
          "nuid": "4434e8cf-4103-4f00-9e9d-4bdbb310764b"
        },
        "id": "bpp9Rgq4AMIz"
      },
      "outputs": [],
      "execution_count": null
    },
    {
      "cell_type": "markdown",
      "source": [
        "Con el dataframe **datos_training**, realizar el siguiente análisis para la variable `MonthlyIncome`"
      ],
      "metadata": {
        "application/vnd.databricks.v1+cell": {
          "title": "",
          "showTitle": false,
          "inputWidgets": {},
          "nuid": "d3c88aec-2246-452b-9d23-527773ea0e17"
        },
        "id": "CJ20QrJwAMIz"
      }
    },
    {
      "cell_type": "code",
      "source": [
        "ingresos = datos_entrenamietno.MonthlyIncome"
      ],
      "metadata": {
        "application/vnd.databricks.v1+cell": {
          "title": "",
          "showTitle": false,
          "inputWidgets": {},
          "nuid": "109b9d73-1887-4c08-8bcb-5dc2208b58cc"
        },
        "id": "9Dx2kjqkAMIz"
      },
      "outputs": [],
      "execution_count": 26
    },
    {
      "cell_type": "code",
      "source": [
        "# Analizar las principales estadísticas descriptivas de la columna ingresos\n"
      ],
      "metadata": {
        "application/vnd.databricks.v1+cell": {
          "title": "",
          "showTitle": false,
          "inputWidgets": {},
          "nuid": "2c1a0fda-a405-4753-8912-1fb6fbfb3539"
        },
        "id": "PrnkCwtnAMIz"
      },
      "outputs": [],
      "execution_count": null
    },
    {
      "cell_type": "code",
      "source": [
        "# Crear un histograma de la variable ingresos (usar la librería seaborns)\n"
      ],
      "metadata": {
        "application/vnd.databricks.v1+cell": {
          "title": "",
          "showTitle": false,
          "inputWidgets": {},
          "nuid": "803ffe9a-a346-45c8-b20f-00107780d003"
        },
        "id": "dtrsqfE9AMIz"
      },
      "outputs": [],
      "execution_count": null
    },
    {
      "cell_type": "code",
      "source": [
        "# Obtener los deciles de la variable ingresos\n"
      ],
      "metadata": {
        "application/vnd.databricks.v1+cell": {
          "title": "",
          "showTitle": false,
          "inputWidgets": {},
          "nuid": "0013ba78-a35e-498e-94d6-0573ed508d70"
        },
        "id": "_dhkVmXUAMIz"
      },
      "outputs": [],
      "execution_count": null
    },
    {
      "cell_type": "code",
      "source": [
        "# Crear un box-plot la variable ingresos (usar la librería seaborns)\n"
      ],
      "metadata": {
        "application/vnd.databricks.v1+cell": {
          "title": "",
          "showTitle": false,
          "inputWidgets": {},
          "nuid": "0ee46615-fe5c-4148-841f-a7f629e99545"
        },
        "id": "4QyujS5uAMI0"
      },
      "outputs": [],
      "execution_count": null
    },
    {
      "cell_type": "markdown",
      "source": [
        "### Análisis multivariante\n",
        "\n",
        "**Importante:** Ejecutar las instrucciones e interpretar los resultados"
      ],
      "metadata": {
        "application/vnd.databricks.v1+cell": {
          "title": "",
          "showTitle": false,
          "inputWidgets": {},
          "nuid": "273c84bb-856d-4717-afec-0a6211ae33e0"
        },
        "id": "jYI1YPjvAMI1"
      }
    },
    {
      "cell_type": "code",
      "source": [
        "# Agrupar el dataframe datos_training por la variable SeriousDlqin2yrs y emplear como formas de agregación el promedio y la mediana\n"
      ],
      "metadata": {
        "application/vnd.databricks.v1+cell": {
          "title": "",
          "showTitle": false,
          "inputWidgets": {},
          "nuid": "e3cdcef6-f04b-4a42-80bd-524122fa144b"
        },
        "id": "KUzZR8LtAMI1"
      },
      "outputs": [],
      "execution_count": null
    },
    {
      "cell_type": "markdown",
      "source": [
        "Matriz de correlaciones"
      ],
      "metadata": {
        "application/vnd.databricks.v1+cell": {
          "title": "",
          "showTitle": false,
          "inputWidgets": {},
          "nuid": "f138a4b8-a045-4dcf-983a-0093919cea13"
        },
        "id": "NSzs9hgeAMI1"
      }
    },
    {
      "cell_type": "code",
      "source": [
        "# Generar la matriz de correlaciones entre las variables del DataFrame datos_training\n"
      ],
      "metadata": {
        "application/vnd.databricks.v1+cell": {
          "title": "",
          "showTitle": false,
          "inputWidgets": {},
          "nuid": "62c80f3b-8b2f-4865-9ef3-465378675458"
        },
        "id": "ovxlEa1VAMI1"
      },
      "outputs": [],
      "execution_count": null
    },
    {
      "cell_type": "code",
      "source": [
        "# Graficar la matriz de correlaciones\n",
        "plt.figure(figsize=(10,10))\n",
        "sns.heatmap(round(matriz_corr, 2), annot=True, fmt=\".2g\",\n",
        "            cmap = sns.light_palette(\"darkblue\", as_cmap=True))"
      ],
      "metadata": {
        "application/vnd.databricks.v1+cell": {
          "title": "",
          "showTitle": false,
          "inputWidgets": {},
          "nuid": "e0ba681a-e946-492c-ba02-025234c2e037"
        },
        "id": "bhGKQ-qLAMI1"
      },
      "outputs": [],
      "execution_count": null
    },
    {
      "cell_type": "markdown",
      "source": [
        "## Hallazgos a partir del análisis exploratorio de datos"
      ],
      "metadata": {
        "application/vnd.databricks.v1+cell": {
          "title": "",
          "showTitle": false,
          "inputWidgets": {},
          "nuid": "5aca2a5e-b72f-4aff-8897-4e75121eb678"
        },
        "id": "I49uD5OGAMI1"
      }
    },
    {
      "cell_type": "markdown",
      "source": [
        "Documentar los hallazgos identificados:\n",
        "- H1\n",
        "- H2\n",
        "- H3\n",
        "- H4"
      ],
      "metadata": {
        "application/vnd.databricks.v1+cell": {
          "title": "",
          "showTitle": false,
          "inputWidgets": {},
          "nuid": "927de443-57cf-4ae5-a6c9-1ad2396369b1"
        },
        "id": "D9BUDeoxAMI1"
      }
    },
    {
      "cell_type": "markdown",
      "source": [
        "---"
      ],
      "metadata": {
        "id": "EPNoNnOsY1Zx"
      }
    },
    {
      "cell_type": "markdown",
      "source": [
        "## Perfilamiento de datos"
      ],
      "metadata": {
        "id": "a4WDxXCTXNAD"
      }
    },
    {
      "cell_type": "markdown",
      "source": [
        "**Introducción:**\n",
        "El perfilamiento de datos es **el proceso de revisión exhaustiva de las fuentes de información**, la comprensión de su estructura, contenido e interrelaciones, identificando su potencial o problemáticas para futuros proyectos. Consta de diferentes **técnicas estadísticas** que proporcionan información sobre las **características cualitativas de los datos**, siendo unos de sus objetivos principales el descubrir y validar los metadatos.\n",
        "\n",
        "El perfilamiento ayuda a descubrir, comprender y organizar los datos, respondiendo las siguientes preguntas podremos visibilizar como estamos gestionando los datos de nuestra organización.\n",
        "\n",
        "* ¿Los datos están completos?, ¿Existen valores blancos o nulos?\n",
        "* ¿Los datos son únicos?, ¿Cuántos valores distintos existen?, ¿Los datos están duplicados?\n",
        "* ¿Existe algún patrón anómalo?, ¿Cuál es la distribución de patrones en los datos?, ¿Son los patrones esperados?\n",
        "* ¿Cuáles son los valores: máximo, mínimo y promedio?, ¿Son los rangos esperados?\n"
      ],
      "metadata": {
        "id": "Xx76WX1QYb8a"
      }
    },
    {
      "cell_type": "markdown",
      "source": [
        "### Perfilamiento de datos con Python\n",
        "\n",
        "Utilizaremos el paquete `pandas-profiling` de Python, el cuál agrupa varias herramientas para la exploración de datos, y podemos generar un reporte consolidado en formato HTML *(HTML5 & CSS3)* con los resultados del análisis de la fuente de datos desde un `DataFrame` de `pandas`.\n",
        "<br>\n",
        "\n",
        "Para mayor detalle del paquete `pandas-profiling` (instalación, uso avanzado, dependencias): [*\"Pandas Profiling Package\"*](https://github.com/pandas-profiling/pandas-profiling)"
      ],
      "metadata": {
        "id": "mtwzU4VcYvrK"
      }
    },
    {
      "cell_type": "markdown",
      "source": [
        "Se requiere instalar la librería para el perfilamiento de datos ```pandas_profiling==2.7.1```"
      ],
      "metadata": {
        "id": "7_57XUCeYOPz"
      }
    },
    {
      "cell_type": "code",
      "source": [
        "!pip install pandas_profiling==2.7.1"
      ],
      "metadata": {
        "id": "nwHGS2zEWJLk"
      },
      "execution_count": null,
      "outputs": []
    },
    {
      "cell_type": "code",
      "source": [
        "from pandas_profiling import ProfileReport\n",
        "reporte_perfilamiento = ProfileReport(datos_training)\n",
        "reporte_perfilamiento"
      ],
      "metadata": {
        "id": "2qv5Tx7lWArk"
      },
      "execution_count": null,
      "outputs": []
    },
    {
      "cell_type": "code",
      "source": [
        "reporte_perfilamiento.to_file(\"./Reporte_datos_entrenamiento.html\")"
      ],
      "metadata": {
        "id": "3fJvosOzXdhS"
      },
      "execution_count": null,
      "outputs": []
    },
    {
      "cell_type": "markdown",
      "source": [
        "### Fin"
      ],
      "metadata": {
        "id": "-UUjpFuWY7ax"
      }
    },
    {
      "cell_type": "markdown",
      "source": [
        "\n",
        "\n",
        "<div style=\"text-align: center; line-height: 0; padding-top: 9px;\">\n",
        "  <img src=\"https://storage.googleapis.com/datasets-academy/public-img/notebooks/headers/databits-footer-notebook.png\" alt=\"Databricks Learning\" style=\"width: 100%;\">\n",
        "</div>"
      ],
      "metadata": {
        "application/vnd.databricks.v1+cell": {
          "title": "",
          "showTitle": false,
          "inputWidgets": {},
          "nuid": "d93aefbb-213d-4265-85b0-8b313a7e7dbf"
        },
        "id": "BHF_bhyxAMI1"
      }
    }
  ],
  "metadata": {
    "kernelspec": {
      "display_name": "Python 3",
      "language": "python",
      "name": "python3"
    },
    "language_info": {
      "mimetype": "text/x-python",
      "name": "python",
      "pygments_lexer": "ipython3",
      "codemirror_mode": {
        "name": "ipython",
        "version": 3
      },
      "version": "3.7.6",
      "nbconvert_exporter": "python",
      "file_extension": ".py"
    },
    "toc": {
      "title_sidebar": "Contents",
      "nav_menu": {},
      "sideBar": true,
      "number_sections": true,
      "skip_h1_title": false,
      "base_numbering": 1,
      "toc_cell": false,
      "toc_position": {},
      "toc_section_display": true,
      "toc_window_display": false,
      "title_cell": "Table of Contents"
    },
    "application/vnd.databricks.v1+notebook": {
      "notebookName": "01 Proyecto final - Fase 1 (Resuelto)",
      "dashboards": [],
      "notebookMetadata": {
        "pythonIndentUnit": 2
      },
      "language": "python",
      "widgets": {},
      "notebookOrigID": 4456755592657749
    },
    "colab": {
      "provenance": [],
      "collapsed_sections": [],
      "include_colab_link": true
    }
  },
  "nbformat": 4,
  "nbformat_minor": 0
}