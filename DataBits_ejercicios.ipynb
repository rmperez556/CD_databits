{
  "nbformat": 4,
  "nbformat_minor": 0,
  "metadata": {
    "colab": {
      "provenance": [],
      "authorship_tag": "ABX9TyO3SIgunRq+dmTyXAVyxr5I",
      "include_colab_link": true
    },
    "kernelspec": {
      "name": "python3",
      "display_name": "Python 3"
    },
    "language_info": {
      "name": "python"
    }
  },
  "cells": [
    {
      "cell_type": "markdown",
      "metadata": {
        "id": "view-in-github",
        "colab_type": "text"
      },
      "source": [
        "<a href=\"https://colab.research.google.com/github/rmperez556/CD_databits/blob/main/DataBits_ejercicios.ipynb\" target=\"_parent\"><img src=\"https://colab.research.google.com/assets/colab-badge.svg\" alt=\"Open In Colab\"/></a>"
      ]
    },
    {
      "cell_type": "code",
      "execution_count": 1,
      "metadata": {
        "colab": {
          "base_uri": "https://localhost:8080/"
        },
        "id": "HzJZNvk6r1Hz",
        "outputId": "72cd4646-025c-4917-854c-c32e36a6ce24"
      },
      "outputs": [
        {
          "output_type": "execute_result",
          "data": {
            "text/plain": [
              "{'mazda': 'manual',\n",
              " 'kia': 'automatico',\n",
              " 'fiat': 'manual',\n",
              " 'toyota': 'manual',\n",
              " 'ford': 'automatico'}"
            ]
          },
          "metadata": {},
          "execution_count": 1
        }
      ],
      "source": [
        "marca_transmision = {'mazda' : 'manual' , 'kia' : 'automatico' , 'fiat' : 'manual', 'toyota' : 'manual' , 'ford' : 'automatico'}\n",
        "marca_transmision"
      ]
    },
    {
      "cell_type": "code",
      "source": [
        "marca_transmision.update({'ferrari':'manual'})\n",
        "marca_transmision"
      ],
      "metadata": {
        "colab": {
          "base_uri": "https://localhost:8080/"
        },
        "id": "grOAZFpcr9Qj",
        "outputId": "eb23cd89-c80a-45b4-de6f-13eb90c3649b"
      },
      "execution_count": 2,
      "outputs": [
        {
          "output_type": "execute_result",
          "data": {
            "text/plain": [
              "{'mazda': 'manual',\n",
              " 'kia': 'automatico',\n",
              " 'fiat': 'manual',\n",
              " 'toyota': 'manual',\n",
              " 'ford': 'automatico',\n",
              " 'ferrari': 'manual'}"
            ]
          },
          "metadata": {},
          "execution_count": 2
        }
      ]
    },
    {
      "cell_type": "code",
      "source": [
        "marca_transmision.pop('kia')\n",
        "marca_transmision"
      ],
      "metadata": {
        "colab": {
          "base_uri": "https://localhost:8080/"
        },
        "id": "RKAW9vnIr_zx",
        "outputId": "d551dc65-2ccb-49e5-f610-37c96562dcf6"
      },
      "execution_count": 3,
      "outputs": [
        {
          "output_type": "execute_result",
          "data": {
            "text/plain": [
              "{'mazda': 'manual',\n",
              " 'fiat': 'manual',\n",
              " 'toyota': 'manual',\n",
              " 'ford': 'automatico',\n",
              " 'ferrari': 'manual'}"
            ]
          },
          "metadata": {},
          "execution_count": 3
        }
      ]
    },
    {
      "cell_type": "code",
      "source": [
        "marca_transmision['toyota'] = 350\n",
        "marca_transmision"
      ],
      "metadata": {
        "colab": {
          "base_uri": "https://localhost:8080/"
        },
        "id": "crnE0yJMsCTQ",
        "outputId": "2cc92c2c-d56a-45f4-efca-6c2afd462a73"
      },
      "execution_count": 4,
      "outputs": [
        {
          "output_type": "execute_result",
          "data": {
            "text/plain": [
              "{'mazda': 'manual',\n",
              " 'fiat': 'manual',\n",
              " 'toyota': 350,\n",
              " 'ford': 'automatico',\n",
              " 'ferrari': 'manual'}"
            ]
          },
          "metadata": {},
          "execution_count": 4
        }
      ]
    },
    {
      "cell_type": "code",
      "source": [
        "marca_transmision.get('ferrari')"
      ],
      "metadata": {
        "colab": {
          "base_uri": "https://localhost:8080/",
          "height": 36
        },
        "id": "6JQHPqMKsEVx",
        "outputId": "8c081172-e0ef-4c5f-9aa2-85e7b225347e"
      },
      "execution_count": 5,
      "outputs": [
        {
          "output_type": "execute_result",
          "data": {
            "text/plain": [
              "'manual'"
            ],
            "application/vnd.google.colaboratory.intrinsic+json": {
              "type": "string"
            }
          },
          "metadata": {},
          "execution_count": 5
        }
      ]
    }
  ]
}